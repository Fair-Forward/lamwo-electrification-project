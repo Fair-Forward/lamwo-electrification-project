{
  "nbformat": 4,
  "nbformat_minor": 0,
  "metadata": {
    "colab": {
      "provenance": [],
      "collapsed_sections": []
    },
    "kernelspec": {
      "display_name": "Python 3",
      "name": "python3"
    },
    "language_info": {
      "name": "python"
    }
  },
  "cells": [
    {
      "cell_type": "code",
      "metadata": {
        "id": "yh4cXs4VD8_D"
      },
      "source": [
        "#@title Imports\n",
        "\n",
        "%%capture\n",
        "!pip install rtree\n",
        "!pip install pygeos\n",
        "!pip install geopandas\n",
        "!pip install rasterstats\n",
        "import ee\n",
        "import numpy as np\n",
        "import pandas as pd\n",
        "import geopandas as gpd\n",
        "import os\n",
        "from google.colab import drive\n",
        "from rasterstats import zonal_stats\n",
        "import rasterio\n",
        "from pyproj import CRS\n",
        "from sklearn import neighbors\n",
        "\n",
        "%pylab inline"
      ],
      "execution_count": null,
      "outputs": []
    },
    {
      "cell_type": "markdown",
      "source": [
        "Load and save shapefiles in a Drive folder, which also needs to be authenticated."
      ],
      "metadata": {
        "id": "WWlBah4RMPk6"
      }
    },
    {
      "cell_type": "code",
      "source": [
        "# @title Mount google drive\n",
        "drive.mount('/gdrive')"
      ],
      "metadata": {
        "colab": {
          "base_uri": "https://localhost:8080/"
        },
        "id": "H8i2e8F_KW85",
        "outputId": "b3c333ac-436d-41c6-b1b7-b9d07bc25a87"
      },
      "execution_count": null,
      "outputs": [
        {
          "output_type": "stream",
          "name": "stdout",
          "text": [
            "Mounted at /gdrive\n"
          ]
        }
      ]
    },
    {
      "cell_type": "code",
      "source": [
        "# Copy data to local cache\n",
        "!cp -r /gdrive/'Shared drives'/'Sunbird AI'/Projects/'GIZ Mini-grid Identification'/Data .\n"
      ],
      "metadata": {
        "colab": {
          "base_uri": "https://localhost:8080/"
        },
        "id": "QAidPrhxL1xH",
        "outputId": "bb207edd-330c-4adc-8460-c4fb8453523a"
      },
      "execution_count": null,
      "outputs": [
        {
          "output_type": "stream",
          "name": "stdout",
          "text": [
            "cp: cannot open '/gdrive/Shared drives/Sunbird AI/Projects/GIZ Mini-grid Identification/Data/Sources of data.gdoc' for reading: Operation not supported\n"
          ]
        }
      ]
    },
    {
      "cell_type": "code",
      "source": [
        "drive_data_absolute_dir = './Data/'"
      ],
      "metadata": {
        "id": "WPjP7v4kN13o"
      },
      "execution_count": null,
      "outputs": []
    },
    {
      "cell_type": "markdown",
      "source": [
        "Load shapefile containing the villages of interest in the study."
      ],
      "metadata": {
        "id": "AuUgQ0qUMYv2"
      }
    },
    {
      "cell_type": "code",
      "source": [
        "villages = gpd.read_file('Data/Sunbird_Lamwo/Village_Boundaries_UBOS_2020.shp')"
      ],
      "metadata": {
        "id": "ePwvDcN1PRzN"
      },
      "execution_count": null,
      "outputs": []
    },
    {
      "cell_type": "code",
      "source": [
        "villages.head(3)"
      ],
      "metadata": {
        "colab": {
          "base_uri": "https://localhost:8080/",
          "height": 396
        },
        "id": "nDT-8lfrQPTF",
        "outputId": "8b118f7a-8176-42d8-aa4c-50a5831faf4c"
      },
      "execution_count": null,
      "outputs": [
        {
          "output_type": "execute_result",
          "data": {
            "text/plain": [
              "        ID  V_OBJECTID    Shape_Leng    Shape_Area addr_dname addr_cname  \\\n",
              "0  5500895       32615   1540.032051  1.485227e+05      Lamwo      Lamwo   \n",
              "1  5500896       32616  42482.085300  8.355897e+07      Lamwo      Lamwo   \n",
              "2  5500897       32617   6762.484374  2.436672e+06      Lamwo      Lamwo   \n",
              "\n",
              "  addr_sname addr_pname    addr_vname addr_rname REA_PROJEC NRECA_MP  \\\n",
              "0      Agoro    Ngacino  Special Area   Northern          F        F   \n",
              "1      Agoro    Ngacino  Grazing Land   Northern          F        F   \n",
              "2      Agoro    Ngacino         Irumo   Northern          F        F   \n",
              "\n",
              "                                            geometry  \n",
              "0  POLYGON ((33.02180 3.80975, 33.02515 3.80996, ...  \n",
              "1  POLYGON ((32.96090 3.84951, 32.97234 3.85664, ...  \n",
              "2  POLYGON ((33.00190 3.82770, 33.00515 3.83096, ...  "
            ],
            "text/html": [
              "\n",
              "  <div id=\"df-13a993a5-9f01-4f30-bcc8-d7ab46954acc\">\n",
              "    <div class=\"colab-df-container\">\n",
              "      <div>\n",
              "<style scoped>\n",
              "    .dataframe tbody tr th:only-of-type {\n",
              "        vertical-align: middle;\n",
              "    }\n",
              "\n",
              "    .dataframe tbody tr th {\n",
              "        vertical-align: top;\n",
              "    }\n",
              "\n",
              "    .dataframe thead th {\n",
              "        text-align: right;\n",
              "    }\n",
              "</style>\n",
              "<table border=\"1\" class=\"dataframe\">\n",
              "  <thead>\n",
              "    <tr style=\"text-align: right;\">\n",
              "      <th></th>\n",
              "      <th>ID</th>\n",
              "      <th>V_OBJECTID</th>\n",
              "      <th>Shape_Leng</th>\n",
              "      <th>Shape_Area</th>\n",
              "      <th>addr_dname</th>\n",
              "      <th>addr_cname</th>\n",
              "      <th>addr_sname</th>\n",
              "      <th>addr_pname</th>\n",
              "      <th>addr_vname</th>\n",
              "      <th>addr_rname</th>\n",
              "      <th>REA_PROJEC</th>\n",
              "      <th>NRECA_MP</th>\n",
              "      <th>geometry</th>\n",
              "    </tr>\n",
              "  </thead>\n",
              "  <tbody>\n",
              "    <tr>\n",
              "      <th>0</th>\n",
              "      <td>5500895</td>\n",
              "      <td>32615</td>\n",
              "      <td>1540.032051</td>\n",
              "      <td>1.485227e+05</td>\n",
              "      <td>Lamwo</td>\n",
              "      <td>Lamwo</td>\n",
              "      <td>Agoro</td>\n",
              "      <td>Ngacino</td>\n",
              "      <td>Special Area</td>\n",
              "      <td>Northern</td>\n",
              "      <td>F</td>\n",
              "      <td>F</td>\n",
              "      <td>POLYGON ((33.02180 3.80975, 33.02515 3.80996, ...</td>\n",
              "    </tr>\n",
              "    <tr>\n",
              "      <th>1</th>\n",
              "      <td>5500896</td>\n",
              "      <td>32616</td>\n",
              "      <td>42482.085300</td>\n",
              "      <td>8.355897e+07</td>\n",
              "      <td>Lamwo</td>\n",
              "      <td>Lamwo</td>\n",
              "      <td>Agoro</td>\n",
              "      <td>Ngacino</td>\n",
              "      <td>Grazing Land</td>\n",
              "      <td>Northern</td>\n",
              "      <td>F</td>\n",
              "      <td>F</td>\n",
              "      <td>POLYGON ((32.96090 3.84951, 32.97234 3.85664, ...</td>\n",
              "    </tr>\n",
              "    <tr>\n",
              "      <th>2</th>\n",
              "      <td>5500897</td>\n",
              "      <td>32617</td>\n",
              "      <td>6762.484374</td>\n",
              "      <td>2.436672e+06</td>\n",
              "      <td>Lamwo</td>\n",
              "      <td>Lamwo</td>\n",
              "      <td>Agoro</td>\n",
              "      <td>Ngacino</td>\n",
              "      <td>Irumo</td>\n",
              "      <td>Northern</td>\n",
              "      <td>F</td>\n",
              "      <td>F</td>\n",
              "      <td>POLYGON ((33.00190 3.82770, 33.00515 3.83096, ...</td>\n",
              "    </tr>\n",
              "  </tbody>\n",
              "</table>\n",
              "</div>\n",
              "      <button class=\"colab-df-convert\" onclick=\"convertToInteractive('df-13a993a5-9f01-4f30-bcc8-d7ab46954acc')\"\n",
              "              title=\"Convert this dataframe to an interactive table.\"\n",
              "              style=\"display:none;\">\n",
              "        \n",
              "  <svg xmlns=\"http://www.w3.org/2000/svg\" height=\"24px\"viewBox=\"0 0 24 24\"\n",
              "       width=\"24px\">\n",
              "    <path d=\"M0 0h24v24H0V0z\" fill=\"none\"/>\n",
              "    <path d=\"M18.56 5.44l.94 2.06.94-2.06 2.06-.94-2.06-.94-.94-2.06-.94 2.06-2.06.94zm-11 1L8.5 8.5l.94-2.06 2.06-.94-2.06-.94L8.5 2.5l-.94 2.06-2.06.94zm10 10l.94 2.06.94-2.06 2.06-.94-2.06-.94-.94-2.06-.94 2.06-2.06.94z\"/><path d=\"M17.41 7.96l-1.37-1.37c-.4-.4-.92-.59-1.43-.59-.52 0-1.04.2-1.43.59L10.3 9.45l-7.72 7.72c-.78.78-.78 2.05 0 2.83L4 21.41c.39.39.9.59 1.41.59.51 0 1.02-.2 1.41-.59l7.78-7.78 2.81-2.81c.8-.78.8-2.07 0-2.86zM5.41 20L4 18.59l7.72-7.72 1.47 1.35L5.41 20z\"/>\n",
              "  </svg>\n",
              "      </button>\n",
              "      \n",
              "  <style>\n",
              "    .colab-df-container {\n",
              "      display:flex;\n",
              "      flex-wrap:wrap;\n",
              "      gap: 12px;\n",
              "    }\n",
              "\n",
              "    .colab-df-convert {\n",
              "      background-color: #E8F0FE;\n",
              "      border: none;\n",
              "      border-radius: 50%;\n",
              "      cursor: pointer;\n",
              "      display: none;\n",
              "      fill: #1967D2;\n",
              "      height: 32px;\n",
              "      padding: 0 0 0 0;\n",
              "      width: 32px;\n",
              "    }\n",
              "\n",
              "    .colab-df-convert:hover {\n",
              "      background-color: #E2EBFA;\n",
              "      box-shadow: 0px 1px 2px rgba(60, 64, 67, 0.3), 0px 1px 3px 1px rgba(60, 64, 67, 0.15);\n",
              "      fill: #174EA6;\n",
              "    }\n",
              "\n",
              "    [theme=dark] .colab-df-convert {\n",
              "      background-color: #3B4455;\n",
              "      fill: #D2E3FC;\n",
              "    }\n",
              "\n",
              "    [theme=dark] .colab-df-convert:hover {\n",
              "      background-color: #434B5C;\n",
              "      box-shadow: 0px 1px 3px 1px rgba(0, 0, 0, 0.15);\n",
              "      filter: drop-shadow(0px 1px 2px rgba(0, 0, 0, 0.3));\n",
              "      fill: #FFFFFF;\n",
              "    }\n",
              "  </style>\n",
              "\n",
              "      <script>\n",
              "        const buttonEl =\n",
              "          document.querySelector('#df-13a993a5-9f01-4f30-bcc8-d7ab46954acc button.colab-df-convert');\n",
              "        buttonEl.style.display =\n",
              "          google.colab.kernel.accessAllowed ? 'block' : 'none';\n",
              "\n",
              "        async function convertToInteractive(key) {\n",
              "          const element = document.querySelector('#df-13a993a5-9f01-4f30-bcc8-d7ab46954acc');\n",
              "          const dataTable =\n",
              "            await google.colab.kernel.invokeFunction('convertToInteractive',\n",
              "                                                     [key], {});\n",
              "          if (!dataTable) return;\n",
              "\n",
              "          const docLinkHtml = 'Like what you see? Visit the ' +\n",
              "            '<a target=\"_blank\" href=https://colab.research.google.com/notebooks/data_table.ipynb>data table notebook</a>'\n",
              "            + ' to learn more about interactive tables.';\n",
              "          element.innerHTML = '';\n",
              "          dataTable['output_type'] = 'display_data';\n",
              "          await google.colab.output.renderOutput(dataTable, element);\n",
              "          const docLink = document.createElement('div');\n",
              "          docLink.innerHTML = docLinkHtml;\n",
              "          element.appendChild(docLink);\n",
              "        }\n",
              "      </script>\n",
              "    </div>\n",
              "  </div>\n",
              "  "
            ]
          },
          "metadata": {},
          "execution_count": 165
        }
      ]
    },
    {
      "cell_type": "markdown",
      "source": [
        "#NES status of villages\n",
        "\n",
        "Get the status of each village according to the National Electrification Strategy. Possible statuses can be:\n",
        "\n",
        "- Currently connected to grid\n",
        "- Planned extension to grid\n",
        "- Current minigrid site\n",
        "- Planned minigrid site\n",
        "- Planned solar home system"
      ],
      "metadata": {
        "id": "xt0hvbqlUn32"
      }
    },
    {
      "cell_type": "code",
      "source": [
        "def read_shapefile(path_in_drive):\n",
        "  gdf = gpd.read_file(\n",
        "      os.path.join(drive_data_absolute_dir, path_in_drive)\n",
        "  ).to_crs('EPSG:4326')\n",
        "  return gdf\n",
        "\n",
        "# Existing minigrid sites\n",
        "existing_minigrid_sites = read_shapefile(\n",
        "    'Sunbird_Lamwo/Existing_MG_Sites_REA_2021.shp')\n",
        "villages['existing_minigrid'] = villages.ID.isin(\n",
        "    villages.sjoin(existing_minigrid_sites, how='right').ID_left)\n",
        "\n",
        "# Candidate minigrid sites\n",
        "candidate_minigrid_sites = read_shapefile(\n",
        "    'Sunbird_Lamwo/Candidates_Off-Grid_MG_GEOSIM.shp')\n",
        "villages['candidate_minigrid'] = villages.ID.isin(\n",
        "    villages.sjoin(candidate_minigrid_sites, how='right').ID_left)  \n",
        "\n",
        "# Candidate solar home system sites\n",
        "candidate_solar_home_system_sites = read_shapefile(\n",
        "    'Sunbird_Lamwo/Candidates_SHS_GEOSIM.shp')\n",
        "villages['candidate_solar_home_system'] = villages.ID.isin(\n",
        "    villages.sjoin(candidate_solar_home_system_sites, how='right').ID_left)\n",
        "\n",
        "# Candidate grid extension villages\n",
        "candidate_grid_extension_villages = read_shapefile(\n",
        "    'Sunbird_Lamwo/Grid_Consolidated_Existing-GEOSIM.shp')\n",
        "villages['candidate_grid_extension'] = villages.ID.isin(\n",
        "    villages.sjoin(candidate_grid_extension_villages, how='right').ID_left)"
      ],
      "metadata": {
        "id": "DS2pmu3yUx4B"
      },
      "execution_count": null,
      "outputs": []
    },
    {
      "cell_type": "code",
      "source": [
        "villages.shape"
      ],
      "metadata": {
        "colab": {
          "base_uri": "https://localhost:8080/"
        },
        "id": "nxPVvMspOguh",
        "outputId": "d7a72291-a463-4855-c191-626805883eee"
      },
      "execution_count": null,
      "outputs": [
        {
          "output_type": "execute_result",
          "data": {
            "text/plain": [
              "(411, 17)"
            ]
          },
          "metadata": {},
          "execution_count": 167
        }
      ]
    },
    {
      "cell_type": "markdown",
      "source": [
        "# Wind and vegetation data\n",
        "\n",
        "For vegetation, we compute the minimum vegetation index over a 12 month period (to account for areas under cultivation), and compute a national percentile.\n",
        "\n",
        "We use wind data from [ERA5-Land](https://developers.google.com/earth-engine/datasets/catalog/ECMWF_ERA5_LAND_HOURLY) which gives hourly data at 11km resolution, three months behind real time."
      ],
      "metadata": {
        "id": "oczkIKQY-gIC"
      }
    },
    {
      "cell_type": "markdown",
      "source": [
        "We access remote sensing data from Earth Engine, and need to authenticate to the service."
      ],
      "metadata": {
        "id": "ZUH_5wIRMJ9I"
      }
    },
    {
      "cell_type": "code",
      "metadata": {
        "id": "Q45Nvse3EJgc",
        "colab": {
          "base_uri": "https://localhost:8080/"
        },
        "outputId": "b4467be1-b2d9-4882-f959-d343706d4d36"
      },
      "source": [
        "ee.Authenticate()\n",
        "ee.Initialize()"
      ],
      "execution_count": null,
      "outputs": [
        {
          "output_type": "stream",
          "name": "stdout",
          "text": [
            "To authorize access needed by Earth Engine, open the following URL in a web browser and follow the instructions. If the web browser does not start automatically, please manually browse the URL below.\n",
            "\n",
            "    https://code.earthengine.google.com/client-auth?scopes=https%3A//www.googleapis.com/auth/earthengine%20https%3A//www.googleapis.com/auth/devstorage.full_control&request_id=1ukQXgpj073HfURfE9NtI-YXKnmgJFaPyIoCumBImds&tc=3BN9IWlsfD1X5cKQ09k73nloZzEXPHM7Zo02sMkKWAY&cc=ewmmdEGTx42KK4h8_S67yKC3CASd9127HI5om4t94l4\n",
            "\n",
            "The authorization workflow will generate a code, which you should paste in the box below.\n",
            "Enter verification code: 4/1AdQt8qgLRoHKom6bPOfeLTYACjVy04YTbcVZoxe_inceXXOH_CLswNW5ASU\n",
            "\n",
            "Successfully saved authorization token.\n"
          ]
        }
      ]
    },
    {
      "cell_type": "code",
      "source": [
        "country = read_shapefile('administrative areas/UGA Country.gpkg')\n",
        "min_lon, min_lat, max_lon, max_lat = country.geometry[0].bounds\n",
        "region = ee.Geometry.Rectangle(min_lon, min_lat, max_lon, max_lat)"
      ],
      "metadata": {
        "id": "qTEYtfe5deM_"
      },
      "execution_count": null,
      "outputs": []
    },
    {
      "cell_type": "code",
      "source": [
        "collection = 'ECMWF/ERA5_LAND/HOURLY'\n",
        "\n",
        "def wind_speed(image):\n",
        "  u_squared = image.select(['u_component_of_wind_10m']).pow(\n",
        "      ee.Image.constant(2))\n",
        "  v_squared = image.select(['v_component_of_wind_10m']).pow(\n",
        "      ee.Image.constant(2))\n",
        "  sum_squared = u_squared.add(v_squared)\n",
        "  speed = sum_squared.pow(ee.Image.constant(0.5))\n",
        "  return speed\n",
        "\n",
        "dataset = (ee.ImageCollection(collection)\n",
        "           .filter(ee.Filter.date('2021-05-01', '2022-05-01'))\n",
        "           .select(['u_component_of_wind_10m', 'v_component_of_wind_10m'])\n",
        "           .map(wind_speed)\n",
        "           .mean())\n",
        "\n",
        "image = dataset.clipToBoundsAndScale(geometry=region, scale=10_000)\n",
        "url = ee.Image.getDownloadURL(image, params={'format': 'GEO_TIFF'})\n",
        "\n",
        "!wget {url} -O wind_speed.tif"
      ],
      "metadata": {
        "colab": {
          "base_uri": "https://localhost:8080/"
        },
        "id": "1gKvTCT7eqOO",
        "outputId": "517e97eb-2443-4be8-c49a-f79a26b9f116"
      },
      "execution_count": null,
      "outputs": [
        {
          "output_type": "stream",
          "name": "stdout",
          "text": [
            "--2022-09-07 22:20:45--  https://earthengine.googleapis.com/v1alpha/projects/earthengine-legacy/thumbnails/f2d85abe9e0c86974ac37f6575ed8c4c-02c422b3871d3c18a656378680b9a03b:getPixels\n",
            "Resolving earthengine.googleapis.com (earthengine.googleapis.com)... 74.125.139.95, 2607:f8b0:400c:c0a::5f\n",
            "Connecting to earthengine.googleapis.com (earthengine.googleapis.com)|74.125.139.95|:443... connected.\n",
            "HTTP request sent, awaiting response... 200 OK\n",
            "Length: 26837 (26K) [image/tiff]\n",
            "Saving to: ‘wind_speed.tif’\n",
            "\n",
            "wind_speed.tif      100%[===================>]  26.21K  --.-KB/s    in 0.02s   \n",
            "\n",
            "2022-09-07 22:22:51 (1.15 MB/s) - ‘wind_speed.tif’ saved [26837/26837]\n",
            "\n"
          ]
        }
      ]
    },
    {
      "cell_type": "code",
      "source": [
        "villages['mean_wind_speed'] = pd.DataFrame(\n",
        "    zonal_stats(\n",
        "        vectors=villages['geometry'], \n",
        "        raster='wind_speed.tif', \n",
        "        nodata=-1,\n",
        "        stats='mean',\n",
        "        all_touched=True\n",
        "    )\n",
        ")['mean']"
      ],
      "metadata": {
        "id": "gOigZnufifl4"
      },
      "execution_count": null,
      "outputs": []
    },
    {
      "cell_type": "code",
      "source": [
        "villages.plot(column='mean_wind_speed')"
      ],
      "metadata": {
        "colab": {
          "base_uri": "https://localhost:8080/",
          "height": 282
        },
        "id": "VKu4buT7DR6c",
        "outputId": "2ffdf4dc-662e-4599-8004-b54313868928"
      },
      "execution_count": null,
      "outputs": [
        {
          "output_type": "execute_result",
          "data": {
            "text/plain": [
              "<matplotlib.axes._subplots.AxesSubplot at 0x7fd5cab98150>"
            ]
          },
          "metadata": {},
          "execution_count": 171
        },
        {
          "output_type": "display_data",
          "data": {
            "text/plain": [
              "<Figure size 432x288 with 1 Axes>"
            ],
            "image/png": "[encoded data removed]"
          },
          "metadata": {
            "needs_background": "light"
          }
        }
      ]
    },
    {
      "cell_type": "markdown",
      "source": [
        "Vegetation index data"
      ],
      "metadata": {
        "id": "E0WW6xgeBV3X"
      }
    },
    {
      "cell_type": "code",
      "source": [
        "# MOD13A2.061 Terra Vegetation Indices 16-Day Global 1km\n",
        "collection = 'MODIS/061/MOD13A2' \n",
        "\n",
        "dataset = (ee.ImageCollection(collection)\n",
        "           .filter(ee.Filter.date('2021-06-01', '2022-06-01'))\n",
        "           .select('NDVI')\n",
        "           .min())\n",
        "\n",
        "image = dataset.clipToBoundsAndScale(geometry=region, scale=10_000)\n",
        "url = ee.Image.getDownloadURL(image, params={'format': 'GEO_TIFF'})\n",
        "\n",
        "!wget {url} -O ndvi.tif"
      ],
      "metadata": {
        "colab": {
          "base_uri": "https://localhost:8080/"
        },
        "id": "vg8sGEnS2t1E",
        "outputId": "cbccf02a-0b29-4dfc-cce4-c759e3f91dcb"
      },
      "execution_count": null,
      "outputs": [
        {
          "output_type": "stream",
          "name": "stdout",
          "text": [
            "--2022-09-07 18:37:44--  https://earthengine.googleapis.com/v1alpha/projects/earthengine-legacy/thumbnails/b8c68e2c7d9988928e485e6580f1c6e8-f08229fcbaca3b0f8bb768b72df5f7dc:getPixels\n",
            "Resolving earthengine.googleapis.com (earthengine.googleapis.com)... 142.251.162.95, 2607:f8b0:400c:c32::5f\n",
            "Connecting to earthengine.googleapis.com (earthengine.googleapis.com)|142.251.162.95|:443... connected.\n",
            "HTTP request sent, awaiting response... 200 OK\n",
            "Length: 8078 (7.9K) [image/tiff]\n",
            "Saving to: ‘ndvi.tif’\n",
            "\n",
            "ndvi.tif            100%[===================>]   7.89K  --.-KB/s    in 0s      \n",
            "\n",
            "2022-09-07 18:37:44 (57.4 MB/s) - ‘ndvi.tif’ saved [8078/8078]\n",
            "\n"
          ]
        }
      ]
    },
    {
      "cell_type": "code",
      "source": [
        "villages['vegetation_index'] = pd.DataFrame(\n",
        "    zonal_stats(\n",
        "        vectors=villages['geometry'], \n",
        "        raster='ndvi.tif', \n",
        "        nodata=-1,\n",
        "        stats='median',\n",
        "        all_touched=True\n",
        "    )\n",
        ")['median']"
      ],
      "metadata": {
        "id": "xZd2pytT1WCT"
      },
      "execution_count": null,
      "outputs": []
    },
    {
      "cell_type": "code",
      "source": [
        "villages.plot(column='vegetation_index')"
      ],
      "metadata": {
        "colab": {
          "base_uri": "https://localhost:8080/",
          "height": 282
        },
        "id": "kNFgRUNmTIdt",
        "outputId": "3ff4e0a2-e873-4ee4-cc94-8a9b45dc6b03"
      },
      "execution_count": null,
      "outputs": [
        {
          "output_type": "execute_result",
          "data": {
            "text/plain": [
              "<matplotlib.axes._subplots.AxesSubplot at 0x7fd5d08d1d50>"
            ]
          },
          "metadata": {},
          "execution_count": 173
        },
        {
          "output_type": "display_data",
          "data": {
            "text/plain": [
              "<Figure size 432x288 with 1 Axes>"
            ],
            "image/png": "[encoded data removed]"
          },
          "metadata": {
            "needs_background": "light"
          }
        }
      ]
    },
    {
      "cell_type": "markdown",
      "source": [
        "Get the protected areas within each village, so that we aren't recommending biomass as a fuel source from forest reserves and such like."
      ],
      "metadata": {
        "id": "u2cdJghT0fzZ"
      }
    },
    {
      "cell_type": "code",
      "source": [
        "protected_areas = read_shapefile(\n",
        "    'protected areas/WDPA_WDOECM_Aug2022_Public_UGA.gdb')\n",
        "protected_areas['full_name'] = protected_areas.apply(\n",
        "    lambda row: row['NAME'] + ' ' + row['DESIG'], axis=1)\n",
        "\n",
        "villages['contains_protected_area'] = villages.geometry.apply(\n",
        "    lambda x: x.intersects(protected_areas.geometry.any()))\n",
        "join = villages.sjoin(protected_areas, how='right')\n",
        "join = join[~join.ID.isnull()]\n",
        "villages['protected_area_name'] = villages.ID.apply(\n",
        "    lambda x: ', '.join(list(join[join.ID == x].full_name))\n",
        ")\n",
        "villages['contains_protected_area'] = (villages['protected_area_name'] != '')"
      ],
      "metadata": {
        "id": "MF1nvg_MVuOx"
      },
      "execution_count": null,
      "outputs": []
    },
    {
      "cell_type": "markdown",
      "source": [
        "Compute the NDVI value as a percentile nationally, so that we can make statements about the vegetation level in a village compared to the rest of the country."
      ],
      "metadata": {
        "id": "RbmrIkok0rDr"
      }
    },
    {
      "cell_type": "code",
      "source": [
        "villages_file = os.path.join(\n",
        "        drive_data_absolute_dir,\n",
        "        'administrative areas/UGA villages 2011.gpkg')\n",
        "\n",
        "with rasterio.open('ndvi.tif') as ndvi_file:\n",
        "  ndvi_array = ndvi_file.read().astype(np.float32).squeeze(0)\n",
        "  ndvi_affine = ndvi_file.transform\n",
        "\n",
        "# Exclude water areas\n",
        "ndvi_array[ndvi_array < 0] = -1\n",
        "\n",
        "all_villages_ndvi = pd.DataFrame(\n",
        "    zonal_stats(\n",
        "        vectors=villages_file,\n",
        "        raster=ndvi_array,\n",
        "        affine=ndvi_affine, \n",
        "        nodata=-1,\n",
        "        stats='median',\n",
        "        all_touched=True\n",
        "    )\n",
        ")['median']\n",
        "\n",
        "all_villages_ndvi = np.array(sorted(list(all_villages_ndvi)))\n",
        "\n",
        "ndvi_percentiles = np.array(\n",
        "    [-np.inf] + [a[0] for a in np.array_split(all_villages_ndvi, 99)])\n",
        "\n",
        "def ndvi_value_to_percentile(x):\n",
        "  return np.where(x >= ndvi_percentiles)[0][-1]\n",
        "\n",
        "villages['vegetation_percentile'] = (villages['vegetation_index']\n",
        "                                     .apply(ndvi_value_to_percentile))"
      ],
      "metadata": {
        "id": "L4vkXouR6nwR"
      },
      "execution_count": null,
      "outputs": []
    },
    {
      "cell_type": "code",
      "source": [
        "villages.shape"
      ],
      "metadata": {
        "colab": {
          "base_uri": "https://localhost:8080/"
        },
        "id": "r2MjWvWYQTWz",
        "outputId": "2b7b60b2-a870-43a8-fbe9-dec403f575c5"
      },
      "execution_count": null,
      "outputs": [
        {
          "output_type": "execute_result",
          "data": {
            "text/plain": [
              "(411, 22)"
            ]
          },
          "metadata": {},
          "execution_count": 176
        }
      ]
    },
    {
      "cell_type": "markdown",
      "source": [
        "# Information about settlement size and density\n",
        "\n",
        "We want to find the number of buildings within a certain radius, so we need to reproject the coordinates from longitude/latitude."
      ],
      "metadata": {
        "id": "7dhshqoE-8QZ"
      }
    },
    {
      "cell_type": "code",
      "source": [
        "minigrid_radius_meters = 1000\n",
        "size_of_permanent_building = 36 # 36 sqm\n",
        "\n",
        "buildings = read_shapefile('buildings/buildings_lamwo.gpkg')\n",
        "crs = CRS.from_dict({'proj': 'utm', 'zone': 36, 'north': True})\n",
        "buildings = buildings.to_crs(crs)\n",
        "buildings.geometry = buildings.centroid\n",
        "xy = np.stack((buildings.geometry.y, buildings.geometry.x)).transpose()\n",
        "nn = neighbors.radius_neighbors_graph(xy, minigrid_radius_meters)\n",
        "buildings['num_buildings_in_radius'] = [len(nn[i,:].indices)\n",
        "                                        for i in range(len(buildings))]\n",
        "buildings['permanent_buildings'] = buildings['area_in_meters'].apply(\n",
        "    lambda x: 1 if x > size_of_permanent_building else 0)"
      ],
      "metadata": {
        "id": "tHTobuNEEatZ"
      },
      "execution_count": null,
      "outputs": []
    },
    {
      "cell_type": "code",
      "source": [
        "buildings_with_village = buildings.sjoin(villages.to_crs(crs),\n",
        "                                         how=\"right\",\n",
        "                                         predicate='intersects')\n",
        "building_details = buildings_with_village[\n",
        "    ['ID', 'num_buildings_in_radius', 'permanent_buildings']].groupby(by='ID').agg(\n",
        "        {'ID':['count'], 'permanent_buildings':['sum'], 'num_buildings_in_radius':['max']})\n",
        "building_details.columns = ['num_of_buildings', 'num_of_permanent_buildings', 'num_buildings_in_radius']\n",
        "\n",
        "villages = pd.merge(villages, building_details, on='ID')\n",
        "villages['num_buildings_in_radius'] = villages['num_buildings_in_radius'].fillna(0).astype('Int64')\n",
        "villages['num_of_permanent_buildings'] = villages['num_of_permanent_buildings'].fillna(0).astype('Int64')"
      ],
      "metadata": {
        "id": "Y4A-4L4CHuKd"
      },
      "execution_count": null,
      "outputs": []
    },
    {
      "cell_type": "code",
      "source": [
        "# villages.plot(column='num_buildings_in_radius')"
      ],
      "metadata": {
        "id": "gmovWlC42r-H"
      },
      "execution_count": null,
      "outputs": []
    },
    {
      "cell_type": "code",
      "source": [
        "villages['any_electrification_provision_in_NES'] = False\n",
        "\n",
        "villages.loc[\n",
        "    villages.query(\n",
        "        'candidate_minigrid or candidate_solar_home_system '\n",
        "        'or candidate_grid_extension or existing_minigrid'\n",
        "    ).index,\n",
        "    'any_electrification_provision_in_NES'] = True\n",
        "\n",
        "villages['any_electrification_provision_in_NES'].value_counts()"
      ],
      "metadata": {
        "colab": {
          "base_uri": "https://localhost:8080/"
        },
        "id": "-YohOce9EqoC",
        "outputId": "39998e9e-42e3-4989-ea39-98f5d5023962"
      },
      "execution_count": null,
      "outputs": [
        {
          "output_type": "execute_result",
          "data": {
            "text/plain": [
              "True     348\n",
              "False     63\n",
              "Name: any_electrification_provision_in_NES, dtype: int64"
            ]
          },
          "metadata": {},
          "execution_count": 202
        }
      ]
    },
    {
      "cell_type": "code",
      "source": [
        "plt.boxplot([\n",
        "    villages.query('candidate_grid_extension')['num_buildings_in_radius'],\n",
        "    villages.query('existing_minigrid')['num_buildings_in_radius'],\n",
        "    villages.query('candidate_minigrid')['num_buildings_in_radius'],\n",
        "    villages.query('candidate_solar_home_system')['num_buildings_in_radius'],\n",
        "    villages.query('any_electrification_provision_in_NES')['num_buildings_in_radius']\n",
        "    ],\n",
        "    labels=[\n",
        "        'Grid extension', 'Existing minigrid', 'Candidate minigrid',\n",
        "        'Candidate solar home system', 'No provision'],\n",
        "    vert=False);\n",
        "plt.title('Max number of buildings in any 1km radius, by NES category')"
      ],
      "metadata": {
        "colab": {
          "base_uri": "https://localhost:8080/",
          "height": 353
        },
        "id": "9aWnoVgZytN8",
        "outputId": "410c8a32-d09e-4d59-a5bb-95f9b877ec74"
      },
      "execution_count": null,
      "outputs": [
        {
          "output_type": "stream",
          "name": "stderr",
          "text": [
            "/usr/local/lib/python3.7/dist-packages/matplotlib/cbook/__init__.py:1376: VisibleDeprecationWarning: Creating an ndarray from ragged nested sequences (which is a list-or-tuple of lists-or-tuples-or ndarrays with different lengths or shapes) is deprecated. If you meant to do this, you must specify 'dtype=object' when creating the ndarray.\n",
            "  X = np.atleast_1d(X.T if isinstance(X, np.ndarray) else np.asarray(X))\n"
          ]
        },
        {
          "output_type": "execute_result",
          "data": {
            "text/plain": [
              "Text(0.5, 1.0, 'Max number of buildings in any 1km radius, by NES category')"
            ]
          },
          "metadata": {},
          "execution_count": 203
        },
        {
          "output_type": "display_data",
          "data": {
            "text/plain": [
              "<Figure size 432x288 with 1 Axes>"
            ],
            "image/png": "[encoded data removed]"
          },
          "metadata": {
            "needs_background": "light"
          }
        }
      ]
    },
    {
      "cell_type": "markdown",
      "source": [
        "Create a json file with the details to be shown on the front end."
      ],
      "metadata": {
        "id": "tCeJAHs35e_s"
      }
    },
    {
      "cell_type": "code",
      "source": [
        "wind_speed_viability_threshold = 6.0\n",
        "minigrid_buildings_high_threshold = 700\n",
        "minigrid_buildings_low_threshold = 200\n",
        "\n",
        "def village_row_to_dict(row):\n",
        "  \n",
        "  village_json = {}\n",
        "  power_supply_analysis = []\n",
        "  power_demand_analysis = []\n",
        "\n",
        "  if row[\"vegetation_percentile\"] > 0.75:\n",
        "    power_supply_analysis.append({\n",
        "        'source': 'biomass',\n",
        "        'factor_in_favour': True,\n",
        "        'detail': (\n",
        "            'The vegetation index for this village is relatively high (greater '\n",
        "            f'than {row[\"vegetation_percentile\"]}% of villages nationwide).')\n",
        "    })\n",
        "\n",
        "  if row[\"contains_protected_area\"]:\n",
        "    power_supply_analysis.append({\n",
        "        'source': 'biomass',\n",
        "        'factor_in_favour': False,\n",
        "        'detail': (\n",
        "            'This village contains a protected area '\n",
        "            f'({row[\"protected_area_name\"]}) which should not be used for '\n",
        "            'harvesting biomass.')\n",
        "    })\n",
        "\n",
        "  if row[\"mean_wind_speed\"] < wind_speed_viability_threshold:\n",
        "    power_supply_analysis.append({\n",
        "        'source': 'wind',\n",
        "        'factor_in_favour': False,\n",
        "        'detail': (\n",
        "            'The average annual wind speed in this location is '\n",
        "            f'{row[\"mean_wind_speed\"]:.1f} m/s, which is below a '\n",
        "            'typical commercial viability threshold of '\n",
        "            f'{wind_speed_viability_threshold:.0f} m/s.'\n",
        "        )\n",
        "    })\n",
        "\n",
        "  if (row['num_buildings_in_radius'] > minigrid_buildings_high_threshold\n",
        "      and not (row['candidate_grid_extension']\n",
        "               or row['candidate_minigrid']\n",
        "               or row['existing_minigrid'])):\n",
        "    power_demand_analysis.append({\n",
        "        'source': 'minigrid',\n",
        "        'factor_in_favour': True,\n",
        "        'detail': (\n",
        "            f'There are {row[\"num_buildings_in_radius\"]} buildings within '\n",
        "            'a 1km radius, indicating that a solar minigrid would have a '\n",
        "            'high number of potential connections.'\n",
        "        )\n",
        "    })\n",
        "\n",
        "  if (row['num_buildings_in_radius'] < minigrid_buildings_low_threshold\n",
        "      and not (row['candidate_grid_extension']\n",
        "               or row['candidate_minigrid']\n",
        "               or row['existing_minigrid'])):\n",
        "    power_demand_analysis.append({\n",
        "        'source': 'minigrid',\n",
        "        'factor_in_favour': False,\n",
        "        'detail': (\n",
        "            f'There are {row[\"num_buildings_in_radius\"]} buildings within '\n",
        "            'a 1km radius, indicating that a solar minigrid would have a '\n",
        "            'low number of potential connections.'\n",
        "        )\n",
        "    })\n",
        "\n",
        "  result = {\n",
        "      'power_supply_analysis': power_supply_analysis,\n",
        "      'power_demand_analysis': power_demand_analysis,\n",
        "  }\n",
        "\n",
        "  result['ID'] = row['ID']\n",
        "  result['latitude'] = row['geometry'].centroid.y\n",
        "  result['longitude'] = row['geometry'].centroid.x\n",
        "  result['district'] = row['addr_dname']\n",
        "  result['subcounty'] = row['addr_sname']\n",
        "  result['parish'] = row['addr_pname']\n",
        "  result['village'] = row['addr_vname']\n",
        "  result['max_num_buildings_in_1km_radius'] = row['num_buildings_in_radius']\n",
        "  result['vegetation_percentile'] = row['vegetation_percentile']\n",
        "  result['mean_wind_speed'] = round(row['mean_wind_speed'], 1)\n",
        "  result['num_buildings'] = row['num_of_buildings']\n",
        "  result['num_permanent_buildings'] = row['num_of_permanent_buildings']\n",
        "\n",
        "  if row['candidate_grid_extension']:\n",
        "    NES_category = 'Grid extension'\n",
        "  elif row['existing_minigrid']:\n",
        "    NES_category = 'Existing minigrid site'\n",
        "  elif row['candidate_minigrid']:\n",
        "    NES_category = 'Candidate minigrid site'\n",
        "  else:\n",
        "    NES_category = 'Candidate for solar home systems'\n",
        "  \n",
        "  result['NES_category'] = NES_category\n",
        "\n",
        "  return result\n",
        "\n",
        "analysis = villages.apply(village_row_to_dict, axis=1)"
      ],
      "metadata": {
        "id": "tZ2dA24v5ou1"
      },
      "execution_count": null,
      "outputs": []
    },
    {
      "cell_type": "code",
      "source": [
        "import json\n",
        "villages_json = list(analysis)\n",
        "\n",
        "with open(\"villages.json\", \"w\") as write_file:\n",
        "    json.dump(villages_json, write_file, indent=4, sort_keys=True)"
      ],
      "metadata": {
        "id": "jGVV1qvGJ8VV"
      },
      "execution_count": null,
      "outputs": []
    },
    {
      "cell_type": "code",
      "source": [],
      "metadata": {
        "id": "cDf6l4fkK4Zv"
      },
      "execution_count": null,
      "outputs": []
    }
  ]
}