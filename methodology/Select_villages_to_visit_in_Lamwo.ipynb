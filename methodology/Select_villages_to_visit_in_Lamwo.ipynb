{
  "cells": [
    {
      "cell_type": "code",
      "execution_count": null,
      "metadata": {
        "id": "9099E2Vxhf_h"
      },
      "outputs": [],
      "source": [
        "import json\n",
        "import pandas as pd\n",
        "from google.colab import drive"
      ]
    },
    {
      "cell_type": "code",
      "source": [
        "# @title Mount google drive\n",
        "drive.mount('/gdrive')"
      ],
      "metadata": {
        "colab": {
          "base_uri": "https://localhost:8080/"
        },
        "id": "iNaOfa3Zh2AS",
        "outputId": "55f71c9d-17cb-4e3c-8c87-21c8a41d0b5a"
      },
      "execution_count": null,
      "outputs": [
        {
          "output_type": "stream",
          "name": "stdout",
          "text": [
            "Mounted at /gdrive\n"
          ]
        }
      ]
    },
    {
      "cell_type": "code",
      "source": [
        "# Copy data to local cache\n",
        "!cp -r /gdrive/'Shared drives'/'Sunbird AI'/Projects/'GIZ Mini-grid Identification'/Code/villages.json ."
      ],
      "metadata": {
        "id": "BONP_Mw6iiUY"
      },
      "execution_count": null,
      "outputs": []
    },
    {
      "cell_type": "code",
      "execution_count": null,
      "metadata": {
        "id": "KOFDY7Pxhf_l"
      },
      "outputs": [],
      "source": [
        "villages = pd.read_json('./villages.json')"
      ]
    },
    {
      "cell_type": "code",
      "execution_count": null,
      "metadata": {
        "colab": {
          "base_uri": "https://localhost:8080/"
        },
        "id": "UcFW_Eophf_l",
        "outputId": "d637d58a-7ce6-4d35-cc95-451fa1ef637e"
      },
      "outputs": [
        {
          "output_type": "execute_result",
          "data": {
            "text/plain": [
              "(411, 15)"
            ]
          },
          "metadata": {},
          "execution_count": 6
        }
      ],
      "source": [
        "villages.shape"
      ]
    },
    {
      "cell_type": "code",
      "execution_count": null,
      "metadata": {
        "colab": {
          "base_uri": "https://localhost:8080/",
          "height": 426
        },
        "id": "ykviEHjshf_m",
        "outputId": "9fa9bec0-e419-4e6d-bc4e-03e1471e7128"
      },
      "outputs": [
        {
          "output_type": "execute_result",
          "data": {
            "text/plain": [
              "        ID                      NES_category district  latitude  longitude  \\\n",
              "0  5500895                    Grid extension    Lamwo  3.808296  33.023490   \n",
              "1  5500896  Candidate for solar home systems    Lamwo  3.842983  33.037389   \n",
              "2  5500897  Candidate for solar home systems    Lamwo  3.827202  33.011559   \n",
              "3  5500898  Candidate for solar home systems    Lamwo  3.820075  33.020129   \n",
              "4  5500899  Candidate for solar home systems    Lamwo  3.810693  33.031540   \n",
              "\n",
              "   max_num_buildings_in_1km_radius  mean_wind_speed  num_buildings  \\\n",
              "0                              984              1.0              9   \n",
              "1                                6              1.0             12   \n",
              "2                              133              1.0             97   \n",
              "3                              575              1.0             98   \n",
              "4                                0              1.0              1   \n",
              "\n",
              "   num_permanent_buildings   parish  \\\n",
              "0                        0  Ngacino   \n",
              "1                        2  Ngacino   \n",
              "2                        1  Ngacino   \n",
              "3                        0  Ngacino   \n",
              "4                        0  Ngacino   \n",
              "\n",
              "                               power_demand_analysis  \\\n",
              "0                                                 []   \n",
              "1  [{'detail': 'There are 6 buildings within a 1k...   \n",
              "2  [{'detail': 'There are 133 buildings within a ...   \n",
              "3                                                 []   \n",
              "4  [{'detail': 'There are 0 buildings within a 1k...   \n",
              "\n",
              "                               power_supply_analysis subcounty  \\\n",
              "0  [{'detail': 'The vegetation index for this vil...     Agoro   \n",
              "1  [{'detail': 'The vegetation index for this vil...     Agoro   \n",
              "2  [{'detail': 'The vegetation index for this vil...     Agoro   \n",
              "3  [{'detail': 'The vegetation index for this vil...     Agoro   \n",
              "4  [{'detail': 'The vegetation index for this vil...     Agoro   \n",
              "\n",
              "   vegetation_percentile       village  \n",
              "0                     79  Special Area  \n",
              "1                     79  Grazing Land  \n",
              "2                     79         Irumo  \n",
              "3                     79         Obere  \n",
              "4                     79          Kila  "
            ],
            "text/html": [
              "\n",
              "  <div id=\"df-d268716f-d866-493b-b679-e7db20b32bf7\">\n",
              "    <div class=\"colab-df-container\">\n",
              "      <div>\n",
              "<style scoped>\n",
              "    .dataframe tbody tr th:only-of-type {\n",
              "        vertical-align: middle;\n",
              "    }\n",
              "\n",
              "    .dataframe tbody tr th {\n",
              "        vertical-align: top;\n",
              "    }\n",
              "\n",
              "    .dataframe thead th {\n",
              "        text-align: right;\n",
              "    }\n",
              "</style>\n",
              "<table border=\"1\" class=\"dataframe\">\n",
              "  <thead>\n",
              "    <tr style=\"text-align: right;\">\n",
              "      <th></th>\n",
              "      <th>ID</th>\n",
              "      <th>NES_category</th>\n",
              "      <th>district</th>\n",
              "      <th>latitude</th>\n",
              "      <th>longitude</th>\n",
              "      <th>max_num_buildings_in_1km_radius</th>\n",
              "      <th>mean_wind_speed</th>\n",
              "      <th>num_buildings</th>\n",
              "      <th>num_permanent_buildings</th>\n",
              "      <th>parish</th>\n",
              "      <th>power_demand_analysis</th>\n",
              "      <th>power_supply_analysis</th>\n",
              "      <th>subcounty</th>\n",
              "      <th>vegetation_percentile</th>\n",
              "      <th>village</th>\n",
              "    </tr>\n",
              "  </thead>\n",
              "  <tbody>\n",
              "    <tr>\n",
              "      <th>0</th>\n",
              "      <td>5500895</td>\n",
              "      <td>Grid extension</td>\n",
              "      <td>Lamwo</td>\n",
              "      <td>3.808296</td>\n",
              "      <td>33.023490</td>\n",
              "      <td>984</td>\n",
              "      <td>1.0</td>\n",
              "      <td>9</td>\n",
              "      <td>0</td>\n",
              "      <td>Ngacino</td>\n",
              "      <td>[]</td>\n",
              "      <td>[{'detail': 'The vegetation index for this vil...</td>\n",
              "      <td>Agoro</td>\n",
              "      <td>79</td>\n",
              "      <td>Special Area</td>\n",
              "    </tr>\n",
              "    <tr>\n",
              "      <th>1</th>\n",
              "      <td>5500896</td>\n",
              "      <td>Candidate for solar home systems</td>\n",
              "      <td>Lamwo</td>\n",
              "      <td>3.842983</td>\n",
              "      <td>33.037389</td>\n",
              "      <td>6</td>\n",
              "      <td>1.0</td>\n",
              "      <td>12</td>\n",
              "      <td>2</td>\n",
              "      <td>Ngacino</td>\n",
              "      <td>[{'detail': 'There are 6 buildings within a 1k...</td>\n",
              "      <td>[{'detail': 'The vegetation index for this vil...</td>\n",
              "      <td>Agoro</td>\n",
              "      <td>79</td>\n",
              "      <td>Grazing Land</td>\n",
              "    </tr>\n",
              "    <tr>\n",
              "      <th>2</th>\n",
              "      <td>5500897</td>\n",
              "      <td>Candidate for solar home systems</td>\n",
              "      <td>Lamwo</td>\n",
              "      <td>3.827202</td>\n",
              "      <td>33.011559</td>\n",
              "      <td>133</td>\n",
              "      <td>1.0</td>\n",
              "      <td>97</td>\n",
              "      <td>1</td>\n",
              "      <td>Ngacino</td>\n",
              "      <td>[{'detail': 'There are 133 buildings within a ...</td>\n",
              "      <td>[{'detail': 'The vegetation index for this vil...</td>\n",
              "      <td>Agoro</td>\n",
              "      <td>79</td>\n",
              "      <td>Irumo</td>\n",
              "    </tr>\n",
              "    <tr>\n",
              "      <th>3</th>\n",
              "      <td>5500898</td>\n",
              "      <td>Candidate for solar home systems</td>\n",
              "      <td>Lamwo</td>\n",
              "      <td>3.820075</td>\n",
              "      <td>33.020129</td>\n",
              "      <td>575</td>\n",
              "      <td>1.0</td>\n",
              "      <td>98</td>\n",
              "      <td>0</td>\n",
              "      <td>Ngacino</td>\n",
              "      <td>[]</td>\n",
              "      <td>[{'detail': 'The vegetation index for this vil...</td>\n",
              "      <td>Agoro</td>\n",
              "      <td>79</td>\n",
              "      <td>Obere</td>\n",
              "    </tr>\n",
              "    <tr>\n",
              "      <th>4</th>\n",
              "      <td>5500899</td>\n",
              "      <td>Candidate for solar home systems</td>\n",
              "      <td>Lamwo</td>\n",
              "      <td>3.810693</td>\n",
              "      <td>33.031540</td>\n",
              "      <td>0</td>\n",
              "      <td>1.0</td>\n",
              "      <td>1</td>\n",
              "      <td>0</td>\n",
              "      <td>Ngacino</td>\n",
              "      <td>[{'detail': 'There are 0 buildings within a 1k...</td>\n",
              "      <td>[{'detail': 'The vegetation index for this vil...</td>\n",
              "      <td>Agoro</td>\n",
              "      <td>79</td>\n",
              "      <td>Kila</td>\n",
              "    </tr>\n",
              "  </tbody>\n",
              "</table>\n",
              "</div>\n",
              "      <button class=\"colab-df-convert\" onclick=\"convertToInteractive('df-d268716f-d866-493b-b679-e7db20b32bf7')\"\n",
              "              title=\"Convert this dataframe to an interactive table.\"\n",
              "              style=\"display:none;\">\n",
              "        \n",
              "  <svg xmlns=\"http://www.w3.org/2000/svg\" height=\"24px\"viewBox=\"0 0 24 24\"\n",
              "       width=\"24px\">\n",
              "    <path d=\"M0 0h24v24H0V0z\" fill=\"none\"/>\n",
              "    <path d=\"M18.56 5.44l.94 2.06.94-2.06 2.06-.94-2.06-.94-.94-2.06-.94 2.06-2.06.94zm-11 1L8.5 8.5l.94-2.06 2.06-.94-2.06-.94L8.5 2.5l-.94 2.06-2.06.94zm10 10l.94 2.06.94-2.06 2.06-.94-2.06-.94-.94-2.06-.94 2.06-2.06.94z\"/><path d=\"M17.41 7.96l-1.37-1.37c-.4-.4-.92-.59-1.43-.59-.52 0-1.04.2-1.43.59L10.3 9.45l-7.72 7.72c-.78.78-.78 2.05 0 2.83L4 21.41c.39.39.9.59 1.41.59.51 0 1.02-.2 1.41-.59l7.78-7.78 2.81-2.81c.8-.78.8-2.07 0-2.86zM5.41 20L4 18.59l7.72-7.72 1.47 1.35L5.41 20z\"/>\n",
              "  </svg>\n",
              "      </button>\n",
              "      \n",
              "  <style>\n",
              "    .colab-df-container {\n",
              "      display:flex;\n",
              "      flex-wrap:wrap;\n",
              "      gap: 12px;\n",
              "    }\n",
              "\n",
              "    .colab-df-convert {\n",
              "      background-color: #E8F0FE;\n",
              "      border: none;\n",
              "      border-radius: 50%;\n",
              "      cursor: pointer;\n",
              "      display: none;\n",
              "      fill: #1967D2;\n",
              "      height: 32px;\n",
              "      padding: 0 0 0 0;\n",
              "      width: 32px;\n",
              "    }\n",
              "\n",
              "    .colab-df-convert:hover {\n",
              "      background-color: #E2EBFA;\n",
              "      box-shadow: 0px 1px 2px rgba(60, 64, 67, 0.3), 0px 1px 3px 1px rgba(60, 64, 67, 0.15);\n",
              "      fill: #174EA6;\n",
              "    }\n",
              "\n",
              "    [theme=dark] .colab-df-convert {\n",
              "      background-color: #3B4455;\n",
              "      fill: #D2E3FC;\n",
              "    }\n",
              "\n",
              "    [theme=dark] .colab-df-convert:hover {\n",
              "      background-color: #434B5C;\n",
              "      box-shadow: 0px 1px 3px 1px rgba(0, 0, 0, 0.15);\n",
              "      filter: drop-shadow(0px 1px 2px rgba(0, 0, 0, 0.3));\n",
              "      fill: #FFFFFF;\n",
              "    }\n",
              "  </style>\n",
              "\n",
              "      <script>\n",
              "        const buttonEl =\n",
              "          document.querySelector('#df-d268716f-d866-493b-b679-e7db20b32bf7 button.colab-df-convert');\n",
              "        buttonEl.style.display =\n",
              "          google.colab.kernel.accessAllowed ? 'block' : 'none';\n",
              "\n",
              "        async function convertToInteractive(key) {\n",
              "          const element = document.querySelector('#df-d268716f-d866-493b-b679-e7db20b32bf7');\n",
              "          const dataTable =\n",
              "            await google.colab.kernel.invokeFunction('convertToInteractive',\n",
              "                                                     [key], {});\n",
              "          if (!dataTable) return;\n",
              "\n",
              "          const docLinkHtml = 'Like what you see? Visit the ' +\n",
              "            '<a target=\"_blank\" href=https://colab.research.google.com/notebooks/data_table.ipynb>data table notebook</a>'\n",
              "            + ' to learn more about interactive tables.';\n",
              "          element.innerHTML = '';\n",
              "          dataTable['output_type'] = 'display_data';\n",
              "          await google.colab.output.renderOutput(dataTable, element);\n",
              "          const docLink = document.createElement('div');\n",
              "          docLink.innerHTML = docLinkHtml;\n",
              "          element.appendChild(docLink);\n",
              "        }\n",
              "      </script>\n",
              "    </div>\n",
              "  </div>\n",
              "  "
            ]
          },
          "metadata": {},
          "execution_count": 7
        }
      ],
      "source": [
        "villages.head()"
      ]
    },
    {
      "cell_type": "code",
      "execution_count": null,
      "metadata": {
        "colab": {
          "base_uri": "https://localhost:8080/"
        },
        "id": "XpgvO_YKhf_n",
        "outputId": "e5643817-e90c-4187-d7c0-8af088f5b044"
      },
      "outputs": [
        {
          "output_type": "execute_result",
          "data": {
            "text/plain": [
              "Candidate for solar home systems    212\n",
              "Grid extension                      168\n",
              "Candidate minigrid site              22\n",
              "Existing minigrid site                9\n",
              "Name: NES_category, dtype: int64"
            ]
          },
          "metadata": {},
          "execution_count": 8
        }
      ],
      "source": [
        "villages['NES_category'].value_counts()"
      ]
    },
    {
      "cell_type": "markdown",
      "metadata": {
        "id": "AySmJOtshf_n"
      },
      "source": [
        "## Criteria for selecting 10 (loose)\n",
        "1. Based on NES categorizaton - select 2 existing minigrids, 2 candidate minigrids, 3 grid extension, 3 solar home\n",
        "2. Of 2 exisiting minigrids, select one with 1km buildings > 500 and no of permanent buildings > 10, the other site, the oppposite.\n",
        "3. Of the candidate minigrids, select according to same criteria above\n",
        "4. For grid extension - select 1st with 1km buildings > 500, no. permanent > 10, veg index < 50. For 2nd select reverse, for 3rd with 1km buildings < 500, no. permanent > 10\n",
        "5. For solar home systems select 1st with vegetation percentile > 80, 2nd with no. permanent > 5, 3rd with no. permanent = 0\n"
      ]
    },
    {
      "cell_type": "code",
      "execution_count": null,
      "metadata": {
        "colab": {
          "base_uri": "https://localhost:8080/"
        },
        "id": "YeD0jm6ahf_p",
        "outputId": "f4f37744-0b5e-4d90-8b51-b915c3d989c1"
      },
      "outputs": [
        {
          "output_type": "execute_result",
          "data": {
            "text/plain": [
              "Index(['ID', 'NES_category', 'district', 'latitude', 'longitude',\n",
              "       'max_num_buildings_in_1km_radius', 'mean_wind_speed', 'num_buildings',\n",
              "       'num_permanent_buildings', 'parish', 'power_demand_analysis',\n",
              "       'power_supply_analysis', 'subcounty', 'vegetation_percentile',\n",
              "       'village'],\n",
              "      dtype='object')"
            ]
          },
          "metadata": {},
          "execution_count": 9
        }
      ],
      "source": [
        "villages.columns"
      ]
    },
    {
      "cell_type": "markdown",
      "metadata": {
        "id": "asucdGZlhf_q"
      },
      "source": [
        "## Existing minigrids"
      ]
    },
    {
      "cell_type": "code",
      "execution_count": null,
      "metadata": {
        "colab": {
          "base_uri": "https://localhost:8080/"
        },
        "id": "shFDc1Gahf_r",
        "outputId": "709bce3b-5b92-4167-f688-5f45fe4f4311"
      },
      "outputs": [
        {
          "output_type": "execute_result",
          "data": {
            "text/plain": [
              "2"
            ]
          },
          "metadata": {},
          "execution_count": 10
        }
      ],
      "source": [
        "minigrid_villages = villages.query(\"NES_category == 'Existing minigrid site' \\\n",
        "                                   and max_num_buildings_in_1km_radius > 500 \\\n",
        "                                   and num_permanent_buildings > 20\")\n",
        "len(minigrid_villages)"
      ]
    },
    {
      "cell_type": "code",
      "execution_count": null,
      "metadata": {
        "colab": {
          "base_uri": "https://localhost:8080/"
        },
        "id": "mgBB7CJNhf_r",
        "outputId": "5e4479b7-2b80-4ca6-8d40-a35a810e19a4"
      },
      "outputs": [
        {
          "output_type": "execute_result",
          "data": {
            "text/plain": [
              "1"
            ]
          },
          "metadata": {},
          "execution_count": 11
        }
      ],
      "source": [
        "minigrid_villages_2 = villages.query(\"NES_category == 'Existing minigrid site' \\\n",
        "                                   and max_num_buildings_in_1km_radius < 500 \\\n",
        "                                   and num_permanent_buildings > 0 \")\n",
        "len(minigrid_villages_2)"
      ]
    },
    {
      "cell_type": "markdown",
      "metadata": {
        "id": "pOLTT65Mhf_s"
      },
      "source": [
        "## Candidate minigrids"
      ]
    },
    {
      "cell_type": "code",
      "execution_count": null,
      "metadata": {
        "colab": {
          "base_uri": "https://localhost:8080/"
        },
        "id": "kOjo7JnThf_s",
        "outputId": "fa675414-906c-4511-d6df-e18281a27a51"
      },
      "outputs": [
        {
          "output_type": "execute_result",
          "data": {
            "text/plain": [
              "2"
            ]
          },
          "metadata": {},
          "execution_count": 12
        }
      ],
      "source": [
        "candidate_minigrid_villages = villages.query(\"NES_category == 'Candidate minigrid site' \\\n",
        "                                   and max_num_buildings_in_1km_radius > 500 \\\n",
        "                                   and num_permanent_buildings > 20\")\n",
        "len(candidate_minigrid_villages)"
      ]
    },
    {
      "cell_type": "code",
      "execution_count": null,
      "metadata": {
        "colab": {
          "base_uri": "https://localhost:8080/"
        },
        "id": "WvlI0vlRhf_t",
        "outputId": "f46418aa-c837-4141-95c2-a27cb6369264"
      },
      "outputs": [
        {
          "output_type": "execute_result",
          "data": {
            "text/plain": [
              "4"
            ]
          },
          "metadata": {},
          "execution_count": 13
        }
      ],
      "source": [
        "candidate_minigrid_villages_2 = villages.query(\"NES_category == 'Candidate minigrid site' \\\n",
        "                                   and max_num_buildings_in_1km_radius < 500 \\\n",
        "                                   and num_permanent_buildings > 10\")\n",
        "len(candidate_minigrid_villages_2)"
      ]
    },
    {
      "cell_type": "markdown",
      "metadata": {
        "id": "IBf2YWe1hf_u"
      },
      "source": [
        "## Grid Extension"
      ]
    },
    {
      "cell_type": "code",
      "execution_count": null,
      "metadata": {
        "colab": {
          "base_uri": "https://localhost:8080/"
        },
        "id": "F26gUtM-hf_u",
        "outputId": "a0df3d57-b238-4766-ed33-ef90d76f9ecc"
      },
      "outputs": [
        {
          "output_type": "execute_result",
          "data": {
            "text/plain": [
              "1"
            ]
          },
          "metadata": {},
          "execution_count": 14
        }
      ],
      "source": [
        "candidate_grid_extension_villages = villages.query(\"NES_category == 'Grid extension' \\\n",
        "                                   and max_num_buildings_in_1km_radius > 500 \\\n",
        "                                   and num_permanent_buildings > 0 \\\n",
        "                                   and vegetation_percentile < 78\")\n",
        "len(candidate_grid_extension_villages)"
      ]
    },
    {
      "cell_type": "code",
      "execution_count": null,
      "metadata": {
        "colab": {
          "base_uri": "https://localhost:8080/"
        },
        "id": "eCS5eMhShf_u",
        "outputId": "5321e830-8729-46a7-ef5d-a16201379687"
      },
      "outputs": [
        {
          "output_type": "execute_result",
          "data": {
            "text/plain": [
              "3"
            ]
          },
          "metadata": {},
          "execution_count": 15
        }
      ],
      "source": [
        "candidate_grid_extension_villages_2 = villages.query(\"NES_category == 'Grid extension' \\\n",
        "                                   and max_num_buildings_in_1km_radius < 500 \\\n",
        "                                   and num_permanent_buildings > 20 \\\n",
        "                                   and vegetation_percentile > 80\")\n",
        "len(candidate_grid_extension_villages_2)"
      ]
    },
    {
      "cell_type": "markdown",
      "metadata": {
        "id": "V-mHIheEhf_v"
      },
      "source": [
        "## Solar Home systems"
      ]
    },
    {
      "cell_type": "code",
      "execution_count": null,
      "metadata": {
        "colab": {
          "base_uri": "https://localhost:8080/"
        },
        "id": "nSsWebZKhf_v",
        "outputId": "558ced2c-3857-42c9-b2e2-a826113c86bd"
      },
      "outputs": [
        {
          "output_type": "execute_result",
          "data": {
            "text/plain": [
              "10"
            ]
          },
          "metadata": {},
          "execution_count": 16
        }
      ],
      "source": [
        "solar_home_villages = villages.query(\"NES_category == 'Candidate for solar home systems' \\\n",
        "                                   and max_num_buildings_in_1km_radius > 500 \\\n",
        "                                   and num_permanent_buildings > 10 \\\n",
        "                                   and vegetation_percentile > 78\")\n",
        "len(solar_home_villages)"
      ]
    },
    {
      "cell_type": "markdown",
      "metadata": {
        "id": "VZBWtJGHhf_w"
      },
      "source": [
        "## Selection"
      ]
    },
    {
      "cell_type": "code",
      "execution_count": null,
      "metadata": {
        "id": "GTadtGKlhf_w"
      },
      "outputs": [],
      "source": [
        "selected_villages = []\n",
        "\n",
        "selected_villages = \\\n",
        "    minigrid_villages.sample()['village'].to_list() + \\\n",
        "    minigrid_villages_2.sample()['village'].to_list() + \\\n",
        "    candidate_minigrid_villages.sample()['village'].to_list() + \\\n",
        "    candidate_minigrid_villages_2.sample()['village'].to_list() + \\\n",
        "    candidate_grid_extension_villages.sample()['village'].to_list() + \\\n",
        "    candidate_grid_extension_villages_2.sample(2)['village'].to_list() + \\\n",
        "    solar_home_villages.sample(3)['village'].to_list()"
      ]
    },
    {
      "cell_type": "code",
      "execution_count": null,
      "metadata": {
        "colab": {
          "base_uri": "https://localhost:8080/"
        },
        "id": "tV51AKTShf_w",
        "outputId": "fb11b60b-dbbd-4625-e921-76bf12ccb271"
      },
      "outputs": [
        {
          "output_type": "execute_result",
          "data": {
            "text/plain": [
              "['Ngomoromo',\n",
              " 'Oboko',\n",
              " 'Apyetta South',\n",
              " 'Pabwoch East',\n",
              " 'Central',\n",
              " 'Lugwar Central',\n",
              " 'Labworoyeng',\n",
              " 'Palaa West',\n",
              " 'Ateda',\n",
              " 'Beyogoya']"
            ]
          },
          "metadata": {},
          "execution_count": 20
        }
      ],
      "source": [
        "selected_villages"
      ]
    },
    {
      "cell_type": "code",
      "execution_count": null,
      "metadata": {
        "id": "oinNdMiWhf_x"
      },
      "outputs": [],
      "source": []
    }
  ],
  "metadata": {
    "kernelspec": {
      "display_name": "Python 3",
      "language": "python",
      "name": "python3"
    },
    "language_info": {
      "codemirror_mode": {
        "name": "ipython",
        "version": 3
      },
      "file_extension": ".py",
      "mimetype": "text/x-python",
      "name": "python",
      "nbconvert_exporter": "python",
      "pygments_lexer": "ipython3",
      "version": "3.7.4"
    },
    "colab": {
      "provenance": []
    }
  },
  "nbformat": 4,
  "nbformat_minor": 0
}