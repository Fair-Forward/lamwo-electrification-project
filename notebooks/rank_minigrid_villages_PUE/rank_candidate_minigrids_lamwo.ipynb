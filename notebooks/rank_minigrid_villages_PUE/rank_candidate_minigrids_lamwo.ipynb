{
  "nbformat": 4,
  "nbformat_minor": 0,
  "metadata": {
    "colab": {
      "provenance": [],
      "authorship_tag": "ABX9TyPYNCNBOwcM5EvFR17KQT34",
      "include_colab_link": true
    },
    "kernelspec": {
      "name": "python3",
      "display_name": "Python 3"
    },
    "language_info": {
      "name": "python"
    }
  },
  "cells": [
    {
      "cell_type": "markdown",
      "metadata": {
        "id": "view-in-github",
        "colab_type": "text"
      },
      "source": [
        "<a href=\"https://colab.research.google.com/github/SunbirdAI/lamwo-electrification-project/blob/main/notebooks/rank_minigrid_villages_PUE/rank_candidate_minigrids_lamwo.ipynb\" target=\"_parent\"><img src=\"https://colab.research.google.com/assets/colab-badge.svg\" alt=\"Open In Colab\"/></a>"
      ]
    },
    {
      "cell_type": "markdown",
      "source": [
        "# Predict the PUE value for current minigrid candidate villages and rank them"
      ],
      "metadata": {
        "id": "QhB6p6Siogg9"
      }
    },
    {
      "cell_type": "code",
      "execution_count": 1,
      "metadata": {
        "id": "xetwl00hf42p"
      },
      "outputs": [],
      "source": [
        "import pandas as pd\n",
        "import numpy as np\n",
        "import xgboost as xgb\n",
        "import pickle\n",
        "\n",
        "from sklearn.linear_model import LinearRegression\n",
        "from sklearn.preprocessing import PolynomialFeatures\n",
        "from sklearn.ensemble import RandomForestRegressor"
      ]
    },
    {
      "cell_type": "markdown",
      "source": [
        "### Load and instantiate models"
      ],
      "metadata": {
        "id": "yL_rzka9oq4v"
      }
    },
    {
      "cell_type": "code",
      "source": [
        "!unzip ranking_models.zip\n",
        ""
      ],
      "metadata": {
        "colab": {
          "base_uri": "https://localhost:8080/"
        },
        "id": "taDZby4AgO3F",
        "outputId": "9a6573c1-eaf2-4d7d-bcd5-e572003b6ac7"
      },
      "execution_count": 2,
      "outputs": [
        {
          "output_type": "stream",
          "name": "stdout",
          "text": [
            "Archive:  ranking_models.zip\n",
            "  inflating: lin_reg.pkl             \n",
            "  inflating: poly_features.pkl       \n",
            "  inflating: poly_reg.pkl            \n",
            "  inflating: rf_reg.pkl              \n",
            "  inflating: xgb_reg.pkl             \n"
          ]
        }
      ]
    },
    {
      "cell_type": "markdown",
      "source": [
        "Features used in training"
      ],
      "metadata": {
        "id": "T0zV0Oo8o3AR"
      }
    },
    {
      "cell_type": "code",
      "source": [
        "features = ['building_count', 'permanent_building_count', 'educational_facilities',\n",
        "            'health_facilities', 'social_facilities', 'services', 'primary_roads', 'secondary_roads',\n",
        "            'tertiary_roads', 'unclassified_roads', 'percentage_crop_land', 'percentage_built_area',\n",
        "            'mean_pvout_solar_radiation', 'mean_wind_speed']"
      ],
      "metadata": {
        "id": "pEl2ext-oy9A"
      },
      "execution_count": 3,
      "outputs": []
    },
    {
      "cell_type": "markdown",
      "source": [
        "Load models"
      ],
      "metadata": {
        "id": "MV6YzHBro7cb"
      }
    },
    {
      "cell_type": "code",
      "source": [
        "with open('lin_reg.pkl', 'rb') as f:\n",
        "    lin_reg = pickle.load(f)\n",
        "with open('poly_reg.pkl', 'rb') as f:\n",
        "    poly_reg = pickle.load(f)\n",
        "with open('poly_features.pkl', 'rb') as f:\n",
        "    poly = pickle.load(f)  # Load the saved PolynomialFeatures object\n",
        "with open('rf_reg.pkl', 'rb') as f:\n",
        "    rf_reg = pickle.load(f)\n",
        "with open('xgb_reg.pkl', 'rb') as f:\n",
        "    xgb_reg = pickle.load(f)"
      ],
      "metadata": {
        "id": "UmqwFx3Lo89M"
      },
      "execution_count": 4,
      "outputs": []
    },
    {
      "cell_type": "markdown",
      "source": [
        "Helper function to prepare input data and make predictions"
      ],
      "metadata": {
        "id": "uBVrBw-FpA-Q"
      }
    },
    {
      "cell_type": "code",
      "source": [
        "def predict_pue(new_data, lin_reg, poly_reg, poly, rf_reg, xgb_reg, features):\n",
        "    \"\"\"\n",
        "    Predict PUE scores (`winch_prob`) for new data using all four models.\n",
        "\n",
        "    Args:\n",
        "        new_data (pd.DataFrame or dict): New input data with the same features as training\n",
        "        lin_reg, poly_reg, rf_reg, xgb_reg: Trained models\n",
        "        poly: Loaded PolynomialFeatures object\n",
        "        features: List of feature names\n",
        "\n",
        "    Returns:\n",
        "        dict: Predictions from each model\n",
        "    \"\"\"\n",
        "    # Convert input to DataFrame if it’s a dict\n",
        "    if isinstance(new_data, dict):\n",
        "        new_data = pd.DataFrame([new_data])\n",
        "\n",
        "    # Ensure all required features are present\n",
        "    missing_features = [f for f in features if f not in new_data.columns]\n",
        "    if missing_features:\n",
        "        raise ValueError(f\"Missing features in new data: {missing_features}\")\n",
        "\n",
        "    # Select and order features\n",
        "    X_new = new_data[features]\n",
        "\n",
        "    # Predictions\n",
        "    pred_lin = lin_reg.predict(X_new)\n",
        "    X_new_poly = poly.transform(X_new)  # Use loaded poly object to transform data\n",
        "    pred_poly = poly_reg.predict(X_new_poly)  # Use loaded poly_reg to predict\n",
        "    pred_rf = rf_reg.predict(X_new)\n",
        "    pred_xgb = xgb_reg.predict(X_new)\n",
        "\n",
        "    # Create result DataFrame\n",
        "    result = pd.DataFrame({\n",
        "        'village_id': new_data['village_id'],\n",
        "        'PUE_Linear_Regression': pred_lin,\n",
        "        'PUE_Polynomial_Regression': pred_poly,\n",
        "        'PUE_Random_Forest': pred_rf,\n",
        "        'PUE_XGBoost': pred_xgb\n",
        "    })\n",
        "\n",
        "    return result"
      ],
      "metadata": {
        "id": "0Dq05fWYgQvH"
      },
      "execution_count": 5,
      "outputs": []
    },
    {
      "cell_type": "markdown",
      "source": [
        "### Load candidate minigrid village data and score and rank villages"
      ],
      "metadata": {
        "id": "KK8SLVVApIO1"
      }
    },
    {
      "cell_type": "code",
      "source": [
        "test_data = pd.read_csv('candidate_villages_testdata.csv')"
      ],
      "metadata": {
        "id": "J0aHr7hopPLM"
      },
      "execution_count": 6,
      "outputs": []
    },
    {
      "cell_type": "code",
      "source": [
        "test_data.shape"
      ],
      "metadata": {
        "colab": {
          "base_uri": "https://localhost:8080/"
        },
        "id": "y4eJy2cTqbhC",
        "outputId": "eb7aa982-1471-449c-e36a-ece653293507"
      },
      "execution_count": 7,
      "outputs": [
        {
          "output_type": "execute_result",
          "data": {
            "text/plain": [
              "(39, 24)"
            ]
          },
          "metadata": {},
          "execution_count": 7
        }
      ]
    },
    {
      "cell_type": "code",
      "source": [
        "try:\n",
        "    predictions = predict_pue(test_data, lin_reg, poly_reg, poly, rf_reg, xgb_reg, features)\n",
        "\n",
        "except ValueError as e:\n",
        "    print(f\"Error: {e}\")"
      ],
      "metadata": {
        "id": "tO-CCQwtpbvH"
      },
      "execution_count": 8,
      "outputs": []
    },
    {
      "cell_type": "markdown",
      "source": [
        "Sort by PUE_XGBoost and rank villages (can change to another model if preferred)"
      ],
      "metadata": {
        "id": "tXn5UDqgp5J6"
      }
    },
    {
      "cell_type": "code",
      "source": [
        "predictions_sorted = predictions.sort_values(by='PUE_XGBoost', ascending=False)\n",
        "predictions_sorted['rank'] = range(1, len(predictions_sorted) + 1)"
      ],
      "metadata": {
        "id": "EZxI4AEYp6Nv"
      },
      "execution_count": 9,
      "outputs": []
    },
    {
      "cell_type": "markdown",
      "source": [
        "Display sorted predictions"
      ],
      "metadata": {
        "id": "RJwuiXpupfUm"
      }
    },
    {
      "cell_type": "code",
      "source": [
        "print(\"\\nSorted PUE Predictions for Test Villages:\")\n",
        "print(predictions_sorted)"
      ],
      "metadata": {
        "colab": {
          "base_uri": "https://localhost:8080/"
        },
        "id": "wBs30DyxgfaL",
        "outputId": "c1bcd07c-22ef-496e-d35d-008879fb911b"
      },
      "execution_count": 10,
      "outputs": [
        {
          "output_type": "stream",
          "name": "stdout",
          "text": [
            "\n",
            "Sorted PUE Predictions for Test Villages:\n",
            "    village_id  PUE_Linear_Regression  PUE_Polynomial_Regression  \\\n",
            "11     5502905               0.884534                   0.830000   \n",
            "12     5502906               0.231352                   1.890198   \n",
            "15     5502922               0.472419                  29.824818   \n",
            "14     5502921               0.306374                  20.837079   \n",
            "1      5502037               0.250373                   5.558291   \n",
            "17     5502938               0.524639                   0.662512   \n",
            "30     5503121               0.454082                   1.282865   \n",
            "21     5502952               0.513112                   0.677888   \n",
            "37     5503193               0.643437                   1.881900   \n",
            "0      5501324               0.442622                   1.084241   \n",
            "9      5502901               0.560988                  11.339806   \n",
            "27     5503092               0.495880                  -0.873721   \n",
            "32     5503134               0.443797                   0.628766   \n",
            "10     5502902               0.423554                   2.521571   \n",
            "6      5502898               0.573312                   2.109046   \n",
            "7      5502899               0.468677                   0.661144   \n",
            "5      5502892               0.576797                   2.443703   \n",
            "13     5502909               0.403856                  -0.005430   \n",
            "36     5503150               0.455261                  -0.502001   \n",
            "4      5502888               0.061535                   2.554803   \n",
            "18     5502941               0.479556                   0.565075   \n",
            "3      5502868               0.024318                   4.618723   \n",
            "16     5502932               0.434061                  -0.326028   \n",
            "38     5503210               0.485552                   1.759279   \n",
            "33     5503137               0.528838                   1.360679   \n",
            "25     5502981               0.443281                  -0.069417   \n",
            "28     5503112               0.436202                  -0.395250   \n",
            "24     5502955               0.412168                  -0.448390   \n",
            "31     5503132               0.417555                  -0.292898   \n",
            "34     5503140               0.374336                  -1.889340   \n",
            "23     5502954               0.026813                   2.557414   \n",
            "26     5503050               0.401107                  -0.154553   \n",
            "8      5502900               0.386175                  -0.093023   \n",
            "29     5503118               0.418605                   0.263136   \n",
            "20     5502944               0.602465                   1.419281   \n",
            "22     5502953               0.378051                   0.275965   \n",
            "35     5503142               0.391489                  -0.577643   \n",
            "2      5502858               0.362070                  -1.057827   \n",
            "19     5502942               0.385969                  -0.796882   \n",
            "\n",
            "    PUE_Random_Forest  PUE_XGBoost  rank  \n",
            "11           0.771400     0.828609     1  \n",
            "12           0.590430     0.638278     2  \n",
            "15           0.617500     0.622568     3  \n",
            "14           0.644825     0.622568     4  \n",
            "1            0.531833     0.604149     5  \n",
            "17           0.540372     0.592749     6  \n",
            "30           0.528887     0.577178     7  \n",
            "21           0.523825     0.570163     8  \n",
            "37           0.500734     0.562748     9  \n",
            "0            0.476147     0.548330    10  \n",
            "9            0.511482     0.547506    11  \n",
            "27           0.494456     0.539420    12  \n",
            "32           0.515840     0.516734    13  \n",
            "10           0.363210     0.491258    14  \n",
            "6            0.480971     0.477808    15  \n",
            "7            0.412939     0.453740    16  \n",
            "5            0.382572     0.450801    17  \n",
            "13           0.400307     0.448463    18  \n",
            "36           0.454441     0.433821    19  \n",
            "4            0.384087     0.430136    20  \n",
            "18           0.422114     0.426584    21  \n",
            "3            0.337633     0.352799    22  \n",
            "16           0.335852     0.346569    23  \n",
            "38           0.343743     0.332742    24  \n",
            "33           0.408500     0.326776    25  \n",
            "25           0.343350     0.320685    26  \n",
            "28           0.351333     0.271362    27  \n",
            "24           0.301360     0.267394    28  \n",
            "31           0.323117     0.267008    29  \n",
            "34           0.311810     0.264443    30  \n",
            "23           0.314647     0.254278    31  \n",
            "26           0.349182     0.251132    32  \n",
            "8            0.292860     0.245474    33  \n",
            "29           0.293590     0.228102    34  \n",
            "20           0.355855     0.220096    35  \n",
            "22           0.301777     0.217234    36  \n",
            "35           0.291127     0.202878    37  \n",
            "2            0.285642     0.197947    38  \n",
            "19           0.291980     0.181855    39  \n"
          ]
        }
      ]
    },
    {
      "cell_type": "markdown",
      "source": [
        "Save ranked minigrid villages"
      ],
      "metadata": {
        "id": "wJZgTX5Npobi"
      }
    },
    {
      "cell_type": "code",
      "source": [
        "predictions_sorted.to_csv('village_pue_predictions.csv', index=False)\n",
        "print(\"\\nPredictions saved to 'village_pue_predictions.csv'\")"
      ],
      "metadata": {
        "colab": {
          "base_uri": "https://localhost:8080/"
        },
        "id": "-oB_hhyCpuHS",
        "outputId": "cc37e2d6-45bd-4cc1-cfe1-d3442eb68f4a"
      },
      "execution_count": 11,
      "outputs": [
        {
          "output_type": "stream",
          "name": "stdout",
          "text": [
            "\n",
            "Predictions saved to 'village_pue_predictions.csv'\n"
          ]
        }
      ]
    }
  ]
}