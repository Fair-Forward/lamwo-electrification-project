{
  "nbformat": 4,
  "nbformat_minor": 0,
  "metadata": {
    "colab": {
      "provenance": [],
      "authorship_tag": "ABX9TyN1ytycpsxc8GJ7FG+hhHuB",
      "include_colab_link": true
    },
    "kernelspec": {
      "name": "python3",
      "display_name": "Python 3"
    },
    "language_info": {
      "name": "python"
    }
  },
  "cells": [
    {
      "cell_type": "markdown",
      "metadata": {
        "id": "view-in-github",
        "colab_type": "text"
      },
      "source": [
        "<a href=\"https://colab.research.google.com/github/SunbirdAI/lamwo-electrification-project/blob/main/notebooks/rank_minigrid_villages_PUE/train_PUE_predictor.ipynb\" target=\"_parent\"><img src=\"https://colab.research.google.com/assets/colab-badge.svg\" alt=\"Open In Colab\"/></a>"
      ]
    },
    {
      "cell_type": "markdown",
      "source": [
        "# Train Productive Use of Energy (PUE) predictor\n",
        "\n",
        "Use subjectively labelled estimates of how well currently installed minigrids are operating to train a model that predicts a PUE value (0 - 1)"
      ],
      "metadata": {
        "id": "Xe_EG889gaZl"
      }
    },
    {
      "cell_type": "code",
      "source": [
        "import pandas as pd\n",
        "import numpy as np\n",
        "import pickle\n",
        "\n",
        "from sklearn.linear_model import LinearRegression\n",
        "from sklearn.preprocessing import PolynomialFeatures\n",
        "from sklearn.ensemble import RandomForestRegressor\n",
        "import xgboost as xgb\n",
        "from sklearn.metrics import mean_squared_error, r2_score"
      ],
      "metadata": {
        "id": "xZJZdjBMj3Oc"
      },
      "execution_count": 1,
      "outputs": []
    },
    {
      "cell_type": "markdown",
      "source": [
        "## Load and preprocess training data"
      ],
      "metadata": {
        "id": "7O41OcZTg46t"
      }
    },
    {
      "cell_type": "code",
      "source": [
        "data = pd.read_csv(\"existing_minigrid_trainingdata.csv\")\n",
        "\n",
        "# Selected features relevant for PUE calculation\n",
        "features = ['building_count', 'permanent_building_count', 'educational_facilities',\n",
        "            'health_facilities', 'social_facilities', 'services', 'primary_roads', 'secondary_roads',\n",
        "            'tertiary_roads', 'unclassified_roads', 'percentage_crop_land', 'percentage_built_area',\n",
        "            'mean_pvout_solar_radiation', 'mean_wind_speed']\n",
        "\n",
        "X = data[features]\n",
        "y = data['winch_prob']"
      ],
      "metadata": {
        "id": "sDZaGPsRhAqj"
      },
      "execution_count": 2,
      "outputs": []
    },
    {
      "cell_type": "code",
      "source": [
        "X.head()"
      ],
      "metadata": {
        "colab": {
          "base_uri": "https://localhost:8080/",
          "height": 226
        },
        "id": "HzW0MFIrkPu-",
        "outputId": "01fac027-0df1-4c79-cdeb-97e27fbe78b0"
      },
      "execution_count": 3,
      "outputs": [
        {
          "output_type": "execute_result",
          "data": {
            "text/plain": [
              "   building_count  permanent_building_count  educational_facilities  \\\n",
              "0             601                       171                       1   \n",
              "1             198                         7                       1   \n",
              "2             183                        31                       1   \n",
              "3             131                        20                       1   \n",
              "4             290                        52                       1   \n",
              "\n",
              "   health_facilities  social_facilities  services  primary_roads  \\\n",
              "0                  1                  0         0              0   \n",
              "1                  0                  0         0              0   \n",
              "2                  0                  0         0              0   \n",
              "3                  0                  0         0              0   \n",
              "4                  0                  0         0              0   \n",
              "\n",
              "   secondary_roads  tertiary_roads  unclassified_roads  percentage_crop_land  \\\n",
              "0                0               1                   0             15.150000   \n",
              "1                0               0                   0             17.375000   \n",
              "2                2               0                   3              8.890000   \n",
              "3                1               4                   3             17.726667   \n",
              "4                0               1                   1             13.405000   \n",
              "\n",
              "   percentage_built_area  mean_pvout_solar_radiation  mean_wind_speed  \n",
              "0                58.5500                    0.000000         0.000000  \n",
              "1                 8.2975                 1595.776978         0.000000  \n",
              "2                 1.2875                 1673.575684         0.000000  \n",
              "3                 1.1400                 1578.909446         0.000000  \n",
              "4                 2.5400                 1644.825056         1.476709  "
            ],
            "text/html": [
              "\n",
              "  <div id=\"df-4d173b10-a01e-45bc-aa7d-61d9a574f9d5\" class=\"colab-df-container\">\n",
              "    <div>\n",
              "<style scoped>\n",
              "    .dataframe tbody tr th:only-of-type {\n",
              "        vertical-align: middle;\n",
              "    }\n",
              "\n",
              "    .dataframe tbody tr th {\n",
              "        vertical-align: top;\n",
              "    }\n",
              "\n",
              "    .dataframe thead th {\n",
              "        text-align: right;\n",
              "    }\n",
              "</style>\n",
              "<table border=\"1\" class=\"dataframe\">\n",
              "  <thead>\n",
              "    <tr style=\"text-align: right;\">\n",
              "      <th></th>\n",
              "      <th>building_count</th>\n",
              "      <th>permanent_building_count</th>\n",
              "      <th>educational_facilities</th>\n",
              "      <th>health_facilities</th>\n",
              "      <th>social_facilities</th>\n",
              "      <th>services</th>\n",
              "      <th>primary_roads</th>\n",
              "      <th>secondary_roads</th>\n",
              "      <th>tertiary_roads</th>\n",
              "      <th>unclassified_roads</th>\n",
              "      <th>percentage_crop_land</th>\n",
              "      <th>percentage_built_area</th>\n",
              "      <th>mean_pvout_solar_radiation</th>\n",
              "      <th>mean_wind_speed</th>\n",
              "    </tr>\n",
              "  </thead>\n",
              "  <tbody>\n",
              "    <tr>\n",
              "      <th>0</th>\n",
              "      <td>601</td>\n",
              "      <td>171</td>\n",
              "      <td>1</td>\n",
              "      <td>1</td>\n",
              "      <td>0</td>\n",
              "      <td>0</td>\n",
              "      <td>0</td>\n",
              "      <td>0</td>\n",
              "      <td>1</td>\n",
              "      <td>0</td>\n",
              "      <td>15.150000</td>\n",
              "      <td>58.5500</td>\n",
              "      <td>0.000000</td>\n",
              "      <td>0.000000</td>\n",
              "    </tr>\n",
              "    <tr>\n",
              "      <th>1</th>\n",
              "      <td>198</td>\n",
              "      <td>7</td>\n",
              "      <td>1</td>\n",
              "      <td>0</td>\n",
              "      <td>0</td>\n",
              "      <td>0</td>\n",
              "      <td>0</td>\n",
              "      <td>0</td>\n",
              "      <td>0</td>\n",
              "      <td>0</td>\n",
              "      <td>17.375000</td>\n",
              "      <td>8.2975</td>\n",
              "      <td>1595.776978</td>\n",
              "      <td>0.000000</td>\n",
              "    </tr>\n",
              "    <tr>\n",
              "      <th>2</th>\n",
              "      <td>183</td>\n",
              "      <td>31</td>\n",
              "      <td>1</td>\n",
              "      <td>0</td>\n",
              "      <td>0</td>\n",
              "      <td>0</td>\n",
              "      <td>0</td>\n",
              "      <td>2</td>\n",
              "      <td>0</td>\n",
              "      <td>3</td>\n",
              "      <td>8.890000</td>\n",
              "      <td>1.2875</td>\n",
              "      <td>1673.575684</td>\n",
              "      <td>0.000000</td>\n",
              "    </tr>\n",
              "    <tr>\n",
              "      <th>3</th>\n",
              "      <td>131</td>\n",
              "      <td>20</td>\n",
              "      <td>1</td>\n",
              "      <td>0</td>\n",
              "      <td>0</td>\n",
              "      <td>0</td>\n",
              "      <td>0</td>\n",
              "      <td>1</td>\n",
              "      <td>4</td>\n",
              "      <td>3</td>\n",
              "      <td>17.726667</td>\n",
              "      <td>1.1400</td>\n",
              "      <td>1578.909446</td>\n",
              "      <td>0.000000</td>\n",
              "    </tr>\n",
              "    <tr>\n",
              "      <th>4</th>\n",
              "      <td>290</td>\n",
              "      <td>52</td>\n",
              "      <td>1</td>\n",
              "      <td>0</td>\n",
              "      <td>0</td>\n",
              "      <td>0</td>\n",
              "      <td>0</td>\n",
              "      <td>0</td>\n",
              "      <td>1</td>\n",
              "      <td>1</td>\n",
              "      <td>13.405000</td>\n",
              "      <td>2.5400</td>\n",
              "      <td>1644.825056</td>\n",
              "      <td>1.476709</td>\n",
              "    </tr>\n",
              "  </tbody>\n",
              "</table>\n",
              "</div>\n",
              "    <div class=\"colab-df-buttons\">\n",
              "\n",
              "  <div class=\"colab-df-container\">\n",
              "    <button class=\"colab-df-convert\" onclick=\"convertToInteractive('df-4d173b10-a01e-45bc-aa7d-61d9a574f9d5')\"\n",
              "            title=\"Convert this dataframe to an interactive table.\"\n",
              "            style=\"display:none;\">\n",
              "\n",
              "  <svg xmlns=\"http://www.w3.org/2000/svg\" height=\"24px\" viewBox=\"0 -960 960 960\">\n",
              "    <path d=\"M120-120v-720h720v720H120Zm60-500h600v-160H180v160Zm220 220h160v-160H400v160Zm0 220h160v-160H400v160ZM180-400h160v-160H180v160Zm440 0h160v-160H620v160ZM180-180h160v-160H180v160Zm440 0h160v-160H620v160Z\"/>\n",
              "  </svg>\n",
              "    </button>\n",
              "\n",
              "  <style>\n",
              "    .colab-df-container {\n",
              "      display:flex;\n",
              "      gap: 12px;\n",
              "    }\n",
              "\n",
              "    .colab-df-convert {\n",
              "      background-color: #E8F0FE;\n",
              "      border: none;\n",
              "      border-radius: 50%;\n",
              "      cursor: pointer;\n",
              "      display: none;\n",
              "      fill: #1967D2;\n",
              "      height: 32px;\n",
              "      padding: 0 0 0 0;\n",
              "      width: 32px;\n",
              "    }\n",
              "\n",
              "    .colab-df-convert:hover {\n",
              "      background-color: #E2EBFA;\n",
              "      box-shadow: 0px 1px 2px rgba(60, 64, 67, 0.3), 0px 1px 3px 1px rgba(60, 64, 67, 0.15);\n",
              "      fill: #174EA6;\n",
              "    }\n",
              "\n",
              "    .colab-df-buttons div {\n",
              "      margin-bottom: 4px;\n",
              "    }\n",
              "\n",
              "    [theme=dark] .colab-df-convert {\n",
              "      background-color: #3B4455;\n",
              "      fill: #D2E3FC;\n",
              "    }\n",
              "\n",
              "    [theme=dark] .colab-df-convert:hover {\n",
              "      background-color: #434B5C;\n",
              "      box-shadow: 0px 1px 3px 1px rgba(0, 0, 0, 0.15);\n",
              "      filter: drop-shadow(0px 1px 2px rgba(0, 0, 0, 0.3));\n",
              "      fill: #FFFFFF;\n",
              "    }\n",
              "  </style>\n",
              "\n",
              "    <script>\n",
              "      const buttonEl =\n",
              "        document.querySelector('#df-4d173b10-a01e-45bc-aa7d-61d9a574f9d5 button.colab-df-convert');\n",
              "      buttonEl.style.display =\n",
              "        google.colab.kernel.accessAllowed ? 'block' : 'none';\n",
              "\n",
              "      async function convertToInteractive(key) {\n",
              "        const element = document.querySelector('#df-4d173b10-a01e-45bc-aa7d-61d9a574f9d5');\n",
              "        const dataTable =\n",
              "          await google.colab.kernel.invokeFunction('convertToInteractive',\n",
              "                                                    [key], {});\n",
              "        if (!dataTable) return;\n",
              "\n",
              "        const docLinkHtml = 'Like what you see? Visit the ' +\n",
              "          '<a target=\"_blank\" href=https://colab.research.google.com/notebooks/data_table.ipynb>data table notebook</a>'\n",
              "          + ' to learn more about interactive tables.';\n",
              "        element.innerHTML = '';\n",
              "        dataTable['output_type'] = 'display_data';\n",
              "        await google.colab.output.renderOutput(dataTable, element);\n",
              "        const docLink = document.createElement('div');\n",
              "        docLink.innerHTML = docLinkHtml;\n",
              "        element.appendChild(docLink);\n",
              "      }\n",
              "    </script>\n",
              "  </div>\n",
              "\n",
              "\n",
              "<div id=\"df-71d11165-b79a-4142-8894-31cee9ea6831\">\n",
              "  <button class=\"colab-df-quickchart\" onclick=\"quickchart('df-71d11165-b79a-4142-8894-31cee9ea6831')\"\n",
              "            title=\"Suggest charts\"\n",
              "            style=\"display:none;\">\n",
              "\n",
              "<svg xmlns=\"http://www.w3.org/2000/svg\" height=\"24px\"viewBox=\"0 0 24 24\"\n",
              "     width=\"24px\">\n",
              "    <g>\n",
              "        <path d=\"M19 3H5c-1.1 0-2 .9-2 2v14c0 1.1.9 2 2 2h14c1.1 0 2-.9 2-2V5c0-1.1-.9-2-2-2zM9 17H7v-7h2v7zm4 0h-2V7h2v10zm4 0h-2v-4h2v4z\"/>\n",
              "    </g>\n",
              "</svg>\n",
              "  </button>\n",
              "\n",
              "<style>\n",
              "  .colab-df-quickchart {\n",
              "      --bg-color: #E8F0FE;\n",
              "      --fill-color: #1967D2;\n",
              "      --hover-bg-color: #E2EBFA;\n",
              "      --hover-fill-color: #174EA6;\n",
              "      --disabled-fill-color: #AAA;\n",
              "      --disabled-bg-color: #DDD;\n",
              "  }\n",
              "\n",
              "  [theme=dark] .colab-df-quickchart {\n",
              "      --bg-color: #3B4455;\n",
              "      --fill-color: #D2E3FC;\n",
              "      --hover-bg-color: #434B5C;\n",
              "      --hover-fill-color: #FFFFFF;\n",
              "      --disabled-bg-color: #3B4455;\n",
              "      --disabled-fill-color: #666;\n",
              "  }\n",
              "\n",
              "  .colab-df-quickchart {\n",
              "    background-color: var(--bg-color);\n",
              "    border: none;\n",
              "    border-radius: 50%;\n",
              "    cursor: pointer;\n",
              "    display: none;\n",
              "    fill: var(--fill-color);\n",
              "    height: 32px;\n",
              "    padding: 0;\n",
              "    width: 32px;\n",
              "  }\n",
              "\n",
              "  .colab-df-quickchart:hover {\n",
              "    background-color: var(--hover-bg-color);\n",
              "    box-shadow: 0 1px 2px rgba(60, 64, 67, 0.3), 0 1px 3px 1px rgba(60, 64, 67, 0.15);\n",
              "    fill: var(--button-hover-fill-color);\n",
              "  }\n",
              "\n",
              "  .colab-df-quickchart-complete:disabled,\n",
              "  .colab-df-quickchart-complete:disabled:hover {\n",
              "    background-color: var(--disabled-bg-color);\n",
              "    fill: var(--disabled-fill-color);\n",
              "    box-shadow: none;\n",
              "  }\n",
              "\n",
              "  .colab-df-spinner {\n",
              "    border: 2px solid var(--fill-color);\n",
              "    border-color: transparent;\n",
              "    border-bottom-color: var(--fill-color);\n",
              "    animation:\n",
              "      spin 1s steps(1) infinite;\n",
              "  }\n",
              "\n",
              "  @keyframes spin {\n",
              "    0% {\n",
              "      border-color: transparent;\n",
              "      border-bottom-color: var(--fill-color);\n",
              "      border-left-color: var(--fill-color);\n",
              "    }\n",
              "    20% {\n",
              "      border-color: transparent;\n",
              "      border-left-color: var(--fill-color);\n",
              "      border-top-color: var(--fill-color);\n",
              "    }\n",
              "    30% {\n",
              "      border-color: transparent;\n",
              "      border-left-color: var(--fill-color);\n",
              "      border-top-color: var(--fill-color);\n",
              "      border-right-color: var(--fill-color);\n",
              "    }\n",
              "    40% {\n",
              "      border-color: transparent;\n",
              "      border-right-color: var(--fill-color);\n",
              "      border-top-color: var(--fill-color);\n",
              "    }\n",
              "    60% {\n",
              "      border-color: transparent;\n",
              "      border-right-color: var(--fill-color);\n",
              "    }\n",
              "    80% {\n",
              "      border-color: transparent;\n",
              "      border-right-color: var(--fill-color);\n",
              "      border-bottom-color: var(--fill-color);\n",
              "    }\n",
              "    90% {\n",
              "      border-color: transparent;\n",
              "      border-bottom-color: var(--fill-color);\n",
              "    }\n",
              "  }\n",
              "</style>\n",
              "\n",
              "  <script>\n",
              "    async function quickchart(key) {\n",
              "      const quickchartButtonEl =\n",
              "        document.querySelector('#' + key + ' button');\n",
              "      quickchartButtonEl.disabled = true;  // To prevent multiple clicks.\n",
              "      quickchartButtonEl.classList.add('colab-df-spinner');\n",
              "      try {\n",
              "        const charts = await google.colab.kernel.invokeFunction(\n",
              "            'suggestCharts', [key], {});\n",
              "      } catch (error) {\n",
              "        console.error('Error during call to suggestCharts:', error);\n",
              "      }\n",
              "      quickchartButtonEl.classList.remove('colab-df-spinner');\n",
              "      quickchartButtonEl.classList.add('colab-df-quickchart-complete');\n",
              "    }\n",
              "    (() => {\n",
              "      let quickchartButtonEl =\n",
              "        document.querySelector('#df-71d11165-b79a-4142-8894-31cee9ea6831 button');\n",
              "      quickchartButtonEl.style.display =\n",
              "        google.colab.kernel.accessAllowed ? 'block' : 'none';\n",
              "    })();\n",
              "  </script>\n",
              "</div>\n",
              "\n",
              "    </div>\n",
              "  </div>\n"
            ],
            "application/vnd.google.colaboratory.intrinsic+json": {
              "type": "dataframe",
              "variable_name": "X",
              "summary": "{\n  \"name\": \"X\",\n  \"rows\": 25,\n  \"fields\": [\n    {\n      \"column\": \"building_count\",\n      \"properties\": {\n        \"dtype\": \"number\",\n        \"std\": 796,\n        \"min\": 105,\n        \"max\": 3411,\n        \"num_unique_values\": 24,\n        \"samples\": [\n          232,\n          430,\n          601\n        ],\n        \"semantic_type\": \"\",\n        \"description\": \"\"\n      }\n    },\n    {\n      \"column\": \"permanent_building_count\",\n      \"properties\": {\n        \"dtype\": \"number\",\n        \"std\": 82,\n        \"min\": 7,\n        \"max\": 362,\n        \"num_unique_values\": 23,\n        \"samples\": [\n          55,\n          13,\n          171\n        ],\n        \"semantic_type\": \"\",\n        \"description\": \"\"\n      }\n    },\n    {\n      \"column\": \"educational_facilities\",\n      \"properties\": {\n        \"dtype\": \"number\",\n        \"std\": 0,\n        \"min\": 0,\n        \"max\": 2,\n        \"num_unique_values\": 3,\n        \"samples\": [\n          1,\n          0,\n          2\n        ],\n        \"semantic_type\": \"\",\n        \"description\": \"\"\n      }\n    },\n    {\n      \"column\": \"health_facilities\",\n      \"properties\": {\n        \"dtype\": \"number\",\n        \"std\": 0,\n        \"min\": 0,\n        \"max\": 1,\n        \"num_unique_values\": 2,\n        \"samples\": [\n          0,\n          1\n        ],\n        \"semantic_type\": \"\",\n        \"description\": \"\"\n      }\n    },\n    {\n      \"column\": \"social_facilities\",\n      \"properties\": {\n        \"dtype\": \"number\",\n        \"std\": 0,\n        \"min\": 0,\n        \"max\": 0,\n        \"num_unique_values\": 1,\n        \"samples\": [\n          0\n        ],\n        \"semantic_type\": \"\",\n        \"description\": \"\"\n      }\n    },\n    {\n      \"column\": \"services\",\n      \"properties\": {\n        \"dtype\": \"number\",\n        \"std\": 0,\n        \"min\": 0,\n        \"max\": 0,\n        \"num_unique_values\": 1,\n        \"samples\": [\n          0\n        ],\n        \"semantic_type\": \"\",\n        \"description\": \"\"\n      }\n    },\n    {\n      \"column\": \"primary_roads\",\n      \"properties\": {\n        \"dtype\": \"number\",\n        \"std\": 0,\n        \"min\": 0,\n        \"max\": 0,\n        \"num_unique_values\": 1,\n        \"samples\": [\n          0\n        ],\n        \"semantic_type\": \"\",\n        \"description\": \"\"\n      }\n    },\n    {\n      \"column\": \"secondary_roads\",\n      \"properties\": {\n        \"dtype\": \"number\",\n        \"std\": 0,\n        \"min\": 0,\n        \"max\": 2,\n        \"num_unique_values\": 3,\n        \"samples\": [\n          0\n        ],\n        \"semantic_type\": \"\",\n        \"description\": \"\"\n      }\n    },\n    {\n      \"column\": \"tertiary_roads\",\n      \"properties\": {\n        \"dtype\": \"number\",\n        \"std\": 0,\n        \"min\": 0,\n        \"max\": 4,\n        \"num_unique_values\": 3,\n        \"samples\": [\n          1\n        ],\n        \"semantic_type\": \"\",\n        \"description\": \"\"\n      }\n    },\n    {\n      \"column\": \"unclassified_roads\",\n      \"properties\": {\n        \"dtype\": \"number\",\n        \"std\": 5,\n        \"min\": 0,\n        \"max\": 26,\n        \"num_unique_values\": 7,\n        \"samples\": [\n          0\n        ],\n        \"semantic_type\": \"\",\n        \"description\": \"\"\n      }\n    },\n    {\n      \"column\": \"percentage_crop_land\",\n      \"properties\": {\n        \"dtype\": \"number\",\n        \"std\": 5.241412091283049,\n        \"min\": 2.5966666666666667,\n        \"max\": 25.1825,\n        \"num_unique_values\": 24,\n        \"samples\": [\n          2.5966666666666667\n        ],\n        \"semantic_type\": \"\",\n        \"description\": \"\"\n      }\n    },\n    {\n      \"column\": \"percentage_built_area\",\n      \"properties\": {\n        \"dtype\": \"number\",\n        \"std\": 12.577620976029872,\n        \"min\": 0.4275,\n        \"max\": 58.55,\n        \"num_unique_values\": 24,\n        \"samples\": [\n          1.5675\n        ],\n        \"semantic_type\": \"\",\n        \"description\": \"\"\n      }\n    },\n    {\n      \"column\": \"mean_pvout_solar_radiation\",\n      \"properties\": {\n        \"dtype\": \"number\",\n        \"std\": 328.37939930760047,\n        \"min\": 0.0,\n        \"max\": 1684.6577919407894,\n        \"num_unique_values\": 24,\n        \"samples\": [\n          1604.76259765625\n        ],\n        \"semantic_type\": \"\",\n        \"description\": \"\"\n      }\n    },\n    {\n      \"column\": \"mean_wind_speed\",\n      \"properties\": {\n        \"dtype\": \"number\",\n        \"std\": 0.46375735225890474,\n        \"min\": 0.0,\n        \"max\": 1.4767089960537167,\n        \"num_unique_values\": 4,\n        \"samples\": [\n          1.4767089960537167\n        ],\n        \"semantic_type\": \"\",\n        \"description\": \"\"\n      }\n    }\n  ]\n}"
            }
          },
          "metadata": {},
          "execution_count": 3
        }
      ]
    },
    {
      "cell_type": "code",
      "source": [
        "y.head()"
      ],
      "metadata": {
        "colab": {
          "base_uri": "https://localhost:8080/",
          "height": 241
        },
        "id": "DAKNh3OVkS-P",
        "outputId": "38980f4c-2a31-4dca-a6ce-7a603f3a631f"
      },
      "execution_count": 4,
      "outputs": [
        {
          "output_type": "execute_result",
          "data": {
            "text/plain": [
              "0    0.85\n",
              "1    0.60\n",
              "2    0.17\n",
              "3    0.14\n",
              "4    0.45\n",
              "Name: winch_prob, dtype: float64"
            ],
            "text/html": [
              "<div>\n",
              "<style scoped>\n",
              "    .dataframe tbody tr th:only-of-type {\n",
              "        vertical-align: middle;\n",
              "    }\n",
              "\n",
              "    .dataframe tbody tr th {\n",
              "        vertical-align: top;\n",
              "    }\n",
              "\n",
              "    .dataframe thead th {\n",
              "        text-align: right;\n",
              "    }\n",
              "</style>\n",
              "<table border=\"1\" class=\"dataframe\">\n",
              "  <thead>\n",
              "    <tr style=\"text-align: right;\">\n",
              "      <th></th>\n",
              "      <th>winch_prob</th>\n",
              "    </tr>\n",
              "  </thead>\n",
              "  <tbody>\n",
              "    <tr>\n",
              "      <th>0</th>\n",
              "      <td>0.85</td>\n",
              "    </tr>\n",
              "    <tr>\n",
              "      <th>1</th>\n",
              "      <td>0.60</td>\n",
              "    </tr>\n",
              "    <tr>\n",
              "      <th>2</th>\n",
              "      <td>0.17</td>\n",
              "    </tr>\n",
              "    <tr>\n",
              "      <th>3</th>\n",
              "      <td>0.14</td>\n",
              "    </tr>\n",
              "    <tr>\n",
              "      <th>4</th>\n",
              "      <td>0.45</td>\n",
              "    </tr>\n",
              "  </tbody>\n",
              "</table>\n",
              "</div><br><label><b>dtype:</b> float64</label>"
            ]
          },
          "metadata": {},
          "execution_count": 4
        }
      ]
    },
    {
      "cell_type": "markdown",
      "source": [
        "Split 30% of the data randomly for evaluation"
      ],
      "metadata": {
        "id": "HLiqVaDQhZso"
      }
    },
    {
      "cell_type": "code",
      "source": [
        "np.random.seed(42)\n",
        "\n",
        "eval_indices = np.random.choice(X.index, size=int(0.3 * len(X)), replace=False)\n",
        "X_eval = X.loc[eval_indices]\n",
        "y_eval = y.loc[eval_indices]"
      ],
      "metadata": {
        "id": "T4Glekyvhi4i"
      },
      "execution_count": 5,
      "outputs": []
    },
    {
      "cell_type": "code",
      "source": [
        "len(X_eval)"
      ],
      "metadata": {
        "colab": {
          "base_uri": "https://localhost:8080/"
        },
        "id": "v1ACAMR0kYOO",
        "outputId": "0472db8e-4597-405d-f3b3-ec027f8e3835"
      },
      "execution_count": 6,
      "outputs": [
        {
          "output_type": "execute_result",
          "data": {
            "text/plain": [
              "7"
            ]
          },
          "metadata": {},
          "execution_count": 6
        }
      ]
    },
    {
      "cell_type": "markdown",
      "source": [
        "Because the dataset is so limited (~25 records) we want to train on the whole dataset."
      ],
      "metadata": {
        "id": "mf1XP9wNhpS9"
      }
    },
    {
      "cell_type": "code",
      "source": [
        "X_train = X\n",
        "y_train = y"
      ],
      "metadata": {
        "id": "FOjMb3rQh2si"
      },
      "execution_count": 7,
      "outputs": []
    },
    {
      "cell_type": "code",
      "source": [
        "len(X_train)"
      ],
      "metadata": {
        "colab": {
          "base_uri": "https://localhost:8080/"
        },
        "id": "4W9QRjI1kd37",
        "outputId": "de25a7ae-e642-4356-fd2f-17ef3c62f262"
      },
      "execution_count": 8,
      "outputs": [
        {
          "output_type": "execute_result",
          "data": {
            "text/plain": [
              "25"
            ]
          },
          "metadata": {},
          "execution_count": 8
        }
      ]
    },
    {
      "cell_type": "markdown",
      "source": [
        "Helper function to evaluate models"
      ],
      "metadata": {
        "id": "5D9Wk0nyh5aO"
      }
    },
    {
      "cell_type": "code",
      "execution_count": 9,
      "metadata": {
        "id": "UDmCHRq4jxFv"
      },
      "outputs": [],
      "source": [
        "def evaluate_model(y_true, y_pred, model_name):\n",
        "    mse = mean_squared_error(y_true, y_pred)\n",
        "    r2 = r2_score(y_true, y_pred)\n",
        "    print(f\"\\n{model_name} Performance on 30% Evaluation Set:\")\n",
        "    print(f\"Mean Squared Error: {mse:.4f}\")\n",
        "    print(f\"R² Score: {r2:.4f}\")"
      ]
    },
    {
      "cell_type": "markdown",
      "source": [
        "## Train and evaluate with several algorithms"
      ],
      "metadata": {
        "id": "LJwIEXUah9Ma"
      }
    },
    {
      "cell_type": "markdown",
      "source": [
        "## 1. Linear Regression"
      ],
      "metadata": {
        "id": "xUhBJKJ3iB4A"
      }
    },
    {
      "cell_type": "code",
      "source": [
        "lin_reg = LinearRegression()\n",
        "lin_reg.fit(X_train, y_train)\n",
        "y_pred_lin = lin_reg.predict(X_eval)\n",
        "\n",
        "evaluate_model(y_eval, y_pred_lin, \"Linear Regression\")"
      ],
      "metadata": {
        "colab": {
          "base_uri": "https://localhost:8080/"
        },
        "id": "Z7xAeTegiEsU",
        "outputId": "0e3ea571-8375-4555-8c09-8908e9aeef70"
      },
      "execution_count": 10,
      "outputs": [
        {
          "output_type": "stream",
          "name": "stdout",
          "text": [
            "\n",
            "Linear Regression Performance on 30% Evaluation Set:\n",
            "Mean Squared Error: 0.0143\n",
            "R² Score: 0.6570\n"
          ]
        }
      ]
    },
    {
      "cell_type": "markdown",
      "source": [
        "LR Coefficients"
      ],
      "metadata": {
        "id": "lM_4leyei7Ut"
      }
    },
    {
      "cell_type": "code",
      "source": [
        "print(\"Linear Regression Coefficients:\")\n",
        "for feature, coef in zip(features, lin_reg.coef_):\n",
        "    print(f\"{feature}: {coef:.4f}\")\n",
        "print(f\"Intercept: {lin_reg.intercept_:.4f}\")"
      ],
      "metadata": {
        "colab": {
          "base_uri": "https://localhost:8080/"
        },
        "id": "wGnzLAL8jA9D",
        "outputId": "8212cb51-398f-4c12-e7fd-66bfafa69a97"
      },
      "execution_count": 11,
      "outputs": [
        {
          "output_type": "stream",
          "name": "stdout",
          "text": [
            "Linear Regression Coefficients:\n",
            "building_count: 0.0001\n",
            "permanent_building_count: 0.0008\n",
            "educational_facilities: -0.0743\n",
            "health_facilities: 0.0472\n",
            "social_facilities: -0.0000\n",
            "services: -0.0000\n",
            "primary_roads: 0.0000\n",
            "secondary_roads: -0.0610\n",
            "tertiary_roads: -0.0279\n",
            "unclassified_roads: -0.0167\n",
            "percentage_crop_land: 0.0017\n",
            "percentage_built_area: 0.0164\n",
            "mean_pvout_solar_radiation: 0.0004\n",
            "mean_wind_speed: 0.1129\n",
            "Intercept: -0.2687\n"
          ]
        }
      ]
    },
    {
      "cell_type": "markdown",
      "source": [
        "Save Linear Regression model"
      ],
      "metadata": {
        "id": "_aJq5KMhjDbN"
      }
    },
    {
      "cell_type": "code",
      "source": [
        "with open('lin_reg.pkl', 'wb') as f:\n",
        "    pickle.dump(lin_reg, f)"
      ],
      "metadata": {
        "id": "SlaYWX47jEnb"
      },
      "execution_count": 12,
      "outputs": []
    },
    {
      "cell_type": "markdown",
      "source": [
        "Sample PUE formula (Linear Regression)"
      ],
      "metadata": {
        "id": "cFlQSsONiMyC"
      }
    },
    {
      "cell_type": "code",
      "source": [
        "print(\"\\nLinear PUE Formula:\")\n",
        "formula = f\"PUE = {lin_reg.intercept_:.4f}\"\n",
        "for i, coef in enumerate(lin_reg.coef_):\n",
        "    formula += f\" + {coef:.4f} * {features[i]}\"\n",
        "print(formula)"
      ],
      "metadata": {
        "colab": {
          "base_uri": "https://localhost:8080/"
        },
        "id": "xQ7J67rFiOR3",
        "outputId": "15262e7c-eaf0-4e1a-96ad-f31345f72114"
      },
      "execution_count": 13,
      "outputs": [
        {
          "output_type": "stream",
          "name": "stdout",
          "text": [
            "\n",
            "Linear PUE Formula:\n",
            "PUE = -0.2687 + 0.0001 * building_count + 0.0008 * permanent_building_count + -0.0743 * educational_facilities + 0.0472 * health_facilities + -0.0000 * social_facilities + -0.0000 * services + 0.0000 * primary_roads + -0.0610 * secondary_roads + -0.0279 * tertiary_roads + -0.0167 * unclassified_roads + 0.0017 * percentage_crop_land + 0.0164 * percentage_built_area + 0.0004 * mean_pvout_solar_radiation + 0.1129 * mean_wind_speed\n"
          ]
        }
      ]
    },
    {
      "cell_type": "markdown",
      "source": [
        "## 2. Polynomial Regression (degree 2)"
      ],
      "metadata": {
        "id": "TwvmD7WhiQtY"
      }
    },
    {
      "cell_type": "code",
      "source": [
        "poly = PolynomialFeatures(degree=2, include_bias=False)\n",
        "X_train_poly = poly.fit_transform(X_train)\n",
        "X_eval_poly = poly.transform(X_eval)\n",
        "\n",
        "poly_reg = LinearRegression()\n",
        "poly_reg.fit(X_train_poly, y_train)\n",
        "y_pred_poly = poly_reg.predict(X_eval_poly)\n",
        "\n",
        "evaluate_model(y_eval, y_pred_poly, \"Polynomial Regression (degree 2)\")"
      ],
      "metadata": {
        "colab": {
          "base_uri": "https://localhost:8080/"
        },
        "id": "x6nhHDn6iTyL",
        "outputId": "096b1ff6-5588-481b-ba73-2dad93bbf87e"
      },
      "execution_count": 14,
      "outputs": [
        {
          "output_type": "stream",
          "name": "stdout",
          "text": [
            "\n",
            "Polynomial Regression (degree 2) Performance on 30% Evaluation Set:\n",
            "Mean Squared Error: 0.0000\n",
            "R² Score: 0.9993\n"
          ]
        }
      ]
    },
    {
      "cell_type": "markdown",
      "source": [
        "Save Polynomial Regression model and PolynomialFeatures object"
      ],
      "metadata": {
        "id": "U3-0s4YojP1a"
      }
    },
    {
      "cell_type": "code",
      "source": [
        "with open('poly_reg.pkl', 'wb') as f:\n",
        "    pickle.dump(poly_reg, f)\n",
        "with open('poly_features.pkl', 'wb') as f:\n",
        "    pickle.dump(poly, f)"
      ],
      "metadata": {
        "id": "fYzgbm48jX63"
      },
      "execution_count": 15,
      "outputs": []
    },
    {
      "cell_type": "markdown",
      "source": [
        "## 3. Random Forest Regression"
      ],
      "metadata": {
        "id": "7CSRRypgiXFL"
      }
    },
    {
      "cell_type": "code",
      "source": [
        "rf_reg = RandomForestRegressor(n_estimators=100, max_depth=5, random_state=42)\n",
        "rf_reg.fit(X_train, y_train)\n",
        "y_pred_rf = rf_reg.predict(X_eval)\n",
        "\n",
        "evaluate_model(y_eval, y_pred_rf, \"Random Forest Regression\")"
      ],
      "metadata": {
        "colab": {
          "base_uri": "https://localhost:8080/"
        },
        "id": "uZXCOKxtiY_Q",
        "outputId": "53770627-bbc3-4724-fb70-99fd4ef51dbf"
      },
      "execution_count": 16,
      "outputs": [
        {
          "output_type": "stream",
          "name": "stdout",
          "text": [
            "\n",
            "Random Forest Regression Performance on 30% Evaluation Set:\n",
            "Mean Squared Error: 0.0043\n",
            "R² Score: 0.8970\n"
          ]
        }
      ]
    },
    {
      "cell_type": "markdown",
      "source": [
        "Feature importance"
      ],
      "metadata": {
        "id": "J0oDDJvGjbh5"
      }
    },
    {
      "cell_type": "code",
      "source": [
        "print(\"\\nRandom Forest Feature Importances:\")\n",
        "for feature, importance in zip(features, rf_reg.feature_importances_):\n",
        "    print(f\"{feature}: {importance:.4f}\")"
      ],
      "metadata": {
        "colab": {
          "base_uri": "https://localhost:8080/"
        },
        "id": "IktkLceKjfdt",
        "outputId": "d0e50a45-f636-42e0-d975-02298c8d137b"
      },
      "execution_count": 17,
      "outputs": [
        {
          "output_type": "stream",
          "name": "stdout",
          "text": [
            "\n",
            "Random Forest Feature Importances:\n",
            "building_count: 0.1624\n",
            "permanent_building_count: 0.3704\n",
            "educational_facilities: 0.0212\n",
            "health_facilities: 0.0035\n",
            "social_facilities: 0.0000\n",
            "services: 0.0000\n",
            "primary_roads: 0.0000\n",
            "secondary_roads: 0.0129\n",
            "tertiary_roads: 0.0095\n",
            "unclassified_roads: 0.0288\n",
            "percentage_crop_land: 0.0410\n",
            "percentage_built_area: 0.3023\n",
            "mean_pvout_solar_radiation: 0.0463\n",
            "mean_wind_speed: 0.0018\n"
          ]
        }
      ]
    },
    {
      "cell_type": "markdown",
      "source": [
        "Save Random Forest model"
      ],
      "metadata": {
        "id": "nuXum2cGjgY0"
      }
    },
    {
      "cell_type": "code",
      "source": [
        "with open('rf_reg.pkl', 'wb') as f:\n",
        "    pickle.dump(rf_reg, f)"
      ],
      "metadata": {
        "id": "l3PQ7bHYjh2B"
      },
      "execution_count": 18,
      "outputs": []
    },
    {
      "cell_type": "markdown",
      "source": [
        "## 4. XGBoost Regression"
      ],
      "metadata": {
        "id": "njASqCAIicwt"
      }
    },
    {
      "cell_type": "code",
      "source": [
        "xgb_reg = xgb.XGBRegressor(n_estimators=100, max_depth=3, learning_rate=0.1, random_state=42, objective='reg:squarederror')\n",
        "xgb_reg.fit(X_train, y_train)\n",
        "y_pred_xgb = xgb_reg.predict(X_eval)\n",
        "\n",
        "evaluate_model(y_eval, y_pred_xgb, \"XGBoost Regression\")"
      ],
      "metadata": {
        "colab": {
          "base_uri": "https://localhost:8080/"
        },
        "id": "y29MUjztjtwd",
        "outputId": "7f013c0f-3693-445c-8431-6d345dc7dafc"
      },
      "execution_count": 19,
      "outputs": [
        {
          "output_type": "stream",
          "name": "stdout",
          "text": [
            "\n",
            "XGBoost Regression Performance on 30% Evaluation Set:\n",
            "Mean Squared Error: 0.0000\n",
            "R² Score: 0.9988\n"
          ]
        }
      ]
    },
    {
      "cell_type": "markdown",
      "source": [
        "Feature importance"
      ],
      "metadata": {
        "id": "R_bbp-zijxLB"
      }
    },
    {
      "cell_type": "code",
      "source": [
        "print(\"\\nXGBoost Feature Importances:\")\n",
        "for feature, importance in zip(features, xgb_reg.feature_importances_):\n",
        "    print(f\"{feature}: {importance:.4f}\")"
      ],
      "metadata": {
        "colab": {
          "base_uri": "https://localhost:8080/"
        },
        "id": "c4FScVDfj0Gd",
        "outputId": "5b54e45e-2463-4bd3-998a-a17f75e7b6a6"
      },
      "execution_count": 20,
      "outputs": [
        {
          "output_type": "stream",
          "name": "stdout",
          "text": [
            "\n",
            "XGBoost Feature Importances:\n",
            "building_count: 0.0599\n",
            "permanent_building_count: 0.4093\n",
            "educational_facilities: 0.0549\n",
            "health_facilities: 0.0056\n",
            "social_facilities: 0.0000\n",
            "services: 0.0000\n",
            "primary_roads: 0.0000\n",
            "secondary_roads: 0.1154\n",
            "tertiary_roads: 0.0381\n",
            "unclassified_roads: 0.0170\n",
            "percentage_crop_land: 0.0484\n",
            "percentage_built_area: 0.2338\n",
            "mean_pvout_solar_radiation: 0.0140\n",
            "mean_wind_speed: 0.0036\n"
          ]
        }
      ]
    },
    {
      "cell_type": "markdown",
      "source": [
        "Save XGBoost model"
      ],
      "metadata": {
        "id": "laEiNH-Tj12s"
      }
    },
    {
      "cell_type": "code",
      "source": [
        "with open('xgb_reg.pkl', 'wb') as f:\n",
        "    pickle.dump(xgb_reg, f)"
      ],
      "metadata": {
        "id": "kTF4bvEMl7ni"
      },
      "execution_count": 21,
      "outputs": []
    },
    {
      "cell_type": "markdown",
      "source": [
        "Zip models"
      ],
      "metadata": {
        "id": "_1lEPaHJj_sS"
      }
    },
    {
      "cell_type": "code",
      "source": [
        "!zip -r ranking_models.zip *.pkl"
      ],
      "metadata": {
        "colab": {
          "base_uri": "https://localhost:8080/"
        },
        "id": "XZG_Tpo4tl1A",
        "outputId": "5c4cd809-e3b2-4659-885b-38edf1216b31"
      },
      "execution_count": 22,
      "outputs": [
        {
          "output_type": "stream",
          "name": "stdout",
          "text": [
            "  adding: lin_reg.pkl (deflated 24%)\n",
            "  adding: poly_features.pkl (deflated 36%)\n",
            "  adding: poly_reg.pkl (deflated 21%)\n",
            "  adding: rf_reg.pkl (deflated 84%)\n",
            "  adding: xgb_reg.pkl (deflated 87%)\n"
          ]
        }
      ]
    }
  ]
}