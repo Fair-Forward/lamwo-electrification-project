{
  "nbformat": 4,
  "nbformat_minor": 0,
  "metadata": {
    "colab": {
      "provenance": [],
      "authorship_tag": "ABX9TyMnqIzdZcFWWJoMiroHqEKx",
      "include_colab_link": true
    },
    "kernelspec": {
      "name": "python3",
      "display_name": "Python 3"
    },
    "language_info": {
      "name": "python"
    }
  },
  "cells": [
    {
      "cell_type": "markdown",
      "metadata": {
        "id": "view-in-github",
        "colab_type": "text"
      },
      "source": [
        "<a href=\"https://colab.research.google.com/github/SunbirdAI/lamwo-electrification-project/blob/main/notebooks/rank_minigrid_villages_PUE/predict_PUE_and_rank_candidate_mg_villages.ipynb\" target=\"_parent\"><img src=\"https://colab.research.google.com/assets/colab-badge.svg\" alt=\"Open In Colab\"/></a>"
      ]
    },
    {
      "cell_type": "markdown",
      "source": [
        "# Predict PUE and rank villages based on PUE score\n",
        "\n",
        "Inference code for prediction of PUE for a village. The predicted value can also be used to rank the villages and order priority of deployment."
      ],
      "metadata": {
        "id": "0NyIRePul1q4"
      }
    },
    {
      "cell_type": "code",
      "source": [
        "import pandas as pd\n",
        "import numpy as np\n",
        "import xgboost as xgb\n",
        "import pickle\n",
        "\n",
        "from sklearn.linear_model import LinearRegression\n",
        "from sklearn.preprocessing import PolynomialFeatures\n",
        "from sklearn.ensemble import RandomForestRegressor"
      ],
      "metadata": {
        "id": "QQXPeZf7swDY"
      },
      "execution_count": 1,
      "outputs": []
    },
    {
      "cell_type": "markdown",
      "source": [
        "## Load and instantiate trained models"
      ],
      "metadata": {
        "id": "URkgo0_XmbXG"
      }
    },
    {
      "cell_type": "code",
      "source": [
        "!unzip ranking_models.zip"
      ],
      "metadata": {
        "colab": {
          "base_uri": "https://localhost:8080/"
        },
        "id": "wXvRothzuDgM",
        "outputId": "18532c10-7ef7-4682-b685-3f1d7ee6221d"
      },
      "execution_count": 3,
      "outputs": [
        {
          "output_type": "stream",
          "name": "stdout",
          "text": [
            "Archive:  ranking_models.zip\n",
            "  inflating: lin_reg.pkl             \n",
            "  inflating: poly_features.pkl       \n",
            "  inflating: poly_reg.pkl            \n",
            "  inflating: rf_reg.pkl              \n",
            "  inflating: xgb_reg.pkl             \n"
          ]
        }
      ]
    },
    {
      "cell_type": "markdown",
      "source": [
        "Features used in training"
      ],
      "metadata": {
        "id": "sX4r39AhmrZD"
      }
    },
    {
      "cell_type": "code",
      "source": [
        "features = ['building_count', 'permanent_building_count', 'educational_facilities',\n",
        "            'health_facilities', 'social_facilities', 'services', 'primary_roads', 'secondary_roads',\n",
        "            'tertiary_roads', 'unclassified_roads', 'percentage_crop_land', 'percentage_built_area',\n",
        "            'mean_pvout_solar_radiation', 'mean_wind_speed']"
      ],
      "metadata": {
        "id": "3Bmug3cgmwMF"
      },
      "execution_count": 4,
      "outputs": []
    },
    {
      "cell_type": "markdown",
      "source": [
        "Load models"
      ],
      "metadata": {
        "id": "g95z7Jsim2Gk"
      }
    },
    {
      "cell_type": "code",
      "source": [
        "with open('lin_reg.pkl', 'rb') as f:\n",
        "    lin_reg = pickle.load(f)\n",
        "with open('poly_reg.pkl', 'rb') as f:\n",
        "    poly_reg = pickle.load(f)\n",
        "with open('poly_features.pkl', 'rb') as f:\n",
        "    poly = pickle.load(f)  # Load the saved PolynomialFeatures object\n",
        "with open('rf_reg.pkl', 'rb') as f:\n",
        "    rf_reg = pickle.load(f)\n",
        "with open('xgb_reg.pkl', 'rb') as f:\n",
        "    xgb_reg = pickle.load(f)"
      ],
      "metadata": {
        "id": "WEmtioiXm31W"
      },
      "execution_count": 5,
      "outputs": []
    },
    {
      "cell_type": "markdown",
      "source": [
        "Function to prepare input data and make predictions"
      ],
      "metadata": {
        "id": "-ZqkTQMnm6XH"
      }
    },
    {
      "cell_type": "code",
      "execution_count": 6,
      "metadata": {
        "id": "6W6ugUNbsoSg"
      },
      "outputs": [],
      "source": [
        "def predict_pue(new_data, lin_reg, poly_reg, poly, rf_reg, xgb_reg, features):\n",
        "    \"\"\"\n",
        "    Predict PUE scores (`winch_prob`) for new data using all four models.\n",
        "\n",
        "    Args:\n",
        "        new_data (pd.DataFrame or dict): New input data with the same features as training\n",
        "        lin_reg, poly_reg, rf_reg, xgb_reg: Trained models\n",
        "        poly: Loaded PolynomialFeatures object\n",
        "        features: List of feature names\n",
        "\n",
        "    Returns:\n",
        "        dict: Predictions from each model\n",
        "    \"\"\"\n",
        "    # Convert input to DataFrame if it’s a dict\n",
        "    if isinstance(new_data, dict):\n",
        "        new_data = pd.DataFrame([new_data])\n",
        "\n",
        "    # Ensure all required features are present\n",
        "    missing_features = [f for f in features if f not in new_data.columns]\n",
        "    if missing_features:\n",
        "        raise ValueError(f\"Missing features in new data: {missing_features}\")\n",
        "\n",
        "    # Select and order features\n",
        "    X_new = new_data[features]\n",
        "\n",
        "    # Predictions\n",
        "    pred_lin = lin_reg.predict(X_new)\n",
        "    X_new_poly = poly.transform(X_new)  # Use loaded poly object to transform data\n",
        "    pred_poly = poly_reg.predict(X_new_poly)  # Use loaded poly_reg to predict\n",
        "    pred_rf = rf_reg.predict(X_new)\n",
        "    pred_xgb = xgb_reg.predict(X_new)\n",
        "\n",
        "    return {\n",
        "        \"Linear Regression\": pred_lin[0] if len(pred_lin) == 1 else pred_lin,\n",
        "        \"Polynomial Regression (degree 2)\": pred_poly[0] if len(pred_poly) == 1 else pred_poly,\n",
        "        \"Random Forest Regression\": pred_rf[0] if len(pred_rf) == 1 else pred_rf,\n",
        "        \"XGBoost Regression\": pred_xgb[0] if len(pred_xgb) == 1 else pred_xgb\n",
        "    }"
      ]
    },
    {
      "cell_type": "markdown",
      "source": [
        "## Example usage"
      ],
      "metadata": {
        "id": "40ngVBSinFDP"
      }
    },
    {
      "cell_type": "code",
      "source": [
        "sample_data = {\n",
        "    'Capacity': 0.04,\n",
        "    'building_count': 300,\n",
        "    'permanent_building_count': 280,\n",
        "    'educational_facilities': 10,\n",
        "    'health_facilities': 0,\n",
        "    'social_facilities': 0,\n",
        "    'services': 0,\n",
        "    'primary_roads': 1,\n",
        "    'secondary_roads': 1,\n",
        "    'tertiary_roads': 2,\n",
        "    'unclassified_roads': 100,\n",
        "    'percentage_crop_land': 95.0,\n",
        "    'percentage_built_area': 85.0,\n",
        "    'mean_pvout_solar_radiation': 1650.0,\n",
        "    'mean_wind_speed': 18.5,\n",
        "    'mean_ndvi': 0.35\n",
        "}"
      ],
      "metadata": {
        "id": "ogPI3MnVnIqc"
      },
      "execution_count": 7,
      "outputs": []
    },
    {
      "cell_type": "markdown",
      "source": [
        "Predict PUE using loaded models"
      ],
      "metadata": {
        "id": "pC2BV2e9nMXJ"
      }
    },
    {
      "cell_type": "code",
      "source": [
        "try:\n",
        "    predictions = predict_pue(sample_data, lin_reg, poly_reg, poly, rf_reg, xgb_reg, features)\n",
        "    print(\"\\nPUE Predictions for Sample Data:\")\n",
        "    for model, pred in predictions.items():\n",
        "        print(f\"{model}: {pred:.4f}\")\n",
        "except ValueError as e:\n",
        "    print(f\"Error: {e}\")"
      ],
      "metadata": {
        "colab": {
          "base_uri": "https://localhost:8080/"
        },
        "id": "99-KdT8QtHta",
        "outputId": "c16531fa-a6ec-4921-a078-b528e5affc1d"
      },
      "execution_count": 8,
      "outputs": [
        {
          "output_type": "stream",
          "name": "stdout",
          "text": [
            "\n",
            "PUE Predictions for Sample Data:\n",
            "Linear Regression: 1.7560\n",
            "Polynomial Regression (degree 2): 207.8101\n",
            "Random Forest Regression: 0.8290\n",
            "XGBoost Regression: 0.8650\n"
          ]
        }
      ]
    }
  ]
}