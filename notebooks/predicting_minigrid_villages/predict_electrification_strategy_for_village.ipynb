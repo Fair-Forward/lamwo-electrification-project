{
  "nbformat": 4,
  "nbformat_minor": 0,
  "metadata": {
    "colab": {
      "provenance": [],
      "authorship_tag": "ABX9TyMGaXerKDlO8/MSIeopCtvZ",
      "include_colab_link": true
    },
    "kernelspec": {
      "name": "python3",
      "display_name": "Python 3"
    },
    "language_info": {
      "name": "python"
    }
  },
  "cells": [
    {
      "cell_type": "markdown",
      "metadata": {
        "id": "view-in-github",
        "colab_type": "text"
      },
      "source": [
        "<a href=\"https://colab.research.google.com/github/SunbirdAI/lamwo-electrification-project/blob/main/notebooks/predicting_minigrid_villages/predict_electrification_strategy_for_village.ipynb\" target=\"_parent\"><img src=\"https://colab.research.google.com/assets/colab-badge.svg\" alt=\"Open In Colab\"/></a>"
      ]
    },
    {
      "cell_type": "markdown",
      "source": [
        "# Inference for village electrification strategy predictor\n",
        "\n",
        "Given village data, predict the appropriate electrification strategy for the village. Predict using Logistic regression and Random Forest."
      ],
      "metadata": {
        "id": "7_scmJfR_m9f"
      }
    },
    {
      "cell_type": "code",
      "source": [
        "import pandas as pd\n",
        "import numpy as np\n",
        "import pickle\n",
        "from sklearn.preprocessing import StandardScaler"
      ],
      "metadata": {
        "id": "_BghY5xaqJsb"
      },
      "execution_count": 1,
      "outputs": []
    },
    {
      "cell_type": "markdown",
      "source": [
        "## 1. Model Loading Class"
      ],
      "metadata": {
        "id": "vOOjbTc9AH9I"
      }
    },
    {
      "cell_type": "code",
      "execution_count": 2,
      "metadata": {
        "id": "JYgIysd8qCrJ"
      },
      "outputs": [],
      "source": [
        "class ElectrificationPredictor:\n",
        "    def __init__(self, log_reg_path, rf_path, scaler_path, feature_names):\n",
        "        \"\"\"Initialize predictor with trained models and scaler\"\"\"\n",
        "        # Load trained models and scaler\n",
        "        self.log_reg = pickle.load(open(log_reg_path, 'rb'))\n",
        "        self.rf = pickle.load(open(rf_path, 'rb'))\n",
        "        self.scaler = pickle.load(open(scaler_path, 'rb'))\n",
        "        self.feature_names = feature_names\n",
        "        self.classes = ['Grid extension', 'Existing grid', 'Solar home system', 'minigrid']\n",
        "\n",
        "    def preprocess_input(self, data):\n",
        "        \"\"\"Preprocess input data for prediction\"\"\"\n",
        "        # Convert to DataFrame if single instance\n",
        "        if isinstance(data, dict):\n",
        "            data = pd.DataFrame([data])\n",
        "\n",
        "        # Ensure all required features are present\n",
        "        for feature in self.feature_names:\n",
        "            if feature not in data.columns:\n",
        "                data[feature] = 0\n",
        "\n",
        "        # Select only the features used in training\n",
        "        data = data[self.feature_names]\n",
        "\n",
        "        # Handle categorical variable\n",
        "        if 'contains_protected_area' in data.columns:\n",
        "            data['contains_protected_area'] = data['contains_protected_area'].astype(int)\n",
        "\n",
        "        # Fill missing values\n",
        "        data = data.fillna(0)\n",
        "\n",
        "        # Scale the features\n",
        "        data_scaled = self.scaler.transform(data)\n",
        "\n",
        "        return data_scaled\n",
        "\n",
        "    def predict(self, data, model_type='random_forest'):\n",
        "        \"\"\"Make predictions using specified model\"\"\"\n",
        "        # Preprocess the data\n",
        "        data_scaled = self.preprocess_input(data)\n",
        "\n",
        "        # Select model\n",
        "        model = self.rf if model_type == 'random_forest' else self.log_reg\n",
        "\n",
        "        # Make prediction\n",
        "        prediction = model.predict(data_scaled)\n",
        "        probabilities = model.predict_proba(data_scaled)\n",
        "\n",
        "        return prediction, probabilities\n",
        "\n",
        "    def get_probability_df(self, data, model_type='random_forest'):\n",
        "        \"\"\"Return predictions with probabilities as DataFrame\"\"\"\n",
        "        prediction, probabilities = self.predict(data, model_type)\n",
        "\n",
        "        prob_df = pd.DataFrame(\n",
        "            probabilities,\n",
        "            columns=self.classes\n",
        "        )\n",
        "        prob_df['prediction'] = prediction\n",
        "\n",
        "        return prob_df\n"
      ]
    },
    {
      "cell_type": "markdown",
      "source": [
        "## 2. Load saved models"
      ],
      "metadata": {
        "id": "0IOGAm64AbAS"
      }
    },
    {
      "cell_type": "code",
      "source": [
        "!unzip electrification_strategy_models.zip"
      ],
      "metadata": {
        "colab": {
          "base_uri": "https://localhost:8080/"
        },
        "id": "bcEoaiMLAguX",
        "outputId": "05315363-a497-40bf-c958-47e97357c655"
      },
      "execution_count": 3,
      "outputs": [
        {
          "output_type": "stream",
          "name": "stdout",
          "text": [
            "Archive:  electrification_strategy_models.zip\n",
            "   creating: models/\n",
            "  inflating: models/rf_model.pkl     \n",
            "  inflating: models/feature_names.txt  \n",
            "  inflating: models/log_reg_model.pkl  \n",
            "  inflating: models/scaler.pkl       \n"
          ]
        }
      ]
    },
    {
      "cell_type": "markdown",
      "source": [
        "Load feature names"
      ],
      "metadata": {
        "id": "0tG3wN50A6ha"
      }
    },
    {
      "cell_type": "code",
      "source": [
        "with open('models/feature_names.txt', 'r') as f:\n",
        "    feature_names = f.read().split(',')"
      ],
      "metadata": {
        "id": "Xodj9d4VA0ZQ"
      },
      "execution_count": 4,
      "outputs": []
    },
    {
      "cell_type": "markdown",
      "source": [
        "Initialize predictors"
      ],
      "metadata": {
        "id": "ZNdMJlYcA9ws"
      }
    },
    {
      "cell_type": "code",
      "source": [
        "predictor = ElectrificationPredictor(\n",
        "    log_reg_path='models/log_reg_model.pkl',\n",
        "    rf_path='models/rf_model.pkl',\n",
        "    scaler_path='models/scaler.pkl',\n",
        "    feature_names=feature_names\n",
        ")"
      ],
      "metadata": {
        "id": "o17MJRy7A_5p"
      },
      "execution_count": 5,
      "outputs": []
    },
    {
      "cell_type": "markdown",
      "source": [
        "## 3. Example Usage"
      ],
      "metadata": {
        "id": "pSrjVNKjBENs"
      }
    },
    {
      "cell_type": "markdown",
      "source": [
        "### Example 1: Single instance prediction"
      ],
      "metadata": {
        "id": "eOXdpAkUBMnL"
      }
    },
    {
      "cell_type": "code",
      "source": [
        "single_village = {\n",
        "    'facilities': 1,\n",
        "    'grid_extension': 0,\n",
        "    'existing_grid': 0,\n",
        "    'mean_ndvi': 0.3,\n",
        "    'mean_wind_speed': 1.2,\n",
        "    'mean_pvout_solar_radiation': 1600,\n",
        "    'building_count': 200,\n",
        "    'permanent_building_count': 50,\n",
        "    'educational_facilities': 1,\n",
        "    'health_facilities': 0,\n",
        "    'social_facilities': 0,\n",
        "    'services': 0,\n",
        "    'primary_roads': 0,\n",
        "    'secondary_roads': 0,\n",
        "    'tertiary_roads': 1,\n",
        "    'unclassified_roads': 2,\n",
        "    'percentage_crop_land': 20.0,\n",
        "    'percentage_built_area': 5.0,\n",
        "    'contains_protected_area': False\n",
        "}\n",
        "\n",
        "# Make prediction with Random Forest\n",
        "print(\"\\nSingle Instance Prediction (Random Forest):\")\n",
        "rf_pred_df = predictor.get_probability_df(single_village, 'random_forest')\n",
        "print(rf_pred_df)\n",
        "\n",
        "# Make prediction with Logistic Regression\n",
        "print(\"\\nSingle Instance Prediction (Logistic Regression):\")\n",
        "lr_pred_df = predictor.get_probability_df(single_village, 'logistic_regression')\n",
        "print(lr_pred_df)"
      ],
      "metadata": {
        "colab": {
          "base_uri": "https://localhost:8080/"
        },
        "id": "hqkzqrCJBOZu",
        "outputId": "e6471fbd-fcbe-4911-e081-3691b091b463"
      },
      "execution_count": 6,
      "outputs": [
        {
          "output_type": "stream",
          "name": "stdout",
          "text": [
            "\n",
            "Single Instance Prediction (Random Forest):\n",
            "   Grid extension  Existing grid  Solar home system  minigrid prediction\n",
            "0            0.01           0.01               0.47      0.51   minigrid\n",
            "\n",
            "Single Instance Prediction (Logistic Regression):\n",
            "   Grid extension  Existing grid  Solar home system  minigrid prediction\n",
            "0        0.001761       0.002266           0.350057  0.645916   minigrid\n"
          ]
        }
      ]
    },
    {
      "cell_type": "markdown",
      "source": [
        "### Example 2: Batch prediction"
      ],
      "metadata": {
        "id": "B922ZwiOBRmh"
      }
    },
    {
      "cell_type": "code",
      "source": [
        "batch_data = pd.DataFrame([\n",
        "    {\n",
        "        'facilities': 0,\n",
        "        'grid_extension': 0,\n",
        "        'existing_grid': 0,\n",
        "        'mean_ndvi': 0.0,\n",
        "        'mean_wind_speed': 0.0,\n",
        "        'mean_pvout_solar_radiation': 1550,\n",
        "        'building_count': 50,\n",
        "        'permanent_building_count': 10,\n",
        "        'educational_facilities': 0,\n",
        "        'health_facilities': 0,\n",
        "        'social_facilities': 0,\n",
        "        'services': 0,\n",
        "        'primary_roads': 0,\n",
        "        'secondary_roads': 0,\n",
        "        'tertiary_roads': 0,\n",
        "        'unclassified_roads': 0,\n",
        "        'percentage_crop_land': 15.0,\n",
        "        'percentage_built_area': 2.0,\n",
        "        'contains_protected_area': True\n",
        "    },\n",
        "    {\n",
        "        'facilities': 2,\n",
        "        'grid_extension': 1,\n",
        "        'existing_grid': 0,\n",
        "        'mean_ndvi': 0.4,\n",
        "        'mean_wind_speed': 1.5,\n",
        "        'mean_pvout_solar_radiation': 1650,\n",
        "        'building_count': 500,\n",
        "        'permanent_building_count': 100,\n",
        "        'educational_facilities': 1,\n",
        "        'health_facilities': 1,\n",
        "        'social_facilities': 0,\n",
        "        'services': 1,\n",
        "        'primary_roads': 1,\n",
        "        'secondary_roads': 1,\n",
        "        'tertiary_roads': 2,\n",
        "        'unclassified_roads': 3,\n",
        "        'percentage_crop_land': 30.0,\n",
        "        'percentage_built_area': 15.0,\n",
        "        'contains_protected_area': False\n",
        "    }\n",
        "])\n",
        "\n",
        "print(\"\\nBatch Prediction (Random Forest):\")\n",
        "batch_pred_df = predictor.get_probability_df(batch_data, 'random_forest')\n",
        "print(batch_pred_df)"
      ],
      "metadata": {
        "colab": {
          "base_uri": "https://localhost:8080/"
        },
        "id": "GS190tyNqP7X",
        "outputId": "e4deffde-f453-4151-c804-71fb19c80ab7"
      },
      "execution_count": 7,
      "outputs": [
        {
          "output_type": "stream",
          "name": "stdout",
          "text": [
            "\n",
            "Batch Prediction (Random Forest):\n",
            "   Grid extension  Existing grid  Solar home system  minigrid  \\\n",
            "0            0.01            0.0               0.94      0.05   \n",
            "1            0.00            0.7               0.08      0.22   \n",
            "\n",
            "          prediction  \n",
            "0  Solar home system  \n",
            "1     Grid extension  \n"
          ]
        }
      ]
    },
    {
      "cell_type": "markdown",
      "source": [
        "The output will show:\n",
        "\n",
        "*   Predicted electrification strategy\n",
        "*   Probabilities for each class (Grid extension, Existing grid, Solar home system, minigrid)\n",
        "*   Results for both Random Forest and Logistic Regression\n",
        "\n"
      ],
      "metadata": {
        "id": "DvjeOe3ZsbyW"
      }
    }
  ]
}