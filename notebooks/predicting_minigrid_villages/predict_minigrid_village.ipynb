{
  "nbformat": 4,
  "nbformat_minor": 0,
  "metadata": {
    "colab": {
      "provenance": [],
      "authorship_tag": "ABX9TyPvQu0HfyxKGtkkoelbasn8",
      "include_colab_link": true
    },
    "kernelspec": {
      "name": "python3",
      "display_name": "Python 3"
    },
    "language_info": {
      "name": "python"
    }
  },
  "cells": [
    {
      "cell_type": "markdown",
      "metadata": {
        "id": "view-in-github",
        "colab_type": "text"
      },
      "source": [
        "<a href=\"https://colab.research.google.com/github/SunbirdAI/lamwo-electrification-project/blob/main/notebooks/predicting_minigrid_villages/predict_minigrid_village.ipynb\" target=\"_parent\"><img src=\"https://colab.research.google.com/assets/colab-badge.svg\" alt=\"Open In Colab\"/></a>"
      ]
    },
    {
      "cell_type": "markdown",
      "source": [
        "# Predict whether a village is a suitable location for a minigrid or not\n",
        "\n",
        "By adjusting cut off thresholds for the algorithms, we can determine a probability of whether a village will be a viable location for a minigrid deployment or not."
      ],
      "metadata": {
        "id": "gpFcS7hIcuMY"
      }
    },
    {
      "cell_type": "code",
      "source": [
        "import pandas as pd\n",
        "import numpy as np\n",
        "import pickle"
      ],
      "metadata": {
        "id": "IaQz02J6uT4m"
      },
      "execution_count": 1,
      "outputs": []
    },
    {
      "cell_type": "markdown",
      "source": [
        "Set up minigrid predictor class"
      ],
      "metadata": {
        "id": "NbkWzaUXdTHB"
      }
    },
    {
      "cell_type": "code",
      "execution_count": 2,
      "metadata": {
        "id": "lQUEOHNsuMeg"
      },
      "outputs": [],
      "source": [
        "class MinigridPredictor:\n",
        "    def __init__(self, log_reg_path, rf_path, scaler_path, feature_names):\n",
        "        \"\"\"Initialize predictor with trained models and scaler\"\"\"\n",
        "        self.log_reg = pickle.load(open(log_reg_path, 'rb'))\n",
        "        self.rf = pickle.load(open(rf_path, 'rb'))\n",
        "        self.scaler = pickle.load(open(scaler_path, 'rb'))\n",
        "        self.feature_names = feature_names\n",
        "        self.classes = ['Not Minigrid', 'Minigrid']\n",
        "\n",
        "    def preprocess_input(self, data):\n",
        "        \"\"\"Preprocess input data for prediction\"\"\"\n",
        "        if isinstance(data, dict):\n",
        "            data = pd.DataFrame([data])\n",
        "\n",
        "        for feature in self.feature_names:\n",
        "            if feature not in data.columns:\n",
        "                data[feature] = 0\n",
        "\n",
        "        data = data[self.feature_names]\n",
        "        if 'contains_protected_area' in data.columns:\n",
        "            data['contains_protected_area'] = data['contains_protected_area'].astype(int)\n",
        "\n",
        "        data = data.fillna(0)\n",
        "        data_scaled = self.scaler.transform(data)\n",
        "\n",
        "        return data_scaled\n",
        "\n",
        "    def predict(self, data, model_type='random_forest', threshold=0.5):\n",
        "        \"\"\"Make predictions using specified model and threshold\"\"\"\n",
        "        data_scaled = self.preprocess_input(data)\n",
        "        model = self.rf if model_type == 'random_forest' else self.log_reg\n",
        "\n",
        "        # Get probability of minigrid class (class 1)\n",
        "        probabilities = model.predict_proba(data_scaled)[:, 1]\n",
        "        predictions = (probabilities >= threshold).astype(int)\n",
        "\n",
        "        return predictions, probabilities\n",
        "\n",
        "    def get_prediction_df(self, data, model_type='random_forest', threshold=0.5):\n",
        "        \"\"\"Return predictions with probabilities as DataFrame\"\"\"\n",
        "        predictions, probabilities = self.predict(data, model_type, threshold)\n",
        "\n",
        "        pred_df = pd.DataFrame({\n",
        "            'Minigrid_Probability': probabilities,\n",
        "            'Prediction': [self.classes[p] for p in predictions]\n",
        "        })\n",
        "\n",
        "        return pred_df\n"
      ]
    },
    {
      "cell_type": "markdown",
      "source": [
        "Load trained models"
      ],
      "metadata": {
        "id": "ps_iye3oeaCc"
      }
    },
    {
      "cell_type": "code",
      "source": [
        "!unzip minigrid_village_predictor_models.zip"
      ],
      "metadata": {
        "colab": {
          "base_uri": "https://localhost:8080/"
        },
        "id": "SaaSErFW6XHn",
        "outputId": "ba5e77cd-81dd-4097-8d42-81c7f45e5fd5"
      },
      "execution_count": 3,
      "outputs": [
        {
          "output_type": "stream",
          "name": "stdout",
          "text": [
            "Archive:  minigrid_village_predictor_models.zip\n",
            "   creating: models/\n",
            "  inflating: models/rf_model.pkl     \n",
            "  inflating: models/feature_names.txt  \n",
            "  inflating: models/log_reg_model.pkl  \n",
            "  inflating: models/scaler.pkl       \n"
          ]
        }
      ]
    },
    {
      "cell_type": "markdown",
      "source": [
        "Load feature names"
      ],
      "metadata": {
        "id": "NCkApURHedTD"
      }
    },
    {
      "cell_type": "code",
      "source": [
        "with open('models/feature_names.txt', 'r') as f:\n",
        "    feature_names = f.read().split(',')"
      ],
      "metadata": {
        "id": "Hs8dLPvsd4e1"
      },
      "execution_count": 4,
      "outputs": []
    },
    {
      "cell_type": "markdown",
      "source": [
        "Initialize predictor"
      ],
      "metadata": {
        "id": "yFsWBDySd5Wo"
      }
    },
    {
      "cell_type": "code",
      "source": [
        "predictor = MinigridPredictor(\n",
        "    log_reg_path='models/log_reg_model.pkl',\n",
        "    rf_path='models/rf_model.pkl',\n",
        "    scaler_path='models/scaler.pkl',\n",
        "    feature_names=feature_names\n",
        ")"
      ],
      "metadata": {
        "id": "mJtfWVT2d7Po"
      },
      "execution_count": 5,
      "outputs": []
    },
    {
      "cell_type": "markdown",
      "source": [
        "## Example 1: Single instance prediction with different thresholds"
      ],
      "metadata": {
        "id": "xAWAwb61d_bG"
      }
    },
    {
      "cell_type": "code",
      "source": [
        "single_village = {\n",
        "    'facilities': 1,\n",
        "    'grid_extension': 0,\n",
        "    'existing_grid': 0,\n",
        "    'mean_ndvi': 0.3,\n",
        "    'mean_wind_speed': 1.2,\n",
        "    'mean_pvout_solar_radiation': 1600,\n",
        "    'building_count': 200,\n",
        "    'permanent_building_count': 50,\n",
        "    'educational_facilities': 1,\n",
        "    'health_facilities': 0,\n",
        "    'social_facilities': 0,\n",
        "    'services': 0,\n",
        "    'primary_roads': 0,\n",
        "    'secondary_roads': 0,\n",
        "    'tertiary_roads': 1,\n",
        "    'unclassified_roads': 2,\n",
        "    'percentage_crop_land': 20.0,\n",
        "    'percentage_built_area': 5.0,\n",
        "    'contains_protected_area': False\n",
        "}\n",
        "\n",
        "print(\"\\nSingle Instance Prediction (Random Forest):\")\n",
        "for threshold in [0.3, 0.5, 0.7]:\n",
        "    rf_pred_df = predictor.get_prediction_df(single_village, 'random_forest', threshold)\n",
        "    print(f\"Threshold = {threshold}:\")\n",
        "    print(rf_pred_df)\n",
        "\n",
        "print(\"\\nSingle Instance Prediction (Logistic Regression):\")\n",
        "for threshold in [0.3, 0.5, 0.7]:\n",
        "    lr_pred_df = predictor.get_prediction_df(single_village, 'logistic_regression', threshold)\n",
        "    print(f\"Threshold = {threshold}:\")\n",
        "    print(lr_pred_df)"
      ],
      "metadata": {
        "colab": {
          "base_uri": "https://localhost:8080/"
        },
        "id": "0WLrgDFTeG3u",
        "outputId": "5fc653a6-f637-4145-9262-edb6d045a4bd"
      },
      "execution_count": 6,
      "outputs": [
        {
          "output_type": "stream",
          "name": "stdout",
          "text": [
            "\n",
            "Single Instance Prediction (Random Forest):\n",
            "Threshold = 0.3:\n",
            "   Minigrid_Probability Prediction\n",
            "0              0.634229   Minigrid\n",
            "Threshold = 0.5:\n",
            "   Minigrid_Probability Prediction\n",
            "0              0.634229   Minigrid\n",
            "Threshold = 0.7:\n",
            "   Minigrid_Probability    Prediction\n",
            "0              0.634229  Not Minigrid\n",
            "\n",
            "Single Instance Prediction (Logistic Regression):\n",
            "Threshold = 0.3:\n",
            "   Minigrid_Probability Prediction\n",
            "0              0.909964   Minigrid\n",
            "Threshold = 0.5:\n",
            "   Minigrid_Probability Prediction\n",
            "0              0.909964   Minigrid\n",
            "Threshold = 0.7:\n",
            "   Minigrid_Probability Prediction\n",
            "0              0.909964   Minigrid\n"
          ]
        }
      ]
    },
    {
      "cell_type": "markdown",
      "source": [
        "## Example 2: Batch prediction"
      ],
      "metadata": {
        "id": "aDv4XZZseH_D"
      }
    },
    {
      "cell_type": "code",
      "source": [
        "batch_data = pd.DataFrame([\n",
        "    {\n",
        "        'facilities': 0,\n",
        "        'grid_extension': 0,\n",
        "        'existing_grid': 0,\n",
        "        'mean_ndvi': 0.0,\n",
        "        'mean_wind_speed': 0.0,\n",
        "        'mean_pvout_solar_radiation': 1550,\n",
        "        'building_count': 50,\n",
        "        'permanent_building_count': 10,\n",
        "        'educational_facilities': 0,\n",
        "        'health_facilities': 0,\n",
        "        'social_facilities': 0,\n",
        "        'services': 0,\n",
        "        'primary_roads': 0,\n",
        "        'secondary_roads': 0,\n",
        "        'tertiary_roads': 0,\n",
        "        'unclassified_roads': 0,\n",
        "        'percentage_crop_land': 15.0,\n",
        "        'percentage_built_area': 2.0,\n",
        "        'contains_protected_area': True\n",
        "    },\n",
        "    {\n",
        "        'facilities': 2,\n",
        "        'grid_extension': 1,\n",
        "        'existing_grid': 0,\n",
        "        'mean_ndvi': 0.4,\n",
        "        'mean_wind_speed': 1.5,\n",
        "        'mean_pvout_solar_radiation': 1650,\n",
        "        'building_count': 500,\n",
        "        'permanent_building_count': 100,\n",
        "        'educational_facilities': 1,\n",
        "        'health_facilities': 1,\n",
        "        'social_facilities': 0,\n",
        "        'services': 1,\n",
        "        'primary_roads': 1,\n",
        "        'secondary_roads': 1,\n",
        "        'tertiary_roads': 2,\n",
        "        'unclassified_roads': 3,\n",
        "        'percentage_crop_land': 30.0,\n",
        "        'percentage_built_area': 15.0,\n",
        "        'contains_protected_area': False\n",
        "    }\n",
        "])\n",
        "\n",
        "print(\"\\nBatch Prediction (Random Forest) with Threshold=0.3:\")\n",
        "batch_pred_df = predictor.get_prediction_df(batch_data, 'random_forest', threshold=0.3)\n",
        "print(batch_pred_df)"
      ],
      "metadata": {
        "colab": {
          "base_uri": "https://localhost:8080/"
        },
        "id": "hNx85zM5uYEk",
        "outputId": "1d5a6c34-28fc-4010-f88d-15cc340e0130"
      },
      "execution_count": 7,
      "outputs": [
        {
          "output_type": "stream",
          "name": "stdout",
          "text": [
            "\n",
            "Batch Prediction (Random Forest) with Threshold=0.3:\n",
            "   Minigrid_Probability    Prediction\n",
            "0              0.067089  Not Minigrid\n",
            "1              0.289363  Not Minigrid\n"
          ]
        }
      ]
    }
  ]
}