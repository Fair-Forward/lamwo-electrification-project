{
  "nbformat": 4,
  "nbformat_minor": 0,
  "metadata": {
    "colab": {
      "provenance": [],
      "authorship_tag": "ABX9TyNBMiqz/P7VrqpB0GzYN5fI",
      "include_colab_link": true
    },
    "kernelspec": {
      "name": "python3",
      "display_name": "Python 3"
    },
    "language_info": {
      "name": "python"
    }
  },
  "cells": [
    {
      "cell_type": "markdown",
      "metadata": {
        "id": "view-in-github",
        "colab_type": "text"
      },
      "source": [
        "<a href=\"https://colab.research.google.com/github/SunbirdAI/lamwo-electrification-project/blob/main/notebooks/predicting_minigrid_villages/train_electrification_strategy_for_village_predictor.ipynb\" target=\"_parent\"><img src=\"https://colab.research.google.com/assets/colab-badge.svg\" alt=\"Open In Colab\"/></a>"
      ]
    },
    {
      "cell_type": "markdown",
      "source": [
        "# Preparation\n",
        "\n",
        "Import required modules"
      ],
      "metadata": {
        "id": "djvihYWQbqSc"
      }
    },
    {
      "cell_type": "code",
      "source": [
        "import pandas as pd\n",
        "import numpy as np\n",
        "import matplotlib.pyplot as plt\n",
        "import seaborn as sns\n",
        "import pickle\n",
        "\n",
        "from sklearn.model_selection import train_test_split, cross_val_score\n",
        "from sklearn.preprocessing import StandardScaler\n",
        "from sklearn.ensemble import RandomForestClassifier\n",
        "from sklearn.linear_model import LogisticRegression\n",
        "from sklearn.metrics import confusion_matrix, classification_report\n"
      ],
      "metadata": {
        "id": "qzojHubgjeiH"
      },
      "execution_count": 1,
      "outputs": []
    },
    {
      "cell_type": "markdown",
      "source": [
        "## 1. Data Loading and Preprocessing\n",
        "\n",
        "Load extracted/preprocessed data from feature selection. Combine the two minigrid classes into 1 since we mainly want to predict whether a village is viable for minigrid installation."
      ],
      "metadata": {
        "id": "BSFvJUhzb12D"
      }
    },
    {
      "cell_type": "code",
      "execution_count": 2,
      "metadata": {
        "id": "9jDW1uZmjZKJ"
      },
      "outputs": [],
      "source": [
        "def load_and_preprocess_data(file_path):\n",
        "    df = pd.read_csv(file_path)\n",
        "\n",
        "    # Combine minigrid classes\n",
        "    df['electrification_strategy'] = df['electrification_strategy'].replace({\n",
        "        'Candidate minigrid': 'minigrid',\n",
        "        'Existing minigrid': 'minigrid'\n",
        "    })\n",
        "\n",
        "    # Features to exclude\n",
        "    exclude_features = ['village_id', 'candidate_minigrids', 'existing_minigrids', 'protected_area_name']\n",
        "\n",
        "    # Separate features and target\n",
        "    X = df.drop(columns=exclude_features + ['electrification_strategy'])\n",
        "    y = df['electrification_strategy']\n",
        "\n",
        "    # Handle categorical variables\n",
        "    X['contains_protected_area'] = X['contains_protected_area'].astype(int)\n",
        "\n",
        "    # Handle missing values\n",
        "    X = X.fillna(0)\n",
        "\n",
        "    return X, y"
      ]
    },
    {
      "cell_type": "markdown",
      "source": [
        "## 2. Define Model Training and Evaluation"
      ],
      "metadata": {
        "id": "VCyxFhM3ctsg"
      }
    },
    {
      "cell_type": "code",
      "source": [
        "def train_and_evaluate_models(X, y):\n",
        "    # Split the data\n",
        "    X_train, X_test, y_train, y_test = train_test_split(X, y, test_size=0.2, random_state=42)\n",
        "\n",
        "    # Scale the features\n",
        "    scaler = StandardScaler()\n",
        "    X_train_scaled = scaler.fit_transform(X_train)\n",
        "    X_test_scaled = scaler.transform(X_test)\n",
        "\n",
        "    # Initialize models\n",
        "    # Simple model: Logistic Regression\n",
        "    log_reg = LogisticRegression(max_iter=1000, random_state=42)\n",
        "\n",
        "    # Complex model: Random Forest\n",
        "    rf_clf = RandomForestClassifier(n_estimators=100, random_state=42)\n",
        "\n",
        "    models = {\n",
        "        'Logistic Regression': log_reg,\n",
        "        'Random Forest': rf_clf\n",
        "    }\n",
        "\n",
        "    results = {}\n",
        "\n",
        "    # Train and evaluate each model\n",
        "    for name, model in models.items():\n",
        "        # Cross-validation\n",
        "        cv_scores = cross_val_score(model, X_train_scaled, y_train, cv=5)\n",
        "\n",
        "        # Fit the model\n",
        "        model.fit(X_train_scaled, y_train)\n",
        "\n",
        "        # Predictions and probabilities\n",
        "        y_pred = model.predict(X_test_scaled)\n",
        "        if hasattr(model, 'predict_proba'):\n",
        "            y_prob = model.predict_proba(X_test_scaled)\n",
        "\n",
        "        # Store results\n",
        "        results[name] = {\n",
        "            'model': model,\n",
        "            'cv_scores': cv_scores,\n",
        "            'y_pred': y_pred,\n",
        "            'y_test': y_test\n",
        "        }\n",
        "\n",
        "        print(f\"\\n{name}:\")\n",
        "        print(f\"Cross-validation scores: {cv_scores}\")\n",
        "        print(f\"Mean CV accuracy: {cv_scores.mean():.3f} (+/- {cv_scores.std() * 2:.3f})\")\n",
        "        print(\"\\nClassification Report:\")\n",
        "        print(classification_report(y_test, y_pred))\n",
        "\n",
        "    return results, X_train_scaled, X_test_scaled, y_train, y_test, scaler"
      ],
      "metadata": {
        "id": "HWgEy8e9cgMh"
      },
      "execution_count": 3,
      "outputs": []
    },
    {
      "cell_type": "markdown",
      "source": [
        "## 3. Visualization"
      ],
      "metadata": {
        "id": "ibRFj6hlc3Qd"
      }
    },
    {
      "cell_type": "code",
      "source": [
        "def plot_results(results, X, y):\n",
        "    # Create subplots\n",
        "    fig, axes = plt.subplots(2, 2, figsize=(15, 15))\n",
        "\n",
        "    for idx, (name, result) in enumerate(results.items()):\n",
        "        # Confusion Matrix\n",
        "        cm = confusion_matrix(result['y_test'], result['y_pred'])\n",
        "        sns.heatmap(cm, annot=True, fmt='d', ax=axes[idx, 0])\n",
        "        axes[idx, 0].set_title(f'Confusion Matrix - {name}')\n",
        "        axes[idx, 0].set_xlabel('Predicted')\n",
        "        axes[idx, 0].set_ylabel('Actual')\n",
        "\n",
        "        # Feature Importance (if available)\n",
        "        if name == 'Random Forest':\n",
        "            importances = result['model'].feature_importances_\n",
        "            indices = np.argsort(importances)[::-1]\n",
        "\n",
        "            axes[idx, 1].bar(range(X.shape[1]), importances[indices])\n",
        "            axes[idx, 1].set_title(f'Feature Importance - {name}')\n",
        "            axes[idx, 1].set_xticks(range(X.shape[1]))\n",
        "            axes[idx, 1].set_xticklabels(X.columns[indices], rotation=90)\n",
        "\n",
        "    plt.tight_layout()\n",
        "    plt.show()"
      ],
      "metadata": {
        "id": "wqO1Tcnrc4G2"
      },
      "execution_count": 4,
      "outputs": []
    },
    {
      "cell_type": "markdown",
      "source": [
        "## 4. Feature Importance Analysis"
      ],
      "metadata": {
        "id": "azxH18UmdCb6"
      }
    },
    {
      "cell_type": "code",
      "source": [
        "def analyze_feature_importance(results, X):\n",
        "    for name, result in results.items():\n",
        "        if name == 'Random Forest':\n",
        "            print(f\"\\nFeature Importance for {name}:\")\n",
        "            importances = result['model'].feature_importances_\n",
        "            feature_imp = pd.DataFrame({\n",
        "                'feature': X.columns,\n",
        "                'importance': importances\n",
        "            }).sort_values('importance', ascending=False)\n",
        "            print(feature_imp)\n",
        "\n",
        "        elif name == 'Logistic Regression':\n",
        "            print(f\"\\nFeature Coefficients for {name}:\")\n",
        "            coefficients = pd.DataFrame({\n",
        "                'feature': X.columns,\n",
        "                'coefficient': np.abs(result['model'].coef_[0])\n",
        "            }).sort_values('coefficient', ascending=False)\n",
        "            print(coefficients)"
      ],
      "metadata": {
        "id": "9MQ62vP9ckbT"
      },
      "execution_count": 5,
      "outputs": []
    },
    {
      "cell_type": "markdown",
      "source": [
        "## 5. Save Models Function (to be used after training)"
      ],
      "metadata": {
        "id": "9ZlxEAuUdJV4"
      }
    },
    {
      "cell_type": "code",
      "source": [
        "def save_models(log_reg, rf, scaler, feature_names, base_path='models/'):\n",
        "    \"\"\"Save trained models and scaler\"\"\"\n",
        "    pickle.dump(log_reg, open(f'{base_path}log_reg_model.pkl', 'wb'))\n",
        "    pickle.dump(rf, open(f'{base_path}rf_model.pkl', 'wb'))\n",
        "    pickle.dump(scaler, open(f'{base_path}scaler.pkl', 'wb'))\n",
        "    with open(f'{base_path}feature_names.txt', 'w') as f:\n",
        "        f.write(','.join(feature_names))"
      ],
      "metadata": {
        "id": "A8_vyM7ndJwQ"
      },
      "execution_count": 6,
      "outputs": []
    },
    {
      "cell_type": "markdown",
      "source": [
        "## Main: Train and evaluate models"
      ],
      "metadata": {
        "id": "GFOTJbrBdP4h"
      }
    },
    {
      "cell_type": "markdown",
      "source": [
        "Load village data from `./data/processed/`"
      ],
      "metadata": {
        "id": "NH4mfHzr5KcB"
      }
    },
    {
      "cell_type": "code",
      "source": [
        "file_path = 'village_data.csv'\n",
        "X, y = load_and_preprocess_data(file_path)"
      ],
      "metadata": {
        "id": "3kg1EXaK5JrI"
      },
      "execution_count": 7,
      "outputs": []
    },
    {
      "cell_type": "code",
      "source": [
        "X.head()"
      ],
      "metadata": {
        "colab": {
          "base_uri": "https://localhost:8080/",
          "height": 226
        },
        "id": "u9BeIvSR8hAA",
        "outputId": "9ddb5937-4498-43f5-d1fa-2171b339b218"
      },
      "execution_count": 9,
      "outputs": [
        {
          "output_type": "execute_result",
          "data": {
            "text/plain": [
              "   facilities  grid_extension  existing_grid  mean_ndvi  mean_wind_speed  \\\n",
              "0           0               0              0   0.000000         0.000000   \n",
              "1           1               0              0   0.000000         0.000000   \n",
              "2           0               0              0   0.000000         0.000000   \n",
              "3           0               0              0   0.300514         0.895073   \n",
              "4           0               0              0   0.000000         0.000000   \n",
              "\n",
              "   mean_pvout_solar_radiation  building_count  permanent_building_count  \\\n",
              "0                    0.000000               7                         0   \n",
              "1                 1563.144571              17                         3   \n",
              "2                 1561.565267              99                         5   \n",
              "3                 1587.815039             101                         4   \n",
              "4                 1618.240479               0                         0   \n",
              "\n",
              "   educational_facilities  health_facilities  social_facilities  services  \\\n",
              "0                       0                  0                  0         0   \n",
              "1                       0                  1                  0         0   \n",
              "2                       0                  0                  0         0   \n",
              "3                       0                  0                  0         0   \n",
              "4                       0                  0                  0         0   \n",
              "\n",
              "   primary_roads  secondary_roads  tertiary_roads  unclassified_roads  \\\n",
              "0              0                0               0                   0   \n",
              "1              0                0               0                   1   \n",
              "2              0                0               0                   0   \n",
              "3              0                0               0                   0   \n",
              "4              0                0               0                   0   \n",
              "\n",
              "   percentage_crop_land  percentage_built_area  contains_protected_area  \n",
              "0             20.356667               1.140000                        0  \n",
              "1              3.387500               0.026667                        1  \n",
              "2             16.712500               3.160000                        1  \n",
              "3             24.385000               2.506667                        1  \n",
              "4             20.292500               0.015000                        1  "
            ],
            "text/html": [
              "\n",
              "  <div id=\"df-1184d8c9-7002-4117-b017-ac5244da497b\" class=\"colab-df-container\">\n",
              "    <div>\n",
              "<style scoped>\n",
              "    .dataframe tbody tr th:only-of-type {\n",
              "        vertical-align: middle;\n",
              "    }\n",
              "\n",
              "    .dataframe tbody tr th {\n",
              "        vertical-align: top;\n",
              "    }\n",
              "\n",
              "    .dataframe thead th {\n",
              "        text-align: right;\n",
              "    }\n",
              "</style>\n",
              "<table border=\"1\" class=\"dataframe\">\n",
              "  <thead>\n",
              "    <tr style=\"text-align: right;\">\n",
              "      <th></th>\n",
              "      <th>facilities</th>\n",
              "      <th>grid_extension</th>\n",
              "      <th>existing_grid</th>\n",
              "      <th>mean_ndvi</th>\n",
              "      <th>mean_wind_speed</th>\n",
              "      <th>mean_pvout_solar_radiation</th>\n",
              "      <th>building_count</th>\n",
              "      <th>permanent_building_count</th>\n",
              "      <th>educational_facilities</th>\n",
              "      <th>health_facilities</th>\n",
              "      <th>social_facilities</th>\n",
              "      <th>services</th>\n",
              "      <th>primary_roads</th>\n",
              "      <th>secondary_roads</th>\n",
              "      <th>tertiary_roads</th>\n",
              "      <th>unclassified_roads</th>\n",
              "      <th>percentage_crop_land</th>\n",
              "      <th>percentage_built_area</th>\n",
              "      <th>contains_protected_area</th>\n",
              "    </tr>\n",
              "  </thead>\n",
              "  <tbody>\n",
              "    <tr>\n",
              "      <th>0</th>\n",
              "      <td>0</td>\n",
              "      <td>0</td>\n",
              "      <td>0</td>\n",
              "      <td>0.000000</td>\n",
              "      <td>0.000000</td>\n",
              "      <td>0.000000</td>\n",
              "      <td>7</td>\n",
              "      <td>0</td>\n",
              "      <td>0</td>\n",
              "      <td>0</td>\n",
              "      <td>0</td>\n",
              "      <td>0</td>\n",
              "      <td>0</td>\n",
              "      <td>0</td>\n",
              "      <td>0</td>\n",
              "      <td>0</td>\n",
              "      <td>20.356667</td>\n",
              "      <td>1.140000</td>\n",
              "      <td>0</td>\n",
              "    </tr>\n",
              "    <tr>\n",
              "      <th>1</th>\n",
              "      <td>1</td>\n",
              "      <td>0</td>\n",
              "      <td>0</td>\n",
              "      <td>0.000000</td>\n",
              "      <td>0.000000</td>\n",
              "      <td>1563.144571</td>\n",
              "      <td>17</td>\n",
              "      <td>3</td>\n",
              "      <td>0</td>\n",
              "      <td>1</td>\n",
              "      <td>0</td>\n",
              "      <td>0</td>\n",
              "      <td>0</td>\n",
              "      <td>0</td>\n",
              "      <td>0</td>\n",
              "      <td>1</td>\n",
              "      <td>3.387500</td>\n",
              "      <td>0.026667</td>\n",
              "      <td>1</td>\n",
              "    </tr>\n",
              "    <tr>\n",
              "      <th>2</th>\n",
              "      <td>0</td>\n",
              "      <td>0</td>\n",
              "      <td>0</td>\n",
              "      <td>0.000000</td>\n",
              "      <td>0.000000</td>\n",
              "      <td>1561.565267</td>\n",
              "      <td>99</td>\n",
              "      <td>5</td>\n",
              "      <td>0</td>\n",
              "      <td>0</td>\n",
              "      <td>0</td>\n",
              "      <td>0</td>\n",
              "      <td>0</td>\n",
              "      <td>0</td>\n",
              "      <td>0</td>\n",
              "      <td>0</td>\n",
              "      <td>16.712500</td>\n",
              "      <td>3.160000</td>\n",
              "      <td>1</td>\n",
              "    </tr>\n",
              "    <tr>\n",
              "      <th>3</th>\n",
              "      <td>0</td>\n",
              "      <td>0</td>\n",
              "      <td>0</td>\n",
              "      <td>0.300514</td>\n",
              "      <td>0.895073</td>\n",
              "      <td>1587.815039</td>\n",
              "      <td>101</td>\n",
              "      <td>4</td>\n",
              "      <td>0</td>\n",
              "      <td>0</td>\n",
              "      <td>0</td>\n",
              "      <td>0</td>\n",
              "      <td>0</td>\n",
              "      <td>0</td>\n",
              "      <td>0</td>\n",
              "      <td>0</td>\n",
              "      <td>24.385000</td>\n",
              "      <td>2.506667</td>\n",
              "      <td>1</td>\n",
              "    </tr>\n",
              "    <tr>\n",
              "      <th>4</th>\n",
              "      <td>0</td>\n",
              "      <td>0</td>\n",
              "      <td>0</td>\n",
              "      <td>0.000000</td>\n",
              "      <td>0.000000</td>\n",
              "      <td>1618.240479</td>\n",
              "      <td>0</td>\n",
              "      <td>0</td>\n",
              "      <td>0</td>\n",
              "      <td>0</td>\n",
              "      <td>0</td>\n",
              "      <td>0</td>\n",
              "      <td>0</td>\n",
              "      <td>0</td>\n",
              "      <td>0</td>\n",
              "      <td>0</td>\n",
              "      <td>20.292500</td>\n",
              "      <td>0.015000</td>\n",
              "      <td>1</td>\n",
              "    </tr>\n",
              "  </tbody>\n",
              "</table>\n",
              "</div>\n",
              "    <div class=\"colab-df-buttons\">\n",
              "\n",
              "  <div class=\"colab-df-container\">\n",
              "    <button class=\"colab-df-convert\" onclick=\"convertToInteractive('df-1184d8c9-7002-4117-b017-ac5244da497b')\"\n",
              "            title=\"Convert this dataframe to an interactive table.\"\n",
              "            style=\"display:none;\">\n",
              "\n",
              "  <svg xmlns=\"http://www.w3.org/2000/svg\" height=\"24px\" viewBox=\"0 -960 960 960\">\n",
              "    <path d=\"M120-120v-720h720v720H120Zm60-500h600v-160H180v160Zm220 220h160v-160H400v160Zm0 220h160v-160H400v160ZM180-400h160v-160H180v160Zm440 0h160v-160H620v160ZM180-180h160v-160H180v160Zm440 0h160v-160H620v160Z\"/>\n",
              "  </svg>\n",
              "    </button>\n",
              "\n",
              "  <style>\n",
              "    .colab-df-container {\n",
              "      display:flex;\n",
              "      gap: 12px;\n",
              "    }\n",
              "\n",
              "    .colab-df-convert {\n",
              "      background-color: #E8F0FE;\n",
              "      border: none;\n",
              "      border-radius: 50%;\n",
              "      cursor: pointer;\n",
              "      display: none;\n",
              "      fill: #1967D2;\n",
              "      height: 32px;\n",
              "      padding: 0 0 0 0;\n",
              "      width: 32px;\n",
              "    }\n",
              "\n",
              "    .colab-df-convert:hover {\n",
              "      background-color: #E2EBFA;\n",
              "      box-shadow: 0px 1px 2px rgba(60, 64, 67, 0.3), 0px 1px 3px 1px rgba(60, 64, 67, 0.15);\n",
              "      fill: #174EA6;\n",
              "    }\n",
              "\n",
              "    .colab-df-buttons div {\n",
              "      margin-bottom: 4px;\n",
              "    }\n",
              "\n",
              "    [theme=dark] .colab-df-convert {\n",
              "      background-color: #3B4455;\n",
              "      fill: #D2E3FC;\n",
              "    }\n",
              "\n",
              "    [theme=dark] .colab-df-convert:hover {\n",
              "      background-color: #434B5C;\n",
              "      box-shadow: 0px 1px 3px 1px rgba(0, 0, 0, 0.15);\n",
              "      filter: drop-shadow(0px 1px 2px rgba(0, 0, 0, 0.3));\n",
              "      fill: #FFFFFF;\n",
              "    }\n",
              "  </style>\n",
              "\n",
              "    <script>\n",
              "      const buttonEl =\n",
              "        document.querySelector('#df-1184d8c9-7002-4117-b017-ac5244da497b button.colab-df-convert');\n",
              "      buttonEl.style.display =\n",
              "        google.colab.kernel.accessAllowed ? 'block' : 'none';\n",
              "\n",
              "      async function convertToInteractive(key) {\n",
              "        const element = document.querySelector('#df-1184d8c9-7002-4117-b017-ac5244da497b');\n",
              "        const dataTable =\n",
              "          await google.colab.kernel.invokeFunction('convertToInteractive',\n",
              "                                                    [key], {});\n",
              "        if (!dataTable) return;\n",
              "\n",
              "        const docLinkHtml = 'Like what you see? Visit the ' +\n",
              "          '<a target=\"_blank\" href=https://colab.research.google.com/notebooks/data_table.ipynb>data table notebook</a>'\n",
              "          + ' to learn more about interactive tables.';\n",
              "        element.innerHTML = '';\n",
              "        dataTable['output_type'] = 'display_data';\n",
              "        await google.colab.output.renderOutput(dataTable, element);\n",
              "        const docLink = document.createElement('div');\n",
              "        docLink.innerHTML = docLinkHtml;\n",
              "        element.appendChild(docLink);\n",
              "      }\n",
              "    </script>\n",
              "  </div>\n",
              "\n",
              "\n",
              "<div id=\"df-3b3d4d02-4980-430a-ac6b-7bb9052b88c3\">\n",
              "  <button class=\"colab-df-quickchart\" onclick=\"quickchart('df-3b3d4d02-4980-430a-ac6b-7bb9052b88c3')\"\n",
              "            title=\"Suggest charts\"\n",
              "            style=\"display:none;\">\n",
              "\n",
              "<svg xmlns=\"http://www.w3.org/2000/svg\" height=\"24px\"viewBox=\"0 0 24 24\"\n",
              "     width=\"24px\">\n",
              "    <g>\n",
              "        <path d=\"M19 3H5c-1.1 0-2 .9-2 2v14c0 1.1.9 2 2 2h14c1.1 0 2-.9 2-2V5c0-1.1-.9-2-2-2zM9 17H7v-7h2v7zm4 0h-2V7h2v10zm4 0h-2v-4h2v4z\"/>\n",
              "    </g>\n",
              "</svg>\n",
              "  </button>\n",
              "\n",
              "<style>\n",
              "  .colab-df-quickchart {\n",
              "      --bg-color: #E8F0FE;\n",
              "      --fill-color: #1967D2;\n",
              "      --hover-bg-color: #E2EBFA;\n",
              "      --hover-fill-color: #174EA6;\n",
              "      --disabled-fill-color: #AAA;\n",
              "      --disabled-bg-color: #DDD;\n",
              "  }\n",
              "\n",
              "  [theme=dark] .colab-df-quickchart {\n",
              "      --bg-color: #3B4455;\n",
              "      --fill-color: #D2E3FC;\n",
              "      --hover-bg-color: #434B5C;\n",
              "      --hover-fill-color: #FFFFFF;\n",
              "      --disabled-bg-color: #3B4455;\n",
              "      --disabled-fill-color: #666;\n",
              "  }\n",
              "\n",
              "  .colab-df-quickchart {\n",
              "    background-color: var(--bg-color);\n",
              "    border: none;\n",
              "    border-radius: 50%;\n",
              "    cursor: pointer;\n",
              "    display: none;\n",
              "    fill: var(--fill-color);\n",
              "    height: 32px;\n",
              "    padding: 0;\n",
              "    width: 32px;\n",
              "  }\n",
              "\n",
              "  .colab-df-quickchart:hover {\n",
              "    background-color: var(--hover-bg-color);\n",
              "    box-shadow: 0 1px 2px rgba(60, 64, 67, 0.3), 0 1px 3px 1px rgba(60, 64, 67, 0.15);\n",
              "    fill: var(--button-hover-fill-color);\n",
              "  }\n",
              "\n",
              "  .colab-df-quickchart-complete:disabled,\n",
              "  .colab-df-quickchart-complete:disabled:hover {\n",
              "    background-color: var(--disabled-bg-color);\n",
              "    fill: var(--disabled-fill-color);\n",
              "    box-shadow: none;\n",
              "  }\n",
              "\n",
              "  .colab-df-spinner {\n",
              "    border: 2px solid var(--fill-color);\n",
              "    border-color: transparent;\n",
              "    border-bottom-color: var(--fill-color);\n",
              "    animation:\n",
              "      spin 1s steps(1) infinite;\n",
              "  }\n",
              "\n",
              "  @keyframes spin {\n",
              "    0% {\n",
              "      border-color: transparent;\n",
              "      border-bottom-color: var(--fill-color);\n",
              "      border-left-color: var(--fill-color);\n",
              "    }\n",
              "    20% {\n",
              "      border-color: transparent;\n",
              "      border-left-color: var(--fill-color);\n",
              "      border-top-color: var(--fill-color);\n",
              "    }\n",
              "    30% {\n",
              "      border-color: transparent;\n",
              "      border-left-color: var(--fill-color);\n",
              "      border-top-color: var(--fill-color);\n",
              "      border-right-color: var(--fill-color);\n",
              "    }\n",
              "    40% {\n",
              "      border-color: transparent;\n",
              "      border-right-color: var(--fill-color);\n",
              "      border-top-color: var(--fill-color);\n",
              "    }\n",
              "    60% {\n",
              "      border-color: transparent;\n",
              "      border-right-color: var(--fill-color);\n",
              "    }\n",
              "    80% {\n",
              "      border-color: transparent;\n",
              "      border-right-color: var(--fill-color);\n",
              "      border-bottom-color: var(--fill-color);\n",
              "    }\n",
              "    90% {\n",
              "      border-color: transparent;\n",
              "      border-bottom-color: var(--fill-color);\n",
              "    }\n",
              "  }\n",
              "</style>\n",
              "\n",
              "  <script>\n",
              "    async function quickchart(key) {\n",
              "      const quickchartButtonEl =\n",
              "        document.querySelector('#' + key + ' button');\n",
              "      quickchartButtonEl.disabled = true;  // To prevent multiple clicks.\n",
              "      quickchartButtonEl.classList.add('colab-df-spinner');\n",
              "      try {\n",
              "        const charts = await google.colab.kernel.invokeFunction(\n",
              "            'suggestCharts', [key], {});\n",
              "      } catch (error) {\n",
              "        console.error('Error during call to suggestCharts:', error);\n",
              "      }\n",
              "      quickchartButtonEl.classList.remove('colab-df-spinner');\n",
              "      quickchartButtonEl.classList.add('colab-df-quickchart-complete');\n",
              "    }\n",
              "    (() => {\n",
              "      let quickchartButtonEl =\n",
              "        document.querySelector('#df-3b3d4d02-4980-430a-ac6b-7bb9052b88c3 button');\n",
              "      quickchartButtonEl.style.display =\n",
              "        google.colab.kernel.accessAllowed ? 'block' : 'none';\n",
              "    })();\n",
              "  </script>\n",
              "</div>\n",
              "\n",
              "    </div>\n",
              "  </div>\n"
            ],
            "application/vnd.google.colaboratory.intrinsic+json": {
              "type": "dataframe",
              "variable_name": "X",
              "summary": "{\n  \"name\": \"X\",\n  \"rows\": 411,\n  \"fields\": [\n    {\n      \"column\": \"facilities\",\n      \"properties\": {\n        \"dtype\": \"number\",\n        \"std\": 0,\n        \"min\": 0,\n        \"max\": 7,\n        \"num_unique_values\": 6,\n        \"samples\": [\n          0,\n          1,\n          4\n        ],\n        \"semantic_type\": \"\",\n        \"description\": \"\"\n      }\n    },\n    {\n      \"column\": \"grid_extension\",\n      \"properties\": {\n        \"dtype\": \"number\",\n        \"std\": 0,\n        \"min\": 0,\n        \"max\": 1,\n        \"num_unique_values\": 2,\n        \"samples\": [\n          1,\n          0\n        ],\n        \"semantic_type\": \"\",\n        \"description\": \"\"\n      }\n    },\n    {\n      \"column\": \"existing_grid\",\n      \"properties\": {\n        \"dtype\": \"number\",\n        \"std\": 0,\n        \"min\": 0,\n        \"max\": 1,\n        \"num_unique_values\": 2,\n        \"samples\": [\n          1,\n          0\n        ],\n        \"semantic_type\": \"\",\n        \"description\": \"\"\n      }\n    },\n    {\n      \"column\": \"mean_ndvi\",\n      \"properties\": {\n        \"dtype\": \"number\",\n        \"std\": 0.12126755897100093,\n        \"min\": 0.0,\n        \"max\": 0.4561986923217773,\n        \"num_unique_values\": 46,\n        \"samples\": [\n          0.3530677258968353,\n          0.3807643055915832\n        ],\n        \"semantic_type\": \"\",\n        \"description\": \"\"\n      }\n    },\n    {\n      \"column\": \"mean_wind_speed\",\n      \"properties\": {\n        \"dtype\": \"number\",\n        \"std\": 0.40896517447424513,\n        \"min\": 0.0,\n        \"max\": 1.4767089960537167,\n        \"num_unique_values\": 37,\n        \"samples\": [\n          1.401940728528417,\n          1.3902774639064348\n        ],\n        \"semantic_type\": \"\",\n        \"description\": \"\"\n      }\n    },\n    {\n      \"column\": \"mean_pvout_solar_radiation\",\n      \"properties\": {\n        \"dtype\": \"number\",\n        \"std\": 441.7788503733122,\n        \"min\": 0.0,\n        \"max\": 1689.8748372395833,\n        \"num_unique_values\": 373,\n        \"samples\": [\n          1625.72802734375,\n          1636.279296875\n        ],\n        \"semantic_type\": \"\",\n        \"description\": \"\"\n      }\n    },\n    {\n      \"column\": \"building_count\",\n      \"properties\": {\n        \"dtype\": \"number\",\n        \"std\": 369,\n        \"min\": 0,\n        \"max\": 4108,\n        \"num_unique_values\": 240,\n        \"samples\": [\n          55,\n          172\n        ],\n        \"semantic_type\": \"\",\n        \"description\": \"\"\n      }\n    },\n    {\n      \"column\": \"permanent_building_count\",\n      \"properties\": {\n        \"dtype\": \"number\",\n        \"std\": 38,\n        \"min\": 0,\n        \"max\": 362,\n        \"num_unique_values\": 92,\n        \"samples\": [\n          79,\n          10\n        ],\n        \"semantic_type\": \"\",\n        \"description\": \"\"\n      }\n    },\n    {\n      \"column\": \"educational_facilities\",\n      \"properties\": {\n        \"dtype\": \"number\",\n        \"std\": 0,\n        \"min\": 0,\n        \"max\": 5,\n        \"num_unique_values\": 5,\n        \"samples\": [\n          1,\n          3\n        ],\n        \"semantic_type\": \"\",\n        \"description\": \"\"\n      }\n    },\n    {\n      \"column\": \"health_facilities\",\n      \"properties\": {\n        \"dtype\": \"number\",\n        \"std\": 0,\n        \"min\": 0,\n        \"max\": 2,\n        \"num_unique_values\": 3,\n        \"samples\": [\n          0,\n          1\n        ],\n        \"semantic_type\": \"\",\n        \"description\": \"\"\n      }\n    },\n    {\n      \"column\": \"social_facilities\",\n      \"properties\": {\n        \"dtype\": \"number\",\n        \"std\": 0,\n        \"min\": 0,\n        \"max\": 2,\n        \"num_unique_values\": 2,\n        \"samples\": [\n          2,\n          0\n        ],\n        \"semantic_type\": \"\",\n        \"description\": \"\"\n      }\n    },\n    {\n      \"column\": \"services\",\n      \"properties\": {\n        \"dtype\": \"number\",\n        \"std\": 0,\n        \"min\": 0,\n        \"max\": 0,\n        \"num_unique_values\": 1,\n        \"samples\": [\n          0\n        ],\n        \"semantic_type\": \"\",\n        \"description\": \"\"\n      }\n    },\n    {\n      \"column\": \"primary_roads\",\n      \"properties\": {\n        \"dtype\": \"number\",\n        \"std\": 0,\n        \"min\": 0,\n        \"max\": 1,\n        \"num_unique_values\": 2,\n        \"samples\": [\n          1\n        ],\n        \"semantic_type\": \"\",\n        \"description\": \"\"\n      }\n    },\n    {\n      \"column\": \"secondary_roads\",\n      \"properties\": {\n        \"dtype\": \"number\",\n        \"std\": 0,\n        \"min\": 0,\n        \"max\": 3,\n        \"num_unique_values\": 4,\n        \"samples\": [\n          1\n        ],\n        \"semantic_type\": \"\",\n        \"description\": \"\"\n      }\n    },\n    {\n      \"column\": \"tertiary_roads\",\n      \"properties\": {\n        \"dtype\": \"number\",\n        \"std\": 0,\n        \"min\": 0,\n        \"max\": 4,\n        \"num_unique_values\": 4,\n        \"samples\": [\n          1\n        ],\n        \"semantic_type\": \"\",\n        \"description\": \"\"\n      }\n    },\n    {\n      \"column\": \"unclassified_roads\",\n      \"properties\": {\n        \"dtype\": \"number\",\n        \"std\": 4,\n        \"min\": 0,\n        \"max\": 37,\n        \"num_unique_values\": 20,\n        \"samples\": [\n          0\n        ],\n        \"semantic_type\": \"\",\n        \"description\": \"\"\n      }\n    },\n    {\n      \"column\": \"percentage_crop_land\",\n      \"properties\": {\n        \"dtype\": \"number\",\n        \"std\": 12.689697062006106,\n        \"min\": 0.0,\n        \"max\": 100.0,\n        \"num_unique_values\": 403,\n        \"samples\": [\n          14.7425\n        ],\n        \"semantic_type\": \"\",\n        \"description\": \"\"\n      }\n    },\n    {\n      \"column\": \"percentage_built_area\",\n      \"properties\": {\n        \"dtype\": \"number\",\n        \"std\": 10.077624341076127,\n        \"min\": 0.0,\n        \"max\": 79.38250000000001,\n        \"num_unique_values\": 340,\n        \"samples\": [\n          0.3933333333333333\n        ],\n        \"semantic_type\": \"\",\n        \"description\": \"\"\n      }\n    },\n    {\n      \"column\": \"contains_protected_area\",\n      \"properties\": {\n        \"dtype\": \"number\",\n        \"std\": 0,\n        \"min\": 0,\n        \"max\": 1,\n        \"num_unique_values\": 2,\n        \"samples\": [\n          1\n        ],\n        \"semantic_type\": \"\",\n        \"description\": \"\"\n      }\n    }\n  ]\n}"
            }
          },
          "metadata": {},
          "execution_count": 9
        }
      ]
    },
    {
      "cell_type": "code",
      "source": [
        "y.head()"
      ],
      "metadata": {
        "colab": {
          "base_uri": "https://localhost:8080/",
          "height": 241
        },
        "id": "5PCUEsbh8rIB",
        "outputId": "53a7da7e-358b-45b7-d1e4-f3e536c87889"
      },
      "execution_count": 10,
      "outputs": [
        {
          "output_type": "execute_result",
          "data": {
            "text/plain": [
              "0    Solar home system\n",
              "1    Solar home system\n",
              "2    Solar home system\n",
              "3    Solar home system\n",
              "4    Solar home system\n",
              "Name: electrification_strategy, dtype: object"
            ],
            "text/html": [
              "<div>\n",
              "<style scoped>\n",
              "    .dataframe tbody tr th:only-of-type {\n",
              "        vertical-align: middle;\n",
              "    }\n",
              "\n",
              "    .dataframe tbody tr th {\n",
              "        vertical-align: top;\n",
              "    }\n",
              "\n",
              "    .dataframe thead th {\n",
              "        text-align: right;\n",
              "    }\n",
              "</style>\n",
              "<table border=\"1\" class=\"dataframe\">\n",
              "  <thead>\n",
              "    <tr style=\"text-align: right;\">\n",
              "      <th></th>\n",
              "      <th>electrification_strategy</th>\n",
              "    </tr>\n",
              "  </thead>\n",
              "  <tbody>\n",
              "    <tr>\n",
              "      <th>0</th>\n",
              "      <td>Solar home system</td>\n",
              "    </tr>\n",
              "    <tr>\n",
              "      <th>1</th>\n",
              "      <td>Solar home system</td>\n",
              "    </tr>\n",
              "    <tr>\n",
              "      <th>2</th>\n",
              "      <td>Solar home system</td>\n",
              "    </tr>\n",
              "    <tr>\n",
              "      <th>3</th>\n",
              "      <td>Solar home system</td>\n",
              "    </tr>\n",
              "    <tr>\n",
              "      <th>4</th>\n",
              "      <td>Solar home system</td>\n",
              "    </tr>\n",
              "  </tbody>\n",
              "</table>\n",
              "</div><br><label><b>dtype:</b> object</label>"
            ]
          },
          "metadata": {},
          "execution_count": 10
        }
      ]
    },
    {
      "cell_type": "markdown",
      "source": [
        "Train and evaluate models"
      ],
      "metadata": {
        "id": "TrTqHFzi5f-9"
      }
    },
    {
      "cell_type": "code",
      "source": [
        "results, X_train_scaled, X_test_scaled, y_train, y_test, scaler = train_and_evaluate_models(X, y)"
      ],
      "metadata": {
        "colab": {
          "base_uri": "https://localhost:8080/"
        },
        "id": "SeRm8JN55ors",
        "outputId": "91a08d93-2844-48f4-c4aa-68dbe194193f"
      },
      "execution_count": 11,
      "outputs": [
        {
          "output_type": "stream",
          "name": "stdout",
          "text": [
            "\n",
            "Logistic Regression:\n",
            "Cross-validation scores: [0.84848485 0.84848485 0.86363636 0.81538462 0.87692308]\n",
            "Mean CV accuracy: 0.851 (+/- 0.041)\n",
            "\n",
            "Classification Report:\n",
            "                   precision    recall  f1-score   support\n",
            "\n",
            "    Existing grid       1.00      1.00      1.00         8\n",
            "   Grid extension       1.00      1.00      1.00        13\n",
            "Solar home system       0.86      0.96      0.91        51\n",
            "         minigrid       0.60      0.27      0.38        11\n",
            "\n",
            "         accuracy                           0.88        83\n",
            "        macro avg       0.86      0.81      0.82        83\n",
            "     weighted avg       0.86      0.88      0.86        83\n",
            "\n",
            "\n",
            "Random Forest:\n",
            "Cross-validation scores: [0.78787879 0.90909091 0.84848485 0.76923077 0.90769231]\n",
            "Mean CV accuracy: 0.844 (+/- 0.117)\n",
            "\n",
            "Classification Report:\n",
            "                   precision    recall  f1-score   support\n",
            "\n",
            "    Existing grid       1.00      1.00      1.00         8\n",
            "   Grid extension       1.00      1.00      1.00        13\n",
            "Solar home system       0.86      0.98      0.92        51\n",
            "         minigrid       0.75      0.27      0.40        11\n",
            "\n",
            "         accuracy                           0.89        83\n",
            "        macro avg       0.90      0.81      0.83        83\n",
            "     weighted avg       0.88      0.89      0.87        83\n",
            "\n"
          ]
        }
      ]
    },
    {
      "cell_type": "markdown",
      "source": [
        "Plot results"
      ],
      "metadata": {
        "id": "0JQvHAir5s-O"
      }
    },
    {
      "cell_type": "code",
      "source": [
        "plot_results(results, X, y)"
      ],
      "metadata": {
        "colab": {
          "base_uri": "https://localhost:8080/",
          "height": 1000
        },
        "id": "l3aCGNve5yNq",
        "outputId": "9008a019-d1d4-446e-fba9-1ebab6979e10"
      },
      "execution_count": 12,
      "outputs": [
        {
          "output_type": "display_data",
          "data": {
            "text/plain": [
              "<Figure size 1500x1500 with 6 Axes>"
            ],
            "image/png": "[encoded data removed]"
          },
          "metadata": {}
        }
      ]
    },
    {
      "cell_type": "markdown",
      "source": [
        "Analyze feature importance"
      ],
      "metadata": {
        "id": "YlYpJphg52rS"
      }
    },
    {
      "cell_type": "code",
      "source": [
        "analyze_feature_importance(results, X)\n"
      ],
      "metadata": {
        "colab": {
          "base_uri": "https://localhost:8080/"
        },
        "id": "iF57b7ZXjdp2",
        "outputId": "1ef3fc61-8cda-4a45-ccf2-5e14f386a768"
      },
      "execution_count": 13,
      "outputs": [
        {
          "output_type": "stream",
          "name": "stdout",
          "text": [
            "\n",
            "Feature Coefficients for Logistic Regression:\n",
            "                       feature  coefficient\n",
            "2                existing_grid     1.909132\n",
            "1               grid_extension     0.655868\n",
            "7     permanent_building_count     0.142850\n",
            "10           social_facilities     0.103724\n",
            "14              tertiary_roads     0.082672\n",
            "6               building_count     0.082037\n",
            "8       educational_facilities     0.081890\n",
            "5   mean_pvout_solar_radiation     0.067272\n",
            "0                   facilities     0.063292\n",
            "12               primary_roads     0.056381\n",
            "17       percentage_built_area     0.051272\n",
            "15          unclassified_roads     0.040431\n",
            "3                    mean_ndvi     0.031302\n",
            "9            health_facilities     0.030745\n",
            "4              mean_wind_speed     0.021131\n",
            "13             secondary_roads     0.016162\n",
            "18     contains_protected_area     0.006832\n",
            "16        percentage_crop_land     0.004592\n",
            "11                    services     0.000000\n",
            "\n",
            "Feature Importance for Random Forest:\n",
            "                       feature  importance\n",
            "1               grid_extension    0.273817\n",
            "2                existing_grid    0.140412\n",
            "7     permanent_building_count    0.112648\n",
            "6               building_count    0.103399\n",
            "16        percentage_crop_land    0.085506\n",
            "17       percentage_built_area    0.078769\n",
            "5   mean_pvout_solar_radiation    0.077827\n",
            "15          unclassified_roads    0.044787\n",
            "0                   facilities    0.019435\n",
            "8       educational_facilities    0.016286\n",
            "14              tertiary_roads    0.013324\n",
            "18     contains_protected_area    0.008873\n",
            "3                    mean_ndvi    0.007778\n",
            "4              mean_wind_speed    0.006182\n",
            "9            health_facilities    0.005240\n",
            "13             secondary_roads    0.004703\n",
            "10           social_facilities    0.000723\n",
            "12               primary_roads    0.000291\n",
            "11                    services    0.000000\n"
          ]
        }
      ]
    },
    {
      "cell_type": "markdown",
      "source": [
        "Save models"
      ],
      "metadata": {
        "id": "tbLUn1Yp6O-L"
      }
    },
    {
      "cell_type": "code",
      "source": [
        "!mkdir models"
      ],
      "metadata": {
        "id": "B5fKob4D7Egb"
      },
      "execution_count": 14,
      "outputs": []
    },
    {
      "cell_type": "code",
      "source": [
        "save_models(\n",
        "    results['Logistic Regression']['model'],\n",
        "    results['Random Forest']['model'],\n",
        "    scaler,\n",
        "    X.columns.tolist()\n",
        ")"
      ],
      "metadata": {
        "id": "58M0xTPlp7SF"
      },
      "execution_count": 15,
      "outputs": []
    },
    {
      "cell_type": "code",
      "source": [
        "!zip -r electrification_strategy_models.zip models"
      ],
      "metadata": {
        "colab": {
          "base_uri": "https://localhost:8080/"
        },
        "id": "hpWf5Ve37FaF",
        "outputId": "5035ccdc-6074-4497-e27c-7a205e8a186b"
      },
      "execution_count": 16,
      "outputs": [
        {
          "output_type": "stream",
          "name": "stdout",
          "text": [
            "  adding: models/ (stored 0%)\n",
            "  adding: models/rf_model.pkl (deflated 83%)\n",
            "  adding: models/feature_names.txt (deflated 49%)\n",
            "  adding: models/log_reg_model.pkl (deflated 15%)\n",
            "  adding: models/scaler.pkl (deflated 25%)\n"
          ]
        }
      ]
    }
  ]
}