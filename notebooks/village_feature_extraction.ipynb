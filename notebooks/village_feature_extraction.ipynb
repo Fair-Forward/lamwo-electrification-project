{
  "nbformat": 4,
  "nbformat_minor": 0,
  "metadata": {
    "colab": {
      "provenance": [],
      "authorship_tag": "ABX9TyPoUCYQgKr/XWV1sUdIXx73",
      "include_colab_link": true
    },
    "kernelspec": {
      "name": "python3",
      "display_name": "Python 3"
    },
    "language_info": {
      "name": "python"
    }
  },
  "cells": [
    {
      "cell_type": "markdown",
      "metadata": {
        "id": "view-in-github",
        "colab_type": "text"
      },
      "source": [
        "<a href=\"https://colab.research.google.com/github/SunbirdAI/lamwo-electrification-project/blob/main/notebooks/village_feature_extraction.ipynb\" target=\"_parent\"><img src=\"https://colab.research.google.com/assets/colab-badge.svg\" alt=\"Open In Colab\"/></a>"
      ]
    },
    {
      "cell_type": "markdown",
      "source": [
        "# Village feature extraction\n",
        "\n",
        "Extract different features at vilalge level from various types of vector, raster and CSV data for use in modeling."
      ],
      "metadata": {
        "id": "aBQHa24h1Qa2"
      }
    },
    {
      "cell_type": "code",
      "source": [
        "%%capture\n",
        "!pip install rasterstats"
      ],
      "metadata": {
        "id": "U4nstPny1_2U"
      },
      "execution_count": 1,
      "outputs": []
    },
    {
      "cell_type": "code",
      "execution_count": 2,
      "metadata": {
        "id": "_LeppuOul1pw"
      },
      "outputs": [],
      "source": [
        "import pandas as pd\n",
        "import geopandas as gpd\n",
        "import rasterio\n",
        "import json\n",
        "import seaborn as sns\n",
        "import warnings\n",
        "\n",
        "from rasterstats import zonal_stats\n",
        "warnings.filterwarnings('ignore')"
      ]
    },
    {
      "cell_type": "markdown",
      "source": [
        "Define path of the raw data. Use Google drive or unzip the data in `./raw/lamwo_data.zip`"
      ],
      "metadata": {
        "id": "WPk030je2LbN"
      }
    },
    {
      "cell_type": "code",
      "source": [
        "from google.colab import drive\n",
        "drive.mount('/content/drive')"
      ],
      "metadata": {
        "colab": {
          "base_uri": "https://localhost:8080/"
        },
        "id": "pVKxxCYxmGtK",
        "outputId": "b7f1d2ab-eacc-4bf3-b296-161eee3e94a5"
      },
      "execution_count": 3,
      "outputs": [
        {
          "output_type": "stream",
          "name": "stdout",
          "text": [
            "Mounted at /content/drive\n"
          ]
        }
      ]
    },
    {
      "cell_type": "code",
      "source": [
        "gpath = '/content/drive/My Drive/Sunbird Local/GIZ/Phase 2/Technical/lamwo_data/'"
      ],
      "metadata": {
        "id": "1a2ucV0YmJ7s"
      },
      "execution_count": 4,
      "outputs": []
    },
    {
      "cell_type": "markdown",
      "source": [
        "Load the villages shapefile that is the basis of all the feature extraction"
      ],
      "metadata": {
        "id": "GS9aZSxG2fKc"
      }
    },
    {
      "cell_type": "code",
      "source": [
        "villages = gpd.read_file(gpath + \"village boundaries/village_boundaries.shp\")"
      ],
      "metadata": {
        "id": "2ZLKo3B-mPzN"
      },
      "execution_count": 5,
      "outputs": []
    },
    {
      "cell_type": "markdown",
      "source": [
        "Load GIS vector shapefiles for different types of data"
      ],
      "metadata": {
        "id": "IMTEIBo-2qC9"
      }
    },
    {
      "cell_type": "code",
      "source": [
        "candidate_minigrids = gpd.read_file(gpath + \"candidate minigrids/candidate_minigrids.shp\")\n",
        "existing_minigrids = gpd.read_file(gpath + \"existing minigrids/existing_minigrids.shp\")\n",
        "facilities = gpd.read_file(gpath + \"facilities/facilities.shp\")\n",
        "grid_extension = gpd.read_file(gpath + \"grid extension/grid_extension.shp\")\n",
        "existing_grid = gpd.read_file(gpath + \"existing grid/existing_grid.shp\")\n",
        "buildings = gpd.read_file(gpath + \"open buildings/open_buildings.shp\")\n",
        "roads = gpd.read_file(gpath + \"roads/roads.shp\")"
      ],
      "metadata": {
        "id": "7IWDdA-S2ph7"
      },
      "execution_count": 6,
      "outputs": []
    },
    {
      "cell_type": "markdown",
      "source": [
        "Load raster layers"
      ],
      "metadata": {
        "id": "au4Oz2Wh24Og"
      }
    },
    {
      "cell_type": "code",
      "source": [
        "ndvi_raster = gpath + \"ndvi/ndvi.tif\"\n",
        "wind_speed_raster = gpath + \"wind/wind_speed.tif\"\n",
        "pvout_solar_radiation_raster = gpath + \"solar radiation/pvout_solar_radiation.tif\""
      ],
      "metadata": {
        "id": "TI7QR5vU27lq"
      },
      "execution_count": 7,
      "outputs": []
    },
    {
      "cell_type": "markdown",
      "source": [
        "Load CSV files"
      ],
      "metadata": {
        "id": "HzGWO9Id3ACS"
      }
    },
    {
      "cell_type": "code",
      "source": [
        "land_use = pd.read_csv(gpath + \"land use/land_use.csv\")\n",
        "protected_areas = pd.read_csv(gpath + \"protected areas/protected_areas.csv\")"
      ],
      "metadata": {
        "id": "3YAxdJyy3DCb"
      },
      "execution_count": 8,
      "outputs": []
    },
    {
      "cell_type": "markdown",
      "source": [
        "Define different extraction helper functions"
      ],
      "metadata": {
        "id": "sVyiCnYO3HKQ"
      }
    },
    {
      "cell_type": "code",
      "source": [
        "def count_points_in_polygon(points_gdf, polygon):\n",
        "    return len(points_gdf[points_gdf.within(polygon)])\n",
        "\n",
        "def check_intersection(lines_gdf, polygon):\n",
        "    return int(lines_gdf.intersects(polygon).any())\n",
        "\n",
        "def calculate_mean_raster_value(raster_path, polygon):\n",
        "    with rasterio.open(raster_path) as src:\n",
        "        affine = src.transform\n",
        "        array = src.read(1)\n",
        "    stats = zonal_stats([polygon], array, affine=affine, stats=['mean'])\n",
        "    return stats[0]['mean'] if stats[0]['mean'] is not None else 0\n",
        "\n",
        "def count_facility_types(facilities_gdf, polygon, amenity_types):\n",
        "    return len(facilities_gdf[(facilities_gdf[\"amenity\"].isin(amenity_types)) & (facilities_gdf.within(polygon))])\n",
        "\n",
        "def count_road_types(roads_gdf, polygon, road_types):\n",
        "    return len(roads_gdf[(roads_gdf[\"highway\"].isin(road_types)) & (roads_gdf.within(polygon))])\n",
        "\n",
        "def count_permanent_buildings(buildings_gdf, polygon):\n",
        "    return len(buildings_gdf[(buildings_gdf[\"area_in_me\"] >= 30.0) & (buildings_gdf.within(polygon))])\n"
      ],
      "metadata": {
        "id": "IHL_XBCvmTBs"
      },
      "execution_count": 9,
      "outputs": []
    },
    {
      "cell_type": "markdown",
      "source": [
        "## Process data for each village\n",
        "\n",
        "Iterate over the villages to extract data features."
      ],
      "metadata": {
        "id": "XaHWZNgX3MeH"
      }
    },
    {
      "cell_type": "code",
      "source": [
        "village_data = []\n",
        "for _, village in villages.iterrows():\n",
        "    candidate_minigrids_count = count_points_in_polygon(candidate_minigrids, village.geometry)\n",
        "    existing_minigrids_count = count_points_in_polygon(existing_minigrids, village.geometry)\n",
        "    grid_extension_present = check_intersection(grid_extension, village.geometry)\n",
        "    existing_grid_present = check_intersection(existing_grid, village.geometry)\n",
        "\n",
        "    if grid_extension_present:\n",
        "        electrification_strategy = \"Grid extension\"\n",
        "    elif existing_grid_present:\n",
        "        electrification_strategy = \"Existing grid\"\n",
        "    elif candidate_minigrids_count > 0:\n",
        "        electrification_strategy = \"Candidate minigrid\"\n",
        "    elif existing_minigrids_count > 0:\n",
        "        electrification_strategy = \"Existing minigrid\"\n",
        "    else:\n",
        "        electrification_strategy = \"Solar home system\"\n",
        "\n",
        "    village_id = village[\"ID\"]\n",
        "    land_use_data = land_use[land_use[\"ID\"] == village_id]\n",
        "    protected_area_data = protected_areas[protected_areas[\"ID\"] == village_id]\n",
        "\n",
        "\n",
        "    village_info = {\n",
        "        \"village_id\": village[\"ID\"],\n",
        "        \"candidate_minigrids\": candidate_minigrids_count,\n",
        "        \"existing_minigrids\": existing_minigrids_count,\n",
        "        \"facilities\": count_points_in_polygon(facilities, village.geometry),\n",
        "        \"grid_extension\": grid_extension_present,\n",
        "        \"existing_grid\": existing_grid_present,\n",
        "        \"mean_ndvi\": calculate_mean_raster_value(ndvi_raster, village.geometry),\n",
        "        \"mean_wind_speed\": calculate_mean_raster_value(wind_speed_raster, village.geometry),\n",
        "        \"mean_pvout_solar_radiation\": calculate_mean_raster_value(pvout_solar_radiation_raster, village.geometry),\n",
        "        \"building_count\": count_points_in_polygon(buildings, village.geometry),\n",
        "        \"permanent_building_count\": count_permanent_buildings(buildings, village.geometry),\n",
        "        \"educational_facilities\": count_facility_types(facilities, village.geometry, [\"school\", \"college\", \"kindergarten\"]),\n",
        "        \"health_facilities\": count_facility_types(facilities, village.geometry, [\"hospital\", \"HC II\", \"clinic\"]),\n",
        "        \"social_facilities\": count_facility_types(facilities, village.geometry, [\"place_of_worship\", \"restaurant\", \"public_building\"]),\n",
        "        \"services\": count_facility_types(facilities, village.geometry, [\"bank\", \"fuel\"]),\n",
        "        \"primary_roads\": count_road_types(roads, village.geometry, [\"primary\"]),\n",
        "        \"secondary_roads\": count_road_types(roads, village.geometry, [\"secondary\"]),\n",
        "        \"tertiary_roads\": count_road_types(roads, village.geometry, [\"tertiary\"]),\n",
        "        \"unclassified_roads\": count_road_types(roads, village.geometry, [\"unclassified\"]),\n",
        "        \"percentage_crop_land\": land_use_data[\"percentage_crop_land\"].values[0] if not land_use_data.empty else None,\n",
        "        \"percentage_built_area\": land_use_data[\"percentage_built_area\"].values[0] if not land_use_data.empty else None,\n",
        "        \"contains_protected_area\": protected_area_data[\"contains_protected_area\"].values[0] if not protected_area_data.empty else None,\n",
        "        \"protected_area_name\": protected_area_data[\"protected_area_name\"].values[0] if not protected_area_data.empty else None,\n",
        "        \"electrification_strategy\": electrification_strategy\n",
        "    }\n",
        "    village_data.append(village_info)"
      ],
      "metadata": {
        "id": "1Q8TXPP_mV8L"
      },
      "execution_count": 10,
      "outputs": []
    },
    {
      "cell_type": "markdown",
      "source": [
        "Convert to a pandas dataframe"
      ],
      "metadata": {
        "id": "of7dwVU45e9S"
      }
    },
    {
      "cell_type": "code",
      "source": [
        "df = pd.DataFrame(village_data)\n",
        "df.shape"
      ],
      "metadata": {
        "id": "oetHFxjunEga",
        "colab": {
          "base_uri": "https://localhost:8080/"
        },
        "outputId": "8d9344e0-8e65-40cd-aea7-4559c61bc3a0"
      },
      "execution_count": 11,
      "outputs": [
        {
          "output_type": "execute_result",
          "data": {
            "text/plain": [
              "(411, 24)"
            ]
          },
          "metadata": {},
          "execution_count": 11
        }
      ]
    },
    {
      "cell_type": "code",
      "source": [
        "df.head()"
      ],
      "metadata": {
        "colab": {
          "base_uri": "https://localhost:8080/",
          "height": 325
        },
        "id": "_j7xq3CdowA3",
        "outputId": "4dc7b504-a9f0-446e-834d-e5a89719897a"
      },
      "execution_count": 12,
      "outputs": [
        {
          "output_type": "execute_result",
          "data": {
            "text/plain": [
              "   village_id  candidate_minigrids  existing_minigrids  facilities  \\\n",
              "0     5500895                    0                   0           0   \n",
              "1     5500896                    0                   0           1   \n",
              "2     5500897                    0                   0           0   \n",
              "3     5500898                    0                   0           0   \n",
              "4     5500899                    0                   0           0   \n",
              "\n",
              "   grid_extension  existing_grid  mean_ndvi  mean_wind_speed  \\\n",
              "0               0              0   0.000000         0.000000   \n",
              "1               0              0   0.000000         0.000000   \n",
              "2               0              0   0.000000         0.000000   \n",
              "3               0              0   0.300514         0.895073   \n",
              "4               0              0   0.000000         0.000000   \n",
              "\n",
              "   mean_pvout_solar_radiation  building_count  ...  services  primary_roads  \\\n",
              "0                    0.000000               7  ...         0              0   \n",
              "1                 1563.144571              17  ...         0              0   \n",
              "2                 1561.565267              99  ...         0              0   \n",
              "3                 1587.815039             101  ...         0              0   \n",
              "4                 1618.240479               0  ...         0              0   \n",
              "\n",
              "   secondary_roads  tertiary_roads  unclassified_roads  percentage_crop_land  \\\n",
              "0                0               0                   0             20.356667   \n",
              "1                0               0                   1              3.387500   \n",
              "2                0               0                   0             16.712500   \n",
              "3                0               0                   0             24.385000   \n",
              "4                0               0                   0             20.292500   \n",
              "\n",
              "   percentage_built_area  contains_protected_area         protected_area_name  \\\n",
              "0               1.140000                    False                         NaN   \n",
              "1               0.026667                     True  Agoro - Agu Forest Reserve   \n",
              "2               3.160000                     True  Agoro - Agu Forest Reserve   \n",
              "3               2.506667                     True  Agoro - Agu Forest Reserve   \n",
              "4               0.015000                     True  Agoro - Agu Forest Reserve   \n",
              "\n",
              "   electrification_strategy  \n",
              "0         Solar home system  \n",
              "1         Solar home system  \n",
              "2         Solar home system  \n",
              "3         Solar home system  \n",
              "4         Solar home system  \n",
              "\n",
              "[5 rows x 24 columns]"
            ],
            "text/html": [
              "\n",
              "  <div id=\"df-accbd790-0542-46a2-b81e-97b4a732a249\" class=\"colab-df-container\">\n",
              "    <div>\n",
              "<style scoped>\n",
              "    .dataframe tbody tr th:only-of-type {\n",
              "        vertical-align: middle;\n",
              "    }\n",
              "\n",
              "    .dataframe tbody tr th {\n",
              "        vertical-align: top;\n",
              "    }\n",
              "\n",
              "    .dataframe thead th {\n",
              "        text-align: right;\n",
              "    }\n",
              "</style>\n",
              "<table border=\"1\" class=\"dataframe\">\n",
              "  <thead>\n",
              "    <tr style=\"text-align: right;\">\n",
              "      <th></th>\n",
              "      <th>village_id</th>\n",
              "      <th>candidate_minigrids</th>\n",
              "      <th>existing_minigrids</th>\n",
              "      <th>facilities</th>\n",
              "      <th>grid_extension</th>\n",
              "      <th>existing_grid</th>\n",
              "      <th>mean_ndvi</th>\n",
              "      <th>mean_wind_speed</th>\n",
              "      <th>mean_pvout_solar_radiation</th>\n",
              "      <th>building_count</th>\n",
              "      <th>...</th>\n",
              "      <th>services</th>\n",
              "      <th>primary_roads</th>\n",
              "      <th>secondary_roads</th>\n",
              "      <th>tertiary_roads</th>\n",
              "      <th>unclassified_roads</th>\n",
              "      <th>percentage_crop_land</th>\n",
              "      <th>percentage_built_area</th>\n",
              "      <th>contains_protected_area</th>\n",
              "      <th>protected_area_name</th>\n",
              "      <th>electrification_strategy</th>\n",
              "    </tr>\n",
              "  </thead>\n",
              "  <tbody>\n",
              "    <tr>\n",
              "      <th>0</th>\n",
              "      <td>5500895</td>\n",
              "      <td>0</td>\n",
              "      <td>0</td>\n",
              "      <td>0</td>\n",
              "      <td>0</td>\n",
              "      <td>0</td>\n",
              "      <td>0.000000</td>\n",
              "      <td>0.000000</td>\n",
              "      <td>0.000000</td>\n",
              "      <td>7</td>\n",
              "      <td>...</td>\n",
              "      <td>0</td>\n",
              "      <td>0</td>\n",
              "      <td>0</td>\n",
              "      <td>0</td>\n",
              "      <td>0</td>\n",
              "      <td>20.356667</td>\n",
              "      <td>1.140000</td>\n",
              "      <td>False</td>\n",
              "      <td>NaN</td>\n",
              "      <td>Solar home system</td>\n",
              "    </tr>\n",
              "    <tr>\n",
              "      <th>1</th>\n",
              "      <td>5500896</td>\n",
              "      <td>0</td>\n",
              "      <td>0</td>\n",
              "      <td>1</td>\n",
              "      <td>0</td>\n",
              "      <td>0</td>\n",
              "      <td>0.000000</td>\n",
              "      <td>0.000000</td>\n",
              "      <td>1563.144571</td>\n",
              "      <td>17</td>\n",
              "      <td>...</td>\n",
              "      <td>0</td>\n",
              "      <td>0</td>\n",
              "      <td>0</td>\n",
              "      <td>0</td>\n",
              "      <td>1</td>\n",
              "      <td>3.387500</td>\n",
              "      <td>0.026667</td>\n",
              "      <td>True</td>\n",
              "      <td>Agoro - Agu Forest Reserve</td>\n",
              "      <td>Solar home system</td>\n",
              "    </tr>\n",
              "    <tr>\n",
              "      <th>2</th>\n",
              "      <td>5500897</td>\n",
              "      <td>0</td>\n",
              "      <td>0</td>\n",
              "      <td>0</td>\n",
              "      <td>0</td>\n",
              "      <td>0</td>\n",
              "      <td>0.000000</td>\n",
              "      <td>0.000000</td>\n",
              "      <td>1561.565267</td>\n",
              "      <td>99</td>\n",
              "      <td>...</td>\n",
              "      <td>0</td>\n",
              "      <td>0</td>\n",
              "      <td>0</td>\n",
              "      <td>0</td>\n",
              "      <td>0</td>\n",
              "      <td>16.712500</td>\n",
              "      <td>3.160000</td>\n",
              "      <td>True</td>\n",
              "      <td>Agoro - Agu Forest Reserve</td>\n",
              "      <td>Solar home system</td>\n",
              "    </tr>\n",
              "    <tr>\n",
              "      <th>3</th>\n",
              "      <td>5500898</td>\n",
              "      <td>0</td>\n",
              "      <td>0</td>\n",
              "      <td>0</td>\n",
              "      <td>0</td>\n",
              "      <td>0</td>\n",
              "      <td>0.300514</td>\n",
              "      <td>0.895073</td>\n",
              "      <td>1587.815039</td>\n",
              "      <td>101</td>\n",
              "      <td>...</td>\n",
              "      <td>0</td>\n",
              "      <td>0</td>\n",
              "      <td>0</td>\n",
              "      <td>0</td>\n",
              "      <td>0</td>\n",
              "      <td>24.385000</td>\n",
              "      <td>2.506667</td>\n",
              "      <td>True</td>\n",
              "      <td>Agoro - Agu Forest Reserve</td>\n",
              "      <td>Solar home system</td>\n",
              "    </tr>\n",
              "    <tr>\n",
              "      <th>4</th>\n",
              "      <td>5500899</td>\n",
              "      <td>0</td>\n",
              "      <td>0</td>\n",
              "      <td>0</td>\n",
              "      <td>0</td>\n",
              "      <td>0</td>\n",
              "      <td>0.000000</td>\n",
              "      <td>0.000000</td>\n",
              "      <td>1618.240479</td>\n",
              "      <td>0</td>\n",
              "      <td>...</td>\n",
              "      <td>0</td>\n",
              "      <td>0</td>\n",
              "      <td>0</td>\n",
              "      <td>0</td>\n",
              "      <td>0</td>\n",
              "      <td>20.292500</td>\n",
              "      <td>0.015000</td>\n",
              "      <td>True</td>\n",
              "      <td>Agoro - Agu Forest Reserve</td>\n",
              "      <td>Solar home system</td>\n",
              "    </tr>\n",
              "  </tbody>\n",
              "</table>\n",
              "<p>5 rows × 24 columns</p>\n",
              "</div>\n",
              "    <div class=\"colab-df-buttons\">\n",
              "\n",
              "  <div class=\"colab-df-container\">\n",
              "    <button class=\"colab-df-convert\" onclick=\"convertToInteractive('df-accbd790-0542-46a2-b81e-97b4a732a249')\"\n",
              "            title=\"Convert this dataframe to an interactive table.\"\n",
              "            style=\"display:none;\">\n",
              "\n",
              "  <svg xmlns=\"http://www.w3.org/2000/svg\" height=\"24px\" viewBox=\"0 -960 960 960\">\n",
              "    <path d=\"M120-120v-720h720v720H120Zm60-500h600v-160H180v160Zm220 220h160v-160H400v160Zm0 220h160v-160H400v160ZM180-400h160v-160H180v160Zm440 0h160v-160H620v160ZM180-180h160v-160H180v160Zm440 0h160v-160H620v160Z\"/>\n",
              "  </svg>\n",
              "    </button>\n",
              "\n",
              "  <style>\n",
              "    .colab-df-container {\n",
              "      display:flex;\n",
              "      gap: 12px;\n",
              "    }\n",
              "\n",
              "    .colab-df-convert {\n",
              "      background-color: #E8F0FE;\n",
              "      border: none;\n",
              "      border-radius: 50%;\n",
              "      cursor: pointer;\n",
              "      display: none;\n",
              "      fill: #1967D2;\n",
              "      height: 32px;\n",
              "      padding: 0 0 0 0;\n",
              "      width: 32px;\n",
              "    }\n",
              "\n",
              "    .colab-df-convert:hover {\n",
              "      background-color: #E2EBFA;\n",
              "      box-shadow: 0px 1px 2px rgba(60, 64, 67, 0.3), 0px 1px 3px 1px rgba(60, 64, 67, 0.15);\n",
              "      fill: #174EA6;\n",
              "    }\n",
              "\n",
              "    .colab-df-buttons div {\n",
              "      margin-bottom: 4px;\n",
              "    }\n",
              "\n",
              "    [theme=dark] .colab-df-convert {\n",
              "      background-color: #3B4455;\n",
              "      fill: #D2E3FC;\n",
              "    }\n",
              "\n",
              "    [theme=dark] .colab-df-convert:hover {\n",
              "      background-color: #434B5C;\n",
              "      box-shadow: 0px 1px 3px 1px rgba(0, 0, 0, 0.15);\n",
              "      filter: drop-shadow(0px 1px 2px rgba(0, 0, 0, 0.3));\n",
              "      fill: #FFFFFF;\n",
              "    }\n",
              "  </style>\n",
              "\n",
              "    <script>\n",
              "      const buttonEl =\n",
              "        document.querySelector('#df-accbd790-0542-46a2-b81e-97b4a732a249 button.colab-df-convert');\n",
              "      buttonEl.style.display =\n",
              "        google.colab.kernel.accessAllowed ? 'block' : 'none';\n",
              "\n",
              "      async function convertToInteractive(key) {\n",
              "        const element = document.querySelector('#df-accbd790-0542-46a2-b81e-97b4a732a249');\n",
              "        const dataTable =\n",
              "          await google.colab.kernel.invokeFunction('convertToInteractive',\n",
              "                                                    [key], {});\n",
              "        if (!dataTable) return;\n",
              "\n",
              "        const docLinkHtml = 'Like what you see? Visit the ' +\n",
              "          '<a target=\"_blank\" href=https://colab.research.google.com/notebooks/data_table.ipynb>data table notebook</a>'\n",
              "          + ' to learn more about interactive tables.';\n",
              "        element.innerHTML = '';\n",
              "        dataTable['output_type'] = 'display_data';\n",
              "        await google.colab.output.renderOutput(dataTable, element);\n",
              "        const docLink = document.createElement('div');\n",
              "        docLink.innerHTML = docLinkHtml;\n",
              "        element.appendChild(docLink);\n",
              "      }\n",
              "    </script>\n",
              "  </div>\n",
              "\n",
              "\n",
              "<div id=\"df-1c20f83d-d531-4423-9cdf-e82f624e7d7a\">\n",
              "  <button class=\"colab-df-quickchart\" onclick=\"quickchart('df-1c20f83d-d531-4423-9cdf-e82f624e7d7a')\"\n",
              "            title=\"Suggest charts\"\n",
              "            style=\"display:none;\">\n",
              "\n",
              "<svg xmlns=\"http://www.w3.org/2000/svg\" height=\"24px\"viewBox=\"0 0 24 24\"\n",
              "     width=\"24px\">\n",
              "    <g>\n",
              "        <path d=\"M19 3H5c-1.1 0-2 .9-2 2v14c0 1.1.9 2 2 2h14c1.1 0 2-.9 2-2V5c0-1.1-.9-2-2-2zM9 17H7v-7h2v7zm4 0h-2V7h2v10zm4 0h-2v-4h2v4z\"/>\n",
              "    </g>\n",
              "</svg>\n",
              "  </button>\n",
              "\n",
              "<style>\n",
              "  .colab-df-quickchart {\n",
              "      --bg-color: #E8F0FE;\n",
              "      --fill-color: #1967D2;\n",
              "      --hover-bg-color: #E2EBFA;\n",
              "      --hover-fill-color: #174EA6;\n",
              "      --disabled-fill-color: #AAA;\n",
              "      --disabled-bg-color: #DDD;\n",
              "  }\n",
              "\n",
              "  [theme=dark] .colab-df-quickchart {\n",
              "      --bg-color: #3B4455;\n",
              "      --fill-color: #D2E3FC;\n",
              "      --hover-bg-color: #434B5C;\n",
              "      --hover-fill-color: #FFFFFF;\n",
              "      --disabled-bg-color: #3B4455;\n",
              "      --disabled-fill-color: #666;\n",
              "  }\n",
              "\n",
              "  .colab-df-quickchart {\n",
              "    background-color: var(--bg-color);\n",
              "    border: none;\n",
              "    border-radius: 50%;\n",
              "    cursor: pointer;\n",
              "    display: none;\n",
              "    fill: var(--fill-color);\n",
              "    height: 32px;\n",
              "    padding: 0;\n",
              "    width: 32px;\n",
              "  }\n",
              "\n",
              "  .colab-df-quickchart:hover {\n",
              "    background-color: var(--hover-bg-color);\n",
              "    box-shadow: 0 1px 2px rgba(60, 64, 67, 0.3), 0 1px 3px 1px rgba(60, 64, 67, 0.15);\n",
              "    fill: var(--button-hover-fill-color);\n",
              "  }\n",
              "\n",
              "  .colab-df-quickchart-complete:disabled,\n",
              "  .colab-df-quickchart-complete:disabled:hover {\n",
              "    background-color: var(--disabled-bg-color);\n",
              "    fill: var(--disabled-fill-color);\n",
              "    box-shadow: none;\n",
              "  }\n",
              "\n",
              "  .colab-df-spinner {\n",
              "    border: 2px solid var(--fill-color);\n",
              "    border-color: transparent;\n",
              "    border-bottom-color: var(--fill-color);\n",
              "    animation:\n",
              "      spin 1s steps(1) infinite;\n",
              "  }\n",
              "\n",
              "  @keyframes spin {\n",
              "    0% {\n",
              "      border-color: transparent;\n",
              "      border-bottom-color: var(--fill-color);\n",
              "      border-left-color: var(--fill-color);\n",
              "    }\n",
              "    20% {\n",
              "      border-color: transparent;\n",
              "      border-left-color: var(--fill-color);\n",
              "      border-top-color: var(--fill-color);\n",
              "    }\n",
              "    30% {\n",
              "      border-color: transparent;\n",
              "      border-left-color: var(--fill-color);\n",
              "      border-top-color: var(--fill-color);\n",
              "      border-right-color: var(--fill-color);\n",
              "    }\n",
              "    40% {\n",
              "      border-color: transparent;\n",
              "      border-right-color: var(--fill-color);\n",
              "      border-top-color: var(--fill-color);\n",
              "    }\n",
              "    60% {\n",
              "      border-color: transparent;\n",
              "      border-right-color: var(--fill-color);\n",
              "    }\n",
              "    80% {\n",
              "      border-color: transparent;\n",
              "      border-right-color: var(--fill-color);\n",
              "      border-bottom-color: var(--fill-color);\n",
              "    }\n",
              "    90% {\n",
              "      border-color: transparent;\n",
              "      border-bottom-color: var(--fill-color);\n",
              "    }\n",
              "  }\n",
              "</style>\n",
              "\n",
              "  <script>\n",
              "    async function quickchart(key) {\n",
              "      const quickchartButtonEl =\n",
              "        document.querySelector('#' + key + ' button');\n",
              "      quickchartButtonEl.disabled = true;  // To prevent multiple clicks.\n",
              "      quickchartButtonEl.classList.add('colab-df-spinner');\n",
              "      try {\n",
              "        const charts = await google.colab.kernel.invokeFunction(\n",
              "            'suggestCharts', [key], {});\n",
              "      } catch (error) {\n",
              "        console.error('Error during call to suggestCharts:', error);\n",
              "      }\n",
              "      quickchartButtonEl.classList.remove('colab-df-spinner');\n",
              "      quickchartButtonEl.classList.add('colab-df-quickchart-complete');\n",
              "    }\n",
              "    (() => {\n",
              "      let quickchartButtonEl =\n",
              "        document.querySelector('#df-1c20f83d-d531-4423-9cdf-e82f624e7d7a button');\n",
              "      quickchartButtonEl.style.display =\n",
              "        google.colab.kernel.accessAllowed ? 'block' : 'none';\n",
              "    })();\n",
              "  </script>\n",
              "</div>\n",
              "\n",
              "    </div>\n",
              "  </div>\n"
            ],
            "application/vnd.google.colaboratory.intrinsic+json": {
              "type": "dataframe",
              "variable_name": "df"
            }
          },
          "metadata": {},
          "execution_count": 12
        }
      ]
    },
    {
      "cell_type": "markdown",
      "source": [
        "Extracted features"
      ],
      "metadata": {
        "id": "arxVARMt7rSK"
      }
    },
    {
      "cell_type": "code",
      "source": [
        "df.columns"
      ],
      "metadata": {
        "colab": {
          "base_uri": "https://localhost:8080/"
        },
        "id": "cSpm5Ntt7fgx",
        "outputId": "e5c92bd7-ba38-42d6-b12a-61718278d3b3"
      },
      "execution_count": 16,
      "outputs": [
        {
          "output_type": "execute_result",
          "data": {
            "text/plain": [
              "Index(['village_id', 'candidate_minigrids', 'existing_minigrids', 'facilities',\n",
              "       'grid_extension', 'existing_grid', 'mean_ndvi', 'mean_wind_speed',\n",
              "       'mean_pvout_solar_radiation', 'building_count',\n",
              "       'permanent_building_count', 'educational_facilities',\n",
              "       'health_facilities', 'social_facilities', 'services', 'primary_roads',\n",
              "       'secondary_roads', 'tertiary_roads', 'unclassified_roads',\n",
              "       'percentage_crop_land', 'percentage_built_area',\n",
              "       'contains_protected_area', 'protected_area_name',\n",
              "       'electrification_strategy'],\n",
              "      dtype='object')"
            ]
          },
          "metadata": {},
          "execution_count": 16
        }
      ]
    },
    {
      "cell_type": "markdown",
      "source": [
        "Save extracted data."
      ],
      "metadata": {
        "id": "bcl_7_xr59NQ"
      }
    },
    {
      "cell_type": "code",
      "source": [
        "df.to_csv(\"village_data.csv\", index=False)"
      ],
      "metadata": {
        "id": "A_8wNzu0o_dg"
      },
      "execution_count": 17,
      "outputs": []
    }
  ]
}